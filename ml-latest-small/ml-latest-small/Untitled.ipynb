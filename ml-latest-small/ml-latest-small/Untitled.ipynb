{
 "cells": [
  {
   "cell_type": "markdown",
   "id": "21c72aa9",
   "metadata": {},
   "source": [
    "Data set 2 "
   ]
  },
  {
   "cell_type": "code",
   "execution_count": 2,
   "id": "00fc5cae",
   "metadata": {},
   "outputs": [],
   "source": [
    "\n",
    "import pandas as pd \n",
    "from datetime import datetime \n",
    "import seaborn as sns \n",
    "import matplotlib.pyplot as plt\n",
    "import pandas as pd \n",
    "from datetime import datetime \n",
    "import seaborn as sns \n",
    "import matplotlib.pyplot as plt\n",
    "\n",
    "\n",
    "# Reading the movies dataset \n",
    "df_movies = pd.read_csv('movies.csv')\n",
    "# df_movies.head()\n",
    "\n",
    "\n",
    "\n",
    "# Reading the ratings dataset \n",
    "df_ratings = pd.read_csv('ratings.csv')\n",
    "# df_ratings.head()\n"
   ]
  },
  {
   "cell_type": "code",
   "execution_count": 3,
   "id": "bd56a458",
   "metadata": {},
   "outputs": [
    {
     "data": {
      "text/html": [
       "<div>\n",
       "<style scoped>\n",
       "    .dataframe tbody tr th:only-of-type {\n",
       "        vertical-align: middle;\n",
       "    }\n",
       "\n",
       "    .dataframe tbody tr th {\n",
       "        vertical-align: top;\n",
       "    }\n",
       "\n",
       "    .dataframe thead th {\n",
       "        text-align: right;\n",
       "    }\n",
       "</style>\n",
       "<table border=\"1\" class=\"dataframe\">\n",
       "  <thead>\n",
       "    <tr style=\"text-align: right;\">\n",
       "      <th></th>\n",
       "      <th>movieId</th>\n",
       "      <th>title</th>\n",
       "      <th>genres</th>\n",
       "    </tr>\n",
       "  </thead>\n",
       "  <tbody>\n",
       "    <tr>\n",
       "      <th>0</th>\n",
       "      <td>1</td>\n",
       "      <td>Toy Story (1995)</td>\n",
       "      <td>Adventure|Animation|Children|Comedy|Fantasy</td>\n",
       "    </tr>\n",
       "    <tr>\n",
       "      <th>1</th>\n",
       "      <td>2</td>\n",
       "      <td>Jumanji (1995)</td>\n",
       "      <td>Adventure|Children|Fantasy</td>\n",
       "    </tr>\n",
       "    <tr>\n",
       "      <th>2</th>\n",
       "      <td>3</td>\n",
       "      <td>Grumpier Old Men (1995)</td>\n",
       "      <td>Comedy|Romance</td>\n",
       "    </tr>\n",
       "    <tr>\n",
       "      <th>3</th>\n",
       "      <td>4</td>\n",
       "      <td>Waiting to Exhale (1995)</td>\n",
       "      <td>Comedy|Drama|Romance</td>\n",
       "    </tr>\n",
       "    <tr>\n",
       "      <th>4</th>\n",
       "      <td>5</td>\n",
       "      <td>Father of the Bride Part II (1995)</td>\n",
       "      <td>Comedy</td>\n",
       "    </tr>\n",
       "  </tbody>\n",
       "</table>\n",
       "</div>"
      ],
      "text/plain": [
       "   movieId                               title   \n",
       "0        1                    Toy Story (1995)  \\\n",
       "1        2                      Jumanji (1995)   \n",
       "2        3             Grumpier Old Men (1995)   \n",
       "3        4            Waiting to Exhale (1995)   \n",
       "4        5  Father of the Bride Part II (1995)   \n",
       "\n",
       "                                        genres  \n",
       "0  Adventure|Animation|Children|Comedy|Fantasy  \n",
       "1                   Adventure|Children|Fantasy  \n",
       "2                               Comedy|Romance  \n",
       "3                         Comedy|Drama|Romance  \n",
       "4                                       Comedy  "
      ]
     },
     "execution_count": 3,
     "metadata": {},
     "output_type": "execute_result"
    }
   ],
   "source": [
    "df_movies.head()"
   ]
  },
  {
   "cell_type": "code",
   "execution_count": 4,
   "id": "a388ae4e",
   "metadata": {
    "scrolled": true
   },
   "outputs": [
    {
     "data": {
      "text/html": [
       "<div>\n",
       "<style scoped>\n",
       "    .dataframe tbody tr th:only-of-type {\n",
       "        vertical-align: middle;\n",
       "    }\n",
       "\n",
       "    .dataframe tbody tr th {\n",
       "        vertical-align: top;\n",
       "    }\n",
       "\n",
       "    .dataframe thead th {\n",
       "        text-align: right;\n",
       "    }\n",
       "</style>\n",
       "<table border=\"1\" class=\"dataframe\">\n",
       "  <thead>\n",
       "    <tr style=\"text-align: right;\">\n",
       "      <th></th>\n",
       "      <th>userId</th>\n",
       "      <th>movieId</th>\n",
       "      <th>rating</th>\n",
       "      <th>timestamp</th>\n",
       "    </tr>\n",
       "  </thead>\n",
       "  <tbody>\n",
       "    <tr>\n",
       "      <th>0</th>\n",
       "      <td>1</td>\n",
       "      <td>1</td>\n",
       "      <td>4.0</td>\n",
       "      <td>964982703</td>\n",
       "    </tr>\n",
       "    <tr>\n",
       "      <th>1</th>\n",
       "      <td>1</td>\n",
       "      <td>3</td>\n",
       "      <td>4.0</td>\n",
       "      <td>964981247</td>\n",
       "    </tr>\n",
       "    <tr>\n",
       "      <th>2</th>\n",
       "      <td>1</td>\n",
       "      <td>6</td>\n",
       "      <td>4.0</td>\n",
       "      <td>964982224</td>\n",
       "    </tr>\n",
       "    <tr>\n",
       "      <th>3</th>\n",
       "      <td>1</td>\n",
       "      <td>47</td>\n",
       "      <td>5.0</td>\n",
       "      <td>964983815</td>\n",
       "    </tr>\n",
       "    <tr>\n",
       "      <th>4</th>\n",
       "      <td>1</td>\n",
       "      <td>50</td>\n",
       "      <td>5.0</td>\n",
       "      <td>964982931</td>\n",
       "    </tr>\n",
       "  </tbody>\n",
       "</table>\n",
       "</div>"
      ],
      "text/plain": [
       "   userId  movieId  rating  timestamp\n",
       "0       1        1     4.0  964982703\n",
       "1       1        3     4.0  964981247\n",
       "2       1        6     4.0  964982224\n",
       "3       1       47     5.0  964983815\n",
       "4       1       50     5.0  964982931"
      ]
     },
     "execution_count": 4,
     "metadata": {},
     "output_type": "execute_result"
    }
   ],
   "source": [
    "df_ratings.head()"
   ]
  },
  {
   "cell_type": "code",
   "execution_count": 7,
   "id": "643f27c9",
   "metadata": {},
   "outputs": [
    {
     "data": {
      "text/html": [
       "<div>\n",
       "<style scoped>\n",
       "    .dataframe tbody tr th:only-of-type {\n",
       "        vertical-align: middle;\n",
       "    }\n",
       "\n",
       "    .dataframe tbody tr th {\n",
       "        vertical-align: top;\n",
       "    }\n",
       "\n",
       "    .dataframe thead th {\n",
       "        text-align: right;\n",
       "    }\n",
       "</style>\n",
       "<table border=\"1\" class=\"dataframe\">\n",
       "  <thead>\n",
       "    <tr style=\"text-align: right;\">\n",
       "      <th></th>\n",
       "      <th>movieId</th>\n",
       "      <th>title</th>\n",
       "      <th>genres</th>\n",
       "      <th>userId</th>\n",
       "      <th>rating</th>\n",
       "      <th>timestamp</th>\n",
       "    </tr>\n",
       "  </thead>\n",
       "  <tbody>\n",
       "    <tr>\n",
       "      <th>0</th>\n",
       "      <td>1</td>\n",
       "      <td>Toy Story (1995)</td>\n",
       "      <td>Adventure|Animation|Children|Comedy|Fantasy</td>\n",
       "      <td>1.0</td>\n",
       "      <td>4.0</td>\n",
       "      <td>9.649827e+08</td>\n",
       "    </tr>\n",
       "    <tr>\n",
       "      <th>1</th>\n",
       "      <td>1</td>\n",
       "      <td>Toy Story (1995)</td>\n",
       "      <td>Adventure|Animation|Children|Comedy|Fantasy</td>\n",
       "      <td>5.0</td>\n",
       "      <td>4.0</td>\n",
       "      <td>8.474350e+08</td>\n",
       "    </tr>\n",
       "    <tr>\n",
       "      <th>2</th>\n",
       "      <td>1</td>\n",
       "      <td>Toy Story (1995)</td>\n",
       "      <td>Adventure|Animation|Children|Comedy|Fantasy</td>\n",
       "      <td>7.0</td>\n",
       "      <td>4.5</td>\n",
       "      <td>1.106636e+09</td>\n",
       "    </tr>\n",
       "    <tr>\n",
       "      <th>3</th>\n",
       "      <td>1</td>\n",
       "      <td>Toy Story (1995)</td>\n",
       "      <td>Adventure|Animation|Children|Comedy|Fantasy</td>\n",
       "      <td>15.0</td>\n",
       "      <td>2.5</td>\n",
       "      <td>1.510578e+09</td>\n",
       "    </tr>\n",
       "    <tr>\n",
       "      <th>4</th>\n",
       "      <td>1</td>\n",
       "      <td>Toy Story (1995)</td>\n",
       "      <td>Adventure|Animation|Children|Comedy|Fantasy</td>\n",
       "      <td>17.0</td>\n",
       "      <td>4.5</td>\n",
       "      <td>1.305696e+09</td>\n",
       "    </tr>\n",
       "  </tbody>\n",
       "</table>\n",
       "</div>"
      ],
      "text/plain": [
       "   movieId             title                                       genres   \n",
       "0        1  Toy Story (1995)  Adventure|Animation|Children|Comedy|Fantasy  \\\n",
       "1        1  Toy Story (1995)  Adventure|Animation|Children|Comedy|Fantasy   \n",
       "2        1  Toy Story (1995)  Adventure|Animation|Children|Comedy|Fantasy   \n",
       "3        1  Toy Story (1995)  Adventure|Animation|Children|Comedy|Fantasy   \n",
       "4        1  Toy Story (1995)  Adventure|Animation|Children|Comedy|Fantasy   \n",
       "\n",
       "   userId  rating     timestamp  \n",
       "0     1.0     4.0  9.649827e+08  \n",
       "1     5.0     4.0  8.474350e+08  \n",
       "2     7.0     4.5  1.106636e+09  \n",
       "3    15.0     2.5  1.510578e+09  \n",
       "4    17.0     4.5  1.305696e+09  "
      ]
     },
     "execution_count": 7,
     "metadata": {},
     "output_type": "execute_result"
    }
   ],
   "source": [
    "df_.head()"
   ]
  },
  {
   "cell_type": "code",
   "execution_count": 6,
   "id": "901838c0",
   "metadata": {},
   "outputs": [
    {
     "data": {
      "text/html": [
       "<div>\n",
       "<style scoped>\n",
       "    .dataframe tbody tr th:only-of-type {\n",
       "        vertical-align: middle;\n",
       "    }\n",
       "\n",
       "    .dataframe tbody tr th {\n",
       "        vertical-align: top;\n",
       "    }\n",
       "\n",
       "    .dataframe thead th {\n",
       "        text-align: right;\n",
       "    }\n",
       "</style>\n",
       "<table border=\"1\" class=\"dataframe\">\n",
       "  <thead>\n",
       "    <tr style=\"text-align: right;\">\n",
       "      <th></th>\n",
       "      <th>movieId</th>\n",
       "      <th>title</th>\n",
       "      <th>genres</th>\n",
       "      <th>userId</th>\n",
       "      <th>rating</th>\n",
       "      <th>timestamp</th>\n",
       "    </tr>\n",
       "  </thead>\n",
       "  <tbody>\n",
       "    <tr>\n",
       "      <th>0</th>\n",
       "      <td>1</td>\n",
       "      <td>Toy Story (1995)</td>\n",
       "      <td>Adventure|Animation|Children|Comedy|Fantasy</td>\n",
       "      <td>1.0</td>\n",
       "      <td>4.0</td>\n",
       "      <td>9.649827e+08</td>\n",
       "    </tr>\n",
       "    <tr>\n",
       "      <th>1</th>\n",
       "      <td>1</td>\n",
       "      <td>Toy Story (1995)</td>\n",
       "      <td>Adventure|Animation|Children|Comedy|Fantasy</td>\n",
       "      <td>5.0</td>\n",
       "      <td>4.0</td>\n",
       "      <td>8.474350e+08</td>\n",
       "    </tr>\n",
       "    <tr>\n",
       "      <th>2</th>\n",
       "      <td>1</td>\n",
       "      <td>Toy Story (1995)</td>\n",
       "      <td>Adventure|Animation|Children|Comedy|Fantasy</td>\n",
       "      <td>7.0</td>\n",
       "      <td>4.5</td>\n",
       "      <td>1.106636e+09</td>\n",
       "    </tr>\n",
       "    <tr>\n",
       "      <th>3</th>\n",
       "      <td>1</td>\n",
       "      <td>Toy Story (1995)</td>\n",
       "      <td>Adventure|Animation|Children|Comedy|Fantasy</td>\n",
       "      <td>15.0</td>\n",
       "      <td>2.5</td>\n",
       "      <td>1.510578e+09</td>\n",
       "    </tr>\n",
       "    <tr>\n",
       "      <th>4</th>\n",
       "      <td>1</td>\n",
       "      <td>Toy Story (1995)</td>\n",
       "      <td>Adventure|Animation|Children|Comedy|Fantasy</td>\n",
       "      <td>17.0</td>\n",
       "      <td>4.5</td>\n",
       "      <td>1.305696e+09</td>\n",
       "    </tr>\n",
       "  </tbody>\n",
       "</table>\n",
       "</div>"
      ],
      "text/plain": [
       "   movieId             title                                       genres   \n",
       "0        1  Toy Story (1995)  Adventure|Animation|Children|Comedy|Fantasy  \\\n",
       "1        1  Toy Story (1995)  Adventure|Animation|Children|Comedy|Fantasy   \n",
       "2        1  Toy Story (1995)  Adventure|Animation|Children|Comedy|Fantasy   \n",
       "3        1  Toy Story (1995)  Adventure|Animation|Children|Comedy|Fantasy   \n",
       "4        1  Toy Story (1995)  Adventure|Animation|Children|Comedy|Fantasy   \n",
       "\n",
       "   userId  rating     timestamp  \n",
       "0     1.0     4.0  9.649827e+08  \n",
       "1     5.0     4.0  8.474350e+08  \n",
       "2     7.0     4.5  1.106636e+09  \n",
       "3    15.0     2.5  1.510578e+09  \n",
       "4    17.0     4.5  1.305696e+09  "
      ]
     },
     "execution_count": 6,
     "metadata": {},
     "output_type": "execute_result"
    }
   ],
   "source": [
    "# Merging the df_ to keep as a copy #Immortal copy#\n",
    "df_ = df_movies.merge(df_ratings, how=\"left\", on=\"movieId\")\n",
    "\n",
    "# Help keep a copy of my dataframe intact for safe keep and work on the copied one \n",
    "df = df_.copy()\n",
    "\n",
    "df.head()"
   ]
  },
  {
   "cell_type": "markdown",
   "id": "a84c8810",
   "metadata": {},
   "source": [
    "If we want to come up with a good recommender it would be better if we would separate the good rated movies and the bad rated movies in different variables like `less_rated` and `better_rated`.\n",
    "\n",
    "Hence the essence of separating less-rated from better-rated movies in a recommendation system is to imporve the quality of recommendations.\n",
    "\n",
    "It serves the following important purposes:\n",
    "- `Focus on Quality Recommendations`: By excluding movies with less ratings, the recommendation system can focus on suggesting movies that have been positively rated leading to a higher-quality recommendations that align with users prefrence.\n",
    "\n",
    "- `Noise Reeduction` : Movies with very few ratings can introduce noise into the recommendation process, hence, including these movies may result in unreliable recommendations beacuse ther isn't enough data to make accurate predictions."
   ]
  },
  {
   "cell_type": "code",
   "execution_count": 278,
   "id": "0db064ef",
   "metadata": {
    "scrolled": true
   },
   "outputs": [
    {
     "data": {
      "text/plain": [
       "title\n",
       "Forrest Gump (1994)                 329\n",
       "Shawshank Redemption, The (1994)    317\n",
       "Pulp Fiction (1994)                 307\n",
       "Silence of the Lambs, The (1991)    279\n",
       "Name: count, dtype: int64"
      ]
     },
     "execution_count": 278,
     "metadata": {},
     "output_type": "execute_result"
    }
   ],
   "source": [
    "df['title'].value_counts().head(4)"
   ]
  },
  {
   "cell_type": "code",
   "execution_count": 218,
   "id": "9d6edede",
   "metadata": {
    "scrolled": false
   },
   "outputs": [
    {
     "data": {
      "text/plain": [
       "Index(['movieId', 'title', 'genres', 'userId', 'rating', 'timestamp'], dtype='object')"
      ]
     },
     "execution_count": 218,
     "metadata": {},
     "output_type": "execute_result"
    }
   ],
   "source": [
    "df.columns"
   ]
  },
  {
   "cell_type": "code",
   "execution_count": 231,
   "id": "75db4e8f",
   "metadata": {
    "scrolled": false
   },
   "outputs": [
    {
     "data": {
      "text/html": [
       "<div>\n",
       "<style scoped>\n",
       "    .dataframe tbody tr th:only-of-type {\n",
       "        vertical-align: middle;\n",
       "    }\n",
       "\n",
       "    .dataframe tbody tr th {\n",
       "        vertical-align: top;\n",
       "    }\n",
       "\n",
       "    .dataframe thead th {\n",
       "        text-align: right;\n",
       "    }\n",
       "</style>\n",
       "<table border=\"1\" class=\"dataframe\">\n",
       "  <thead>\n",
       "    <tr style=\"text-align: right;\">\n",
       "      <th></th>\n",
       "      <th>movieId</th>\n",
       "      <th>title</th>\n",
       "      <th>genres</th>\n",
       "      <th>userId</th>\n",
       "      <th>rating</th>\n",
       "      <th>timestamp</th>\n",
       "    </tr>\n",
       "  </thead>\n",
       "  <tbody>\n",
       "    <tr>\n",
       "      <th>0</th>\n",
       "      <td>1</td>\n",
       "      <td>Toy Story (1995)</td>\n",
       "      <td>Adventure|Animation|Children|Comedy|Fantasy</td>\n",
       "      <td>1.0</td>\n",
       "      <td>4.0</td>\n",
       "      <td>9.649827e+08</td>\n",
       "    </tr>\n",
       "    <tr>\n",
       "      <th>1</th>\n",
       "      <td>1</td>\n",
       "      <td>Toy Story (1995)</td>\n",
       "      <td>Adventure|Animation|Children|Comedy|Fantasy</td>\n",
       "      <td>5.0</td>\n",
       "      <td>4.0</td>\n",
       "      <td>8.474350e+08</td>\n",
       "    </tr>\n",
       "    <tr>\n",
       "      <th>2</th>\n",
       "      <td>1</td>\n",
       "      <td>Toy Story (1995)</td>\n",
       "      <td>Adventure|Animation|Children|Comedy|Fantasy</td>\n",
       "      <td>7.0</td>\n",
       "      <td>4.5</td>\n",
       "      <td>1.106636e+09</td>\n",
       "    </tr>\n",
       "    <tr>\n",
       "      <th>3</th>\n",
       "      <td>1</td>\n",
       "      <td>Toy Story (1995)</td>\n",
       "      <td>Adventure|Animation|Children|Comedy|Fantasy</td>\n",
       "      <td>15.0</td>\n",
       "      <td>2.5</td>\n",
       "      <td>1.510578e+09</td>\n",
       "    </tr>\n",
       "    <tr>\n",
       "      <th>4</th>\n",
       "      <td>1</td>\n",
       "      <td>Toy Story (1995)</td>\n",
       "      <td>Adventure|Animation|Children|Comedy|Fantasy</td>\n",
       "      <td>17.0</td>\n",
       "      <td>4.5</td>\n",
       "      <td>1.305696e+09</td>\n",
       "    </tr>\n",
       "  </tbody>\n",
       "</table>\n",
       "</div>"
      ],
      "text/plain": [
       "   movieId             title                                       genres   \n",
       "0        1  Toy Story (1995)  Adventure|Animation|Children|Comedy|Fantasy  \\\n",
       "1        1  Toy Story (1995)  Adventure|Animation|Children|Comedy|Fantasy   \n",
       "2        1  Toy Story (1995)  Adventure|Animation|Children|Comedy|Fantasy   \n",
       "3        1  Toy Story (1995)  Adventure|Animation|Children|Comedy|Fantasy   \n",
       "4        1  Toy Story (1995)  Adventure|Animation|Children|Comedy|Fantasy   \n",
       "\n",
       "   userId  rating     timestamp  \n",
       "0     1.0     4.0  9.649827e+08  \n",
       "1     5.0     4.0  8.474350e+08  \n",
       "2     7.0     4.5  1.106636e+09  \n",
       "3    15.0     2.5  1.510578e+09  \n",
       "4    17.0     4.5  1.305696e+09  "
      ]
     },
     "execution_count": 231,
     "metadata": {},
     "output_type": "execute_result"
    }
   ],
   "source": [
    "df.head()"
   ]
  },
  {
   "cell_type": "code",
   "execution_count": 220,
   "id": "f0761d54",
   "metadata": {},
   "outputs": [],
   "source": [
    "import pandas as pd\n",
    "\n",
    "def create_user_movie_df(df):\n",
    "    # Count the number of ratings for each movie\n",
    "    rating_counts = df['title'].value_counts()\n",
    "\n",
    "    # Calculate the 90th percentile of rating counts\n",
    "    limit_90 = rating_counts.quantile(0.90)\n",
    "\n",
    "    # Filter out rare movies based on the 90th percentile\n",
    "    common_movies = df[df.groupby('title')['title'].transform('count') > limit_90]\n",
    "\n",
    "    # Create a user-movie pivot table\n",
    "    user_movie_df = common_movies.pivot_table(index=\"userId\", columns='title', values=\"rating\")\n",
    "\n",
    "    return user_movie_df\n",
    "\n",
    "# # Call the function with your DataFrame 'df'\n",
    "# user_movie_df = create_user_movie_df(df)\n",
    "\n",
    "# # Display the first few rows of the resulting user-movie DataFrame\n",
    "# user_movie_df.head()\n"
   ]
  },
  {
   "cell_type": "code",
   "execution_count": 221,
   "id": "74ca20cc",
   "metadata": {},
   "outputs": [
    {
     "data": {
      "text/html": [
       "<div>\n",
       "<style scoped>\n",
       "    .dataframe tbody tr th:only-of-type {\n",
       "        vertical-align: middle;\n",
       "    }\n",
       "\n",
       "    .dataframe tbody tr th {\n",
       "        vertical-align: top;\n",
       "    }\n",
       "\n",
       "    .dataframe thead th {\n",
       "        text-align: right;\n",
       "    }\n",
       "</style>\n",
       "<table border=\"1\" class=\"dataframe\">\n",
       "  <thead>\n",
       "    <tr style=\"text-align: right;\">\n",
       "      <th>title</th>\n",
       "      <th>(500) Days of Summer (2009)</th>\n",
       "      <th>10 Things I Hate About You (1999)</th>\n",
       "      <th>101 Dalmatians (1996)</th>\n",
       "      <th>101 Dalmatians (One Hundred and One Dalmatians) (1961)</th>\n",
       "      <th>12 Angry Men (1957)</th>\n",
       "      <th>2001: A Space Odyssey (1968)</th>\n",
       "      <th>28 Days Later (2002)</th>\n",
       "      <th>300 (2007)</th>\n",
       "      <th>40-Year-Old Virgin, The (2005)</th>\n",
       "      <th>50 First Dates (2004)</th>\n",
       "      <th>...</th>\n",
       "      <th>X-Men: First Class (2011)</th>\n",
       "      <th>X-Men: The Last Stand (2006)</th>\n",
       "      <th>X2: X-Men United (2003)</th>\n",
       "      <th>Yes Man (2008)</th>\n",
       "      <th>You've Got Mail (1998)</th>\n",
       "      <th>Young Frankenstein (1974)</th>\n",
       "      <th>Zodiac (2007)</th>\n",
       "      <th>Zombieland (2009)</th>\n",
       "      <th>Zoolander (2001)</th>\n",
       "      <th>Zootopia (2016)</th>\n",
       "    </tr>\n",
       "    <tr>\n",
       "      <th>userId</th>\n",
       "      <th></th>\n",
       "      <th></th>\n",
       "      <th></th>\n",
       "      <th></th>\n",
       "      <th></th>\n",
       "      <th></th>\n",
       "      <th></th>\n",
       "      <th></th>\n",
       "      <th></th>\n",
       "      <th></th>\n",
       "      <th></th>\n",
       "      <th></th>\n",
       "      <th></th>\n",
       "      <th></th>\n",
       "      <th></th>\n",
       "      <th></th>\n",
       "      <th></th>\n",
       "      <th></th>\n",
       "      <th></th>\n",
       "      <th></th>\n",
       "      <th></th>\n",
       "    </tr>\n",
       "  </thead>\n",
       "  <tbody>\n",
       "    <tr>\n",
       "      <th>1.0</th>\n",
       "      <td>NaN</td>\n",
       "      <td>NaN</td>\n",
       "      <td>NaN</td>\n",
       "      <td>NaN</td>\n",
       "      <td>NaN</td>\n",
       "      <td>NaN</td>\n",
       "      <td>NaN</td>\n",
       "      <td>NaN</td>\n",
       "      <td>NaN</td>\n",
       "      <td>NaN</td>\n",
       "      <td>...</td>\n",
       "      <td>NaN</td>\n",
       "      <td>NaN</td>\n",
       "      <td>NaN</td>\n",
       "      <td>NaN</td>\n",
       "      <td>NaN</td>\n",
       "      <td>5.0</td>\n",
       "      <td>NaN</td>\n",
       "      <td>NaN</td>\n",
       "      <td>NaN</td>\n",
       "      <td>NaN</td>\n",
       "    </tr>\n",
       "    <tr>\n",
       "      <th>2.0</th>\n",
       "      <td>NaN</td>\n",
       "      <td>NaN</td>\n",
       "      <td>NaN</td>\n",
       "      <td>NaN</td>\n",
       "      <td>NaN</td>\n",
       "      <td>NaN</td>\n",
       "      <td>NaN</td>\n",
       "      <td>NaN</td>\n",
       "      <td>NaN</td>\n",
       "      <td>NaN</td>\n",
       "      <td>...</td>\n",
       "      <td>NaN</td>\n",
       "      <td>NaN</td>\n",
       "      <td>NaN</td>\n",
       "      <td>NaN</td>\n",
       "      <td>NaN</td>\n",
       "      <td>NaN</td>\n",
       "      <td>NaN</td>\n",
       "      <td>3.0</td>\n",
       "      <td>NaN</td>\n",
       "      <td>NaN</td>\n",
       "    </tr>\n",
       "    <tr>\n",
       "      <th>3.0</th>\n",
       "      <td>NaN</td>\n",
       "      <td>NaN</td>\n",
       "      <td>NaN</td>\n",
       "      <td>NaN</td>\n",
       "      <td>NaN</td>\n",
       "      <td>NaN</td>\n",
       "      <td>NaN</td>\n",
       "      <td>NaN</td>\n",
       "      <td>NaN</td>\n",
       "      <td>NaN</td>\n",
       "      <td>...</td>\n",
       "      <td>NaN</td>\n",
       "      <td>NaN</td>\n",
       "      <td>NaN</td>\n",
       "      <td>NaN</td>\n",
       "      <td>0.5</td>\n",
       "      <td>NaN</td>\n",
       "      <td>NaN</td>\n",
       "      <td>NaN</td>\n",
       "      <td>NaN</td>\n",
       "      <td>NaN</td>\n",
       "    </tr>\n",
       "    <tr>\n",
       "      <th>4.0</th>\n",
       "      <td>NaN</td>\n",
       "      <td>NaN</td>\n",
       "      <td>NaN</td>\n",
       "      <td>NaN</td>\n",
       "      <td>5.0</td>\n",
       "      <td>NaN</td>\n",
       "      <td>NaN</td>\n",
       "      <td>NaN</td>\n",
       "      <td>NaN</td>\n",
       "      <td>NaN</td>\n",
       "      <td>...</td>\n",
       "      <td>NaN</td>\n",
       "      <td>NaN</td>\n",
       "      <td>NaN</td>\n",
       "      <td>NaN</td>\n",
       "      <td>NaN</td>\n",
       "      <td>NaN</td>\n",
       "      <td>NaN</td>\n",
       "      <td>NaN</td>\n",
       "      <td>NaN</td>\n",
       "      <td>NaN</td>\n",
       "    </tr>\n",
       "    <tr>\n",
       "      <th>5.0</th>\n",
       "      <td>NaN</td>\n",
       "      <td>NaN</td>\n",
       "      <td>NaN</td>\n",
       "      <td>NaN</td>\n",
       "      <td>NaN</td>\n",
       "      <td>NaN</td>\n",
       "      <td>NaN</td>\n",
       "      <td>NaN</td>\n",
       "      <td>NaN</td>\n",
       "      <td>NaN</td>\n",
       "      <td>...</td>\n",
       "      <td>NaN</td>\n",
       "      <td>NaN</td>\n",
       "      <td>NaN</td>\n",
       "      <td>NaN</td>\n",
       "      <td>NaN</td>\n",
       "      <td>NaN</td>\n",
       "      <td>NaN</td>\n",
       "      <td>NaN</td>\n",
       "      <td>NaN</td>\n",
       "      <td>NaN</td>\n",
       "    </tr>\n",
       "  </tbody>\n",
       "</table>\n",
       "<p>5 rows × 933 columns</p>\n",
       "</div>"
      ],
      "text/plain": [
       "title   (500) Days of Summer (2009)  10 Things I Hate About You (1999)   \n",
       "userId                                                                   \n",
       "1.0                             NaN                                NaN  \\\n",
       "2.0                             NaN                                NaN   \n",
       "3.0                             NaN                                NaN   \n",
       "4.0                             NaN                                NaN   \n",
       "5.0                             NaN                                NaN   \n",
       "\n",
       "title   101 Dalmatians (1996)   \n",
       "userId                          \n",
       "1.0                       NaN  \\\n",
       "2.0                       NaN   \n",
       "3.0                       NaN   \n",
       "4.0                       NaN   \n",
       "5.0                       NaN   \n",
       "\n",
       "title   101 Dalmatians (One Hundred and One Dalmatians) (1961)   \n",
       "userId                                                           \n",
       "1.0                                                   NaN       \\\n",
       "2.0                                                   NaN        \n",
       "3.0                                                   NaN        \n",
       "4.0                                                   NaN        \n",
       "5.0                                                   NaN        \n",
       "\n",
       "title   12 Angry Men (1957)  2001: A Space Odyssey (1968)   \n",
       "userId                                                      \n",
       "1.0                     NaN                           NaN  \\\n",
       "2.0                     NaN                           NaN   \n",
       "3.0                     NaN                           NaN   \n",
       "4.0                     5.0                           NaN   \n",
       "5.0                     NaN                           NaN   \n",
       "\n",
       "title   28 Days Later (2002)  300 (2007)  40-Year-Old Virgin, The (2005)   \n",
       "userId                                                                     \n",
       "1.0                      NaN         NaN                             NaN  \\\n",
       "2.0                      NaN         NaN                             NaN   \n",
       "3.0                      NaN         NaN                             NaN   \n",
       "4.0                      NaN         NaN                             NaN   \n",
       "5.0                      NaN         NaN                             NaN   \n",
       "\n",
       "title   50 First Dates (2004)  ...  X-Men: First Class (2011)   \n",
       "userId                         ...                              \n",
       "1.0                       NaN  ...                        NaN  \\\n",
       "2.0                       NaN  ...                        NaN   \n",
       "3.0                       NaN  ...                        NaN   \n",
       "4.0                       NaN  ...                        NaN   \n",
       "5.0                       NaN  ...                        NaN   \n",
       "\n",
       "title   X-Men: The Last Stand (2006)  X2: X-Men United (2003)  Yes Man (2008)   \n",
       "userId                                                                          \n",
       "1.0                              NaN                      NaN             NaN  \\\n",
       "2.0                              NaN                      NaN             NaN   \n",
       "3.0                              NaN                      NaN             NaN   \n",
       "4.0                              NaN                      NaN             NaN   \n",
       "5.0                              NaN                      NaN             NaN   \n",
       "\n",
       "title   You've Got Mail (1998)  Young Frankenstein (1974)  Zodiac (2007)   \n",
       "userId                                                                     \n",
       "1.0                        NaN                        5.0            NaN  \\\n",
       "2.0                        NaN                        NaN            NaN   \n",
       "3.0                        0.5                        NaN            NaN   \n",
       "4.0                        NaN                        NaN            NaN   \n",
       "5.0                        NaN                        NaN            NaN   \n",
       "\n",
       "title   Zombieland (2009)  Zoolander (2001)  Zootopia (2016)  \n",
       "userId                                                        \n",
       "1.0                   NaN               NaN              NaN  \n",
       "2.0                   3.0               NaN              NaN  \n",
       "3.0                   NaN               NaN              NaN  \n",
       "4.0                   NaN               NaN              NaN  \n",
       "5.0                   NaN               NaN              NaN  \n",
       "\n",
       "[5 rows x 933 columns]"
      ]
     },
     "execution_count": 221,
     "metadata": {},
     "output_type": "execute_result"
    }
   ],
   "source": [
    "# Call the function with your DataFrame 'df'\n",
    "user_movie_df = create_user_movie_df(df)\n",
    "\n",
    "# Display the first few rows of the resulting user-movie DataFrame\n",
    "user_movie_df.head() "
   ]
  },
  {
   "cell_type": "code",
   "execution_count": 222,
   "id": "678870c2",
   "metadata": {},
   "outputs": [],
   "source": [
    "# Define a function for choosing a random user from a user-movie DataFrame \n",
    "# It takes two arguments: User_movie_df and random_state (a seed for random number generation)\n",
    "def random_user_choose(user_movie_df, random_state):\n",
    "    \n",
    "    # Generate a random user by sampling one user ID from the index of user_movie_df\n",
    "    # Random_state is used to ensure reproducibility of the random selection.\n",
    "    random_user = int(pd.Series(user_movie_df.index).sample(1, random_state=random_state).values)\n",
    "    \n",
    "    \n",
    "    return random_user"
   ]
  },
  {
   "cell_type": "code",
   "execution_count": 223,
   "id": "9a324954",
   "metadata": {},
   "outputs": [
    {
     "data": {
      "text/plain": [
       "370"
      ]
     },
     "execution_count": 223,
     "metadata": {},
     "output_type": "execute_result"
    }
   ],
   "source": [
    "# Call the random_user_choose function to select a random user.\n",
    "random_user = random_user_choose(user_movie_df, random_state=76)\n",
    "\n",
    "random_user"
   ]
  },
  {
   "cell_type": "markdown",
   "id": "4b9985e0",
   "metadata": {},
   "source": [
    "Function for choosing a random movie-id "
   ]
  },
  {
   "cell_type": "code",
   "execution_count": 233,
   "id": "833de475",
   "metadata": {},
   "outputs": [
    {
     "data": {
      "text/plain": [
       "'101 Dalmatians (1996)'"
      ]
     },
     "execution_count": 233,
     "metadata": {},
     "output_type": "execute_result"
    }
   ],
   "source": [
    "# Ensure 'random_movie_id' is a valid movie ID or select a valid one\n",
    "valid_movie_ids = user_movie_df.columns  # List of valid movie IDs in your dataset\n",
    "\n",
    "# if random_movie_id not in valid_movie_ids:\n",
    "     # Select a random valid movie ID\n",
    "#     random_movie_id = random.choice(valid_movie_ids)\n",
    "valid_movie_ids[2]"
   ]
  },
  {
   "cell_type": "code",
   "execution_count": 225,
   "id": "c60159c7",
   "metadata": {},
   "outputs": [
    {
     "name": "stdout",
     "output_type": "stream",
     "text": [
      "Random User ID: 370\n",
      "Top Rated Movie ID: 296\n"
     ]
    }
   ],
   "source": [
    "def movie_id_actual(df_ratings, random_user):\n",
    "    # Filter the DataFrame to get ratings by the random user\n",
    "    user_ratings = df_ratings[df_ratings[\"userId\"] == random_user]\n",
    "    \n",
    "    if user_ratings.empty:\n",
    "        # If the user hasn't rated any movies, return None\n",
    "        return None\n",
    "    \n",
    "    # Find the movie with the highest rating among the user's rated movies\n",
    "    top_rated_movie_id = user_ratings[user_ratings[\"rating\"] == user_ratings[\"rating\"].max()][\"movieId\"].iloc[0]\n",
    "    \n",
    "    return top_rated_movie_id\n",
    "\n",
    "# Assuming you have df_ratings and random_user defined\n",
    "# Call the movie_id_actual function to select a movie ID for the random user\n",
    "random_movie_id = movie_id_actual(df_ratings, random_user)\n",
    "\n",
    "# Print the random user ID and movie ID\n",
    "print(f\"Random User ID: {random_user}\")\n",
    "print(f\"Top Rated Movie ID: {random_movie_id}\")\n"
   ]
  },
  {
   "cell_type": "code",
   "execution_count": 226,
   "id": "363edc9d",
   "metadata": {},
   "outputs": [
    {
     "data": {
      "text/plain": [
       "296"
      ]
     },
     "execution_count": 226,
     "metadata": {},
     "output_type": "execute_result"
    }
   ],
   "source": [
    "random_movie_id"
   ]
  },
  {
   "cell_type": "code",
   "execution_count": 227,
   "id": "730f0d6e",
   "metadata": {
    "scrolled": false
   },
   "outputs": [
    {
     "data": {
      "text/plain": [
       "'Pulp Fiction (1994)'"
      ]
     },
     "execution_count": 227,
     "metadata": {},
     "output_type": "execute_result"
    }
   ],
   "source": [
    "def movie_id_name(dataframe, random_movie_id):\n",
    "    movie_name = dataframe[dataframe[\"movieId\"] == random_movie_id][[\"title\"]].values[0].tolist()\n",
    "    return movie_name[0]\n",
    "\n",
    "movie_name = movie_id_name(df, random_movie_id)\n",
    "movie_name "
   ]
  },
  {
   "cell_type": "code",
   "execution_count": 228,
   "id": "e78701d6",
   "metadata": {},
   "outputs": [],
   "source": [
    "import random\n",
    "\n",
    "def item_based_recommender(movie_name, user_movie_df, random_user):\n",
    "    movie_name = user_movie_df[movie_name]\n",
    "    recommend_list = user_movie_df.corrwith(movie_name).sort_values(ascending=False).head(20)\n",
    "    recommend_list = recommend_list.reset_index()\n",
    "    recommend_list = recommend_list[\"title\"].tolist()\n",
    "    recommend_list\n",
    "\n",
    "    random_user_df = user_movie_df[user_movie_df.index == random_user]\n",
    "    random_user_movies_watched = random_user_df.columns[random_user_df.notna().any()].tolist()\n",
    "    random_user_movies_watched_df = user_movie_df[random_user_movies_watched]\n",
    "    random_user_movies_watched_df = random_user_movies_watched_df.columns.tolist()\n",
    "\n",
    "    movie_to_recommend = [i for i in random_user_movies_watched_df if i not in recommend_list]\n",
    "    movie_to_recommend = random.sample(movie_to_recommend, 5)\n",
    "    return movie_to_recommend"
   ]
  },
  {
   "cell_type": "code",
   "execution_count": 229,
   "id": "1949d0df",
   "metadata": {
    "scrolled": false
   },
   "outputs": [
    {
     "data": {
      "text/plain": [
       "['American Beauty (1999)',\n",
       " 'Trainspotting (1996)',\n",
       " 'Terminator 2: Judgment Day (1991)',\n",
       " 'Star Wars: Episode IV - A New Hope (1977)',\n",
       " 'High Fidelity (2000)']"
      ]
     },
     "execution_count": 229,
     "metadata": {},
     "output_type": "execute_result"
    }
   ],
   "source": [
    "item_based_recommender(movie_name, user_movie_df, random_user)"
   ]
  },
  {
   "cell_type": "code",
   "execution_count": null,
   "id": "20ce9bbf",
   "metadata": {},
   "outputs": [],
   "source": []
  },
  {
   "cell_type": "markdown",
   "id": "27faa2eb",
   "metadata": {},
   "source": [
    "ofngo"
   ]
  },
  {
   "cell_type": "code",
   "execution_count": 280,
   "id": "5c805424",
   "metadata": {
    "scrolled": true
   },
   "outputs": [
    {
     "name": "stdout",
     "output_type": "stream",
     "text": [
      "Predicted rating for movie ID 78: 3.4498815073209324\n"
     ]
    }
   ],
   "source": [
    "from surprise import Dataset, Reader\n",
    "from surprise.model_selection import train_test_split\n",
    "from surprise import SVD \n",
    "\n",
    "#  Load your data into Surprise format\n",
    "reader = Reader(rating_scale=(0.5, 5.0))\n",
    "data = Dataset.load_from_df(train_data[['userId', 'movieId', 'rating']], reader)\n",
    "\n",
    "# Split the data into train and test sets\n",
    "trainset, testset = train_test_split(data, test_size=0.2, random_state=42)\n",
    "\n",
    "# Define and train your recommendation model\n",
    "model = SVD()  \n",
    "model.fit(trainset)\n",
    "\n",
    "# Generate recommendations for a random user\n",
    "random_user = 37  # Replace with your random user ID\n",
    "movie_id_to_predict = 78  # Replace with the movie ID you want to predict\n",
    "\n",
    "# Predict the rating for a movie\n",
    "predicted_rating = model.predict(random_user, movie_id_to_predict).est\n",
    "print(f\"Predicted rating for movie ID {movie_id_to_predict}: {predicted_rating}\")\n"
   ]
  },
  {
   "cell_type": "code",
   "execution_count": 272,
   "id": "5641d04b",
   "metadata": {
    "scrolled": true
   },
   "outputs": [
    {
     "name": "stdout",
     "output_type": "stream",
     "text": [
      "RMSE: 1.1412\n",
      "Root Mean Squared Error (RMSE) on the train set: 1.1411673326006737\n"
     ]
    }
   ],
   "source": [
    "from surprise import accuracy\n",
    "\n",
    "# Generate predictions on the train set manually\n",
    "train_predictions = []\n",
    "for user_id, movie_id, actual_rating in trainset.all_ratings():\n",
    "    predicted_rating = model.predict(user_id, movie_id).est\n",
    "    train_predictions.append((user_id, movie_id, actual_rating, predicted_rating, None))  # Add None as a placeholder for details\n",
    "\n",
    "# Calculate RMSE (Root Mean Squared Error) on the train set\n",
    "train_rmse = accuracy.rmse(train_predictions)\n",
    "print(f\"Root Mean Squared Error (RMSE) on the train set: {train_rmse}\")\n"
   ]
  },
  {
   "cell_type": "markdown",
   "id": "217a17a2",
   "metadata": {},
   "source": [
    "The RMSE of 1.1414 on the training set suggests that, on average, your recommendation model's predicted ratings differ from the actual ratings in the training set by approximately 1.1414 rating units. Lower RMSE values generally indicate better model performance, but it's important to keep in mind that this evaluation is on the training data, and model performance on unseen test data might differ."
   ]
  },
  {
   "cell_type": "code",
   "execution_count": 273,
   "id": "e0d2aa10",
   "metadata": {
    "scrolled": true
   },
   "outputs": [
    {
     "name": "stdout",
     "output_type": "stream",
     "text": [
      "Missing Values in Train Data:\n",
      "movieId      0\n",
      "title        0\n",
      "genres       0\n",
      "userId       0\n",
      "rating       0\n",
      "timestamp    0\n",
      "dtype: int64\n"
     ]
    }
   ],
   "source": [
    "# Check for missing values in the train_data DataFrame\n",
    "missing_values = train_data.isna().sum()\n",
    "\n",
    "# Display the count of missing values for each column\n",
    "print(\"Missing Values in Train Data:\")\n",
    "print(missing_values)\n"
   ]
  },
  {
   "cell_type": "code",
   "execution_count": 241,
   "id": "4243c1ff",
   "metadata": {},
   "outputs": [],
   "source": [
    "# Drop rows with missing values from train_data DataFrame\n",
    "train_data.dropna(inplace=True)\n"
   ]
  },
  {
   "cell_type": "code",
   "execution_count": 274,
   "id": "c7498076",
   "metadata": {},
   "outputs": [
    {
     "name": "stdout",
     "output_type": "stream",
     "text": [
      "RMSE: 0.8801\n",
      "Root Mean Squared Error (RMSE) on the test set: 0.8801397904134773\n"
     ]
    }
   ],
   "source": [
    "from surprise import accuracy\n",
    "\n",
    "# Step 5: Generate predictions on the test set\n",
    "predictions = model.test(testset)\n",
    "\n",
    "# Step 6: Calculate RMSE (Root Mean Squared Error)\n",
    "rmse = accuracy.rmse(predictions)\n",
    "print(f\"Root Mean Squared Error (RMSE) on the test set: {rmse}\")\n"
   ]
  },
  {
   "cell_type": "markdown",
   "id": "c697c6fb",
   "metadata": {},
   "source": [
    "The RMSE value of approximately 0.8787 on the test set indicates that, on average, your recommendation model's predicted ratings differ from the actual ratings in the test data by about 0.8787 rating units.\n",
    "A lower RMSE value on the test set is generally a positive sign, as it suggests that the model is making more accurate predictions on new, unseen user-movie pairs.\n",
    "In this case, the RMSE of 0.8787 on the test set is lower than the RMSE on the training set (1.1414). This is a good sign because it means that your recommendation model is performing better on unseen data than on the training data.\n",
    "The lower RMSE on the test set indicates that your model is generalizing well and is capable of making accurate recommendations for new users and movies.\n",
    "In summary, an RMSE of 0.8787 on the test set suggests that your recommendation model is performing well in terms of predicting user ratings for movies it hasn't seen during training. It's a positive outcome, indicating that your model is likely making meaningful and accurate movie recommendations to users"
   ]
  },
  {
   "cell_type": "markdown",
   "id": "3373b8f0",
   "metadata": {},
   "source": [
    "### Hyperparametr tuning using GridSearchCV "
   ]
  },
  {
   "cell_type": "markdown",
   "id": "dee84ec3",
   "metadata": {},
   "source": [
    "For Grid Search (exhaustively searches all combinations):"
   ]
  },
  {
   "cell_type": "code",
   "execution_count": 8,
   "id": "46d2cbec",
   "metadata": {},
   "outputs": [],
   "source": [
    "param_grid = {\n",
    "    'n_factors': [50, 100, 150],\n",
    "    'reg_all': [0.02, 0.1, 0.2],\n",
    "    'lr_all': [0.002, 0.01, 0.02]\n",
    "}\n"
   ]
  },
  {
   "cell_type": "code",
   "execution_count": 9,
   "id": "e16725e1",
   "metadata": {},
   "outputs": [
    {
     "ename": "NameError",
     "evalue": "name 'SVD' is not defined",
     "output_type": "error",
     "traceback": [
      "\u001b[1;31m---------------------------------------------------------------------------\u001b[0m",
      "\u001b[1;31mNameError\u001b[0m                                 Traceback (most recent call last)",
      "Cell \u001b[1;32mIn[9], line 3\u001b[0m\n\u001b[0;32m      1\u001b[0m \u001b[38;5;28;01mfrom\u001b[39;00m \u001b[38;5;21;01msurprise\u001b[39;00m\u001b[38;5;21;01m.\u001b[39;00m\u001b[38;5;21;01mmodel_selection\u001b[39;00m \u001b[38;5;28;01mimport\u001b[39;00m GridSearchCV\n\u001b[1;32m----> 3\u001b[0m grid_search \u001b[38;5;241m=\u001b[39m GridSearchCV(\u001b[43mSVD\u001b[49m, param_grid, measures\u001b[38;5;241m=\u001b[39m[\u001b[38;5;124m'\u001b[39m\u001b[38;5;124mrmse\u001b[39m\u001b[38;5;124m'\u001b[39m], cv\u001b[38;5;241m=\u001b[39m\u001b[38;5;241m5\u001b[39m, n_jobs\u001b[38;5;241m=\u001b[39m\u001b[38;5;241m-\u001b[39m\u001b[38;5;241m1\u001b[39m)\n\u001b[0;32m      4\u001b[0m grid_search\u001b[38;5;241m.\u001b[39mfit(data)  \u001b[38;5;66;03m# 'data' is the Surprise Dataset\u001b[39;00m\n",
      "\u001b[1;31mNameError\u001b[0m: name 'SVD' is not defined"
     ]
    }
   ],
   "source": [
    "from surprise.model_selection import GridSearchCV\n",
    "\n",
    "grid_search = GridSearchCV(SVD, param_grid, measures=['rmse'], cv=5, n_jobs=-1)\n",
    "grid_search.fit(data)  # 'data' is the Surprise Dataset\n"
   ]
  },
  {
   "cell_type": "code",
   "execution_count": 260,
   "id": "8ed40b63",
   "metadata": {
    "scrolled": true
   },
   "outputs": [
    {
     "name": "stdout",
     "output_type": "stream",
     "text": [
      "Best RMSE: 0.8634935454881342\n",
      "Best Hyperparameters: {'n_factors': 150, 'reg_all': 0.1, 'lr_all': 0.02}\n"
     ]
    }
   ],
   "source": [
    "print(f\"Best RMSE: {grid_search.best_score['rmse']}\")\n",
    "print(f\"Best Hyperparameters: {grid_search.best_params['rmse']}\")\n"
   ]
  },
  {
   "cell_type": "code",
   "execution_count": null,
   "id": "c95565db",
   "metadata": {},
   "outputs": [],
   "source": []
  },
  {
   "cell_type": "code",
   "execution_count": 259,
   "id": "4bdc4784",
   "metadata": {},
   "outputs": [],
   "source": [
    "from surprise.model_selection import RandomizedSearchCV\n",
    "\n",
    "random_search = RandomizedSearchCV(SVD, param_grid, measures=['rmse'], cv=5, n_jobs=-1, n_iter=10)\n",
    "random_search.fit(data)  # 'data' is the Surprise Dataset\n"
   ]
  },
  {
   "cell_type": "code",
   "execution_count": 261,
   "id": "f223b5ba",
   "metadata": {
    "scrolled": false
   },
   "outputs": [
    {
     "name": "stdout",
     "output_type": "stream",
     "text": [
      "Best RMSE: 0.8614044549987641\n",
      "Best Hyperparameters: {'n_factors': 150, 'reg_all': 0.1, 'lr_all': 0.02}\n"
     ]
    }
   ],
   "source": [
    "print(f\"Best RMSE: {random_search.best_score['rmse']}\")\n",
    "print(f\"Best Hyperparameters: {random_search.best_params['rmse']}\")\n"
   ]
  },
  {
   "cell_type": "code",
   "execution_count": 270,
   "id": "76c7c59a",
   "metadata": {},
   "outputs": [
    {
     "name": "stdout",
     "output_type": "stream",
     "text": [
      "Predicted rating for movie ID 29: 4.335921982947997\n",
      "RMSE: 0.8801\n",
      "Root Mean Squared Error (RMSE) on the test set: 0.8801397904134773\n"
     ]
    }
   ],
   "source": [
    "from surprise import Dataset, Reader\n",
    "from surprise.model_selection import train_test_split\n",
    "from surprise import SVD \n",
    "from surprise import accuracy\n",
    "\n",
    "# Load your data into Surprise format\n",
    "reader = Reader(rating_scale=(0.5, 5.0))\n",
    "data = Dataset.load_from_df(train_data[['userId', 'movieId', 'rating']], reader)\n",
    "\n",
    "# Split the data into train and test sets\n",
    "trainset, testset = train_test_split(data, test_size=0.2, random_state=42)\n",
    "\n",
    "# Define and train your recommendation model\n",
    "model = SVD()\n",
    "model.fit(trainset)\n",
    "\n",
    "# Generate recommendations for a random user\n",
    "random_user = 37  # Replace with your random user ID\n",
    "movie_id_to_predict = 29  # Replace with the movie ID you want to predict\n",
    "\n",
    "# Predict the rating for a movie\n",
    "predicted_rating = model.predict(random_user, movie_id_to_predict).est\n",
    "print(f\"Predicted rating for movie ID {movie_id_to_predict}: {predicted_rating}\")\n",
    "\n",
    "# Generate predictions on the test set\n",
    "predictions = model.test(testset)\n",
    "\n",
    "# Calculate RMSE (Root Mean Squared Error)\n",
    "rmse = accuracy.rmse(predictions)\n",
    "print(f\"Root Mean Squared Error (RMSE) on the test set: {rmse}\")\n"
   ]
  },
  {
   "cell_type": "code",
   "execution_count": 277,
   "id": "5b24db00",
   "metadata": {},
   "outputs": [
    {
     "ename": "AttributeError",
     "evalue": "'SVD' object has no attribute 'trainset'",
     "output_type": "error",
     "traceback": [
      "\u001b[1;31m---------------------------------------------------------------------------\u001b[0m",
      "\u001b[1;31mAttributeError\u001b[0m                            Traceback (most recent call last)",
      "Cell \u001b[1;32mIn[277], line 2\u001b[0m\n\u001b[0;32m      1\u001b[0m best_model \u001b[38;5;241m=\u001b[39m grid_search\u001b[38;5;241m.\u001b[39mbest_estimator[\u001b[38;5;124m'\u001b[39m\u001b[38;5;124mrmse\u001b[39m\u001b[38;5;124m'\u001b[39m]\n\u001b[1;32m----> 2\u001b[0m predictions \u001b[38;5;241m=\u001b[39m \u001b[43mbest_model\u001b[49m\u001b[38;5;241;43m.\u001b[39;49m\u001b[43mtest\u001b[49m\u001b[43m(\u001b[49m\u001b[43mtestset\u001b[49m\u001b[43m)\u001b[49m\n\u001b[0;32m      3\u001b[0m rmse \u001b[38;5;241m=\u001b[39m accuracy\u001b[38;5;241m.\u001b[39mrmse(predictions)\n\u001b[0;32m      4\u001b[0m \u001b[38;5;28mprint\u001b[39m(\u001b[38;5;124mf\u001b[39m\u001b[38;5;124m\"\u001b[39m\u001b[38;5;124mRMSE on Test Set: \u001b[39m\u001b[38;5;132;01m{\u001b[39;00mrmse\u001b[38;5;132;01m}\u001b[39;00m\u001b[38;5;124m\"\u001b[39m)\n",
      "File \u001b[1;32m~\\anaconda3\\envs\\learn-env\\lib\\site-packages\\surprise\\prediction_algorithms\\algo_base.py:160\u001b[0m, in \u001b[0;36mAlgoBase.test\u001b[1;34m(self, testset, verbose)\u001b[0m\n\u001b[0;32m    142\u001b[0m \u001b[38;5;250m\u001b[39m\u001b[38;5;124;03m\"\"\"Test the algorithm on given testset, i.e. estimate all the ratings\u001b[39;00m\n\u001b[0;32m    143\u001b[0m \u001b[38;5;124;03min the given testset.\u001b[39;00m\n\u001b[0;32m    144\u001b[0m \n\u001b[1;32m   (...)\u001b[0m\n\u001b[0;32m    156\u001b[0m \u001b[38;5;124;03m    that contains all the estimated ratings.\u001b[39;00m\n\u001b[0;32m    157\u001b[0m \u001b[38;5;124;03m\"\"\"\u001b[39;00m\n\u001b[0;32m    159\u001b[0m \u001b[38;5;66;03m# The ratings are translated back to their original scale.\u001b[39;00m\n\u001b[1;32m--> 160\u001b[0m predictions \u001b[38;5;241m=\u001b[39m [\n\u001b[0;32m    161\u001b[0m     \u001b[38;5;28mself\u001b[39m\u001b[38;5;241m.\u001b[39mpredict(uid, iid, r_ui_trans, verbose\u001b[38;5;241m=\u001b[39mverbose)\n\u001b[0;32m    162\u001b[0m     \u001b[38;5;28;01mfor\u001b[39;00m (uid, iid, r_ui_trans) \u001b[38;5;129;01min\u001b[39;00m testset\n\u001b[0;32m    163\u001b[0m ]\n\u001b[0;32m    164\u001b[0m \u001b[38;5;28;01mreturn\u001b[39;00m predictions\n",
      "File \u001b[1;32m~\\anaconda3\\envs\\learn-env\\lib\\site-packages\\surprise\\prediction_algorithms\\algo_base.py:161\u001b[0m, in \u001b[0;36m<listcomp>\u001b[1;34m(.0)\u001b[0m\n\u001b[0;32m    142\u001b[0m \u001b[38;5;250m\u001b[39m\u001b[38;5;124;03m\"\"\"Test the algorithm on given testset, i.e. estimate all the ratings\u001b[39;00m\n\u001b[0;32m    143\u001b[0m \u001b[38;5;124;03min the given testset.\u001b[39;00m\n\u001b[0;32m    144\u001b[0m \n\u001b[1;32m   (...)\u001b[0m\n\u001b[0;32m    156\u001b[0m \u001b[38;5;124;03m    that contains all the estimated ratings.\u001b[39;00m\n\u001b[0;32m    157\u001b[0m \u001b[38;5;124;03m\"\"\"\u001b[39;00m\n\u001b[0;32m    159\u001b[0m \u001b[38;5;66;03m# The ratings are translated back to their original scale.\u001b[39;00m\n\u001b[0;32m    160\u001b[0m predictions \u001b[38;5;241m=\u001b[39m [\n\u001b[1;32m--> 161\u001b[0m     \u001b[38;5;28;43mself\u001b[39;49m\u001b[38;5;241;43m.\u001b[39;49m\u001b[43mpredict\u001b[49m\u001b[43m(\u001b[49m\u001b[43muid\u001b[49m\u001b[43m,\u001b[49m\u001b[43m \u001b[49m\u001b[43miid\u001b[49m\u001b[43m,\u001b[49m\u001b[43m \u001b[49m\u001b[43mr_ui_trans\u001b[49m\u001b[43m,\u001b[49m\u001b[43m \u001b[49m\u001b[43mverbose\u001b[49m\u001b[38;5;241;43m=\u001b[39;49m\u001b[43mverbose\u001b[49m\u001b[43m)\u001b[49m\n\u001b[0;32m    162\u001b[0m     \u001b[38;5;28;01mfor\u001b[39;00m (uid, iid, r_ui_trans) \u001b[38;5;129;01min\u001b[39;00m testset\n\u001b[0;32m    163\u001b[0m ]\n\u001b[0;32m    164\u001b[0m \u001b[38;5;28;01mreturn\u001b[39;00m predictions\n",
      "File \u001b[1;32m~\\anaconda3\\envs\\learn-env\\lib\\site-packages\\surprise\\prediction_algorithms\\algo_base.py:92\u001b[0m, in \u001b[0;36mAlgoBase.predict\u001b[1;34m(self, uid, iid, r_ui, clip, verbose)\u001b[0m\n\u001b[0;32m     90\u001b[0m \u001b[38;5;66;03m# Convert raw ids to inner ids\u001b[39;00m\n\u001b[0;32m     91\u001b[0m \u001b[38;5;28;01mtry\u001b[39;00m:\n\u001b[1;32m---> 92\u001b[0m     iuid \u001b[38;5;241m=\u001b[39m \u001b[38;5;28;43mself\u001b[39;49m\u001b[38;5;241;43m.\u001b[39;49m\u001b[43mtrainset\u001b[49m\u001b[38;5;241m.\u001b[39mto_inner_uid(uid)\n\u001b[0;32m     93\u001b[0m \u001b[38;5;28;01mexcept\u001b[39;00m \u001b[38;5;167;01mValueError\u001b[39;00m:\n\u001b[0;32m     94\u001b[0m     iuid \u001b[38;5;241m=\u001b[39m \u001b[38;5;124m\"\u001b[39m\u001b[38;5;124mUKN__\u001b[39m\u001b[38;5;124m\"\u001b[39m \u001b[38;5;241m+\u001b[39m \u001b[38;5;28mstr\u001b[39m(uid)\n",
      "\u001b[1;31mAttributeError\u001b[0m: 'SVD' object has no attribute 'trainset'"
     ]
    }
   ],
   "source": [
    "best_model = grid_search.best_estimator['rmse']\n",
    "predictions = best_model.test(testset)\n",
    "rmse = accuracy.rmse(predictions)\n",
    "print(f\"RMSE on Test Set: {rmse}\")\n"
   ]
  },
  {
   "cell_type": "code",
   "execution_count": 268,
   "id": "aa42fcce",
   "metadata": {},
   "outputs": [],
   "source": [
    "# predictions = best_model.test(testset)\n",
    "# rmse = accuracy.rmse(predictions)\n",
    "# print(f\"RMSE on Test Set: {rmse}\")\n"
   ]
  },
  {
   "cell_type": "code",
   "execution_count": null,
   "id": "d314fab2",
   "metadata": {},
   "outputs": [],
   "source": []
  }
 ],
 "metadata": {
  "kernelspec": {
   "display_name": "Python 3 (ipykernel)",
   "language": "python",
   "name": "python3"
  },
  "language_info": {
   "codemirror_mode": {
    "name": "ipython",
    "version": 3
   },
   "file_extension": ".py",
   "mimetype": "text/x-python",
   "name": "python",
   "nbconvert_exporter": "python",
   "pygments_lexer": "ipython3",
   "version": "3.10.11"
  }
 },
 "nbformat": 4,
 "nbformat_minor": 5
}
