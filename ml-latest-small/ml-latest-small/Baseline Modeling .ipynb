{
 "cells": [
  {
   "cell_type": "code",
   "execution_count": 58,
   "id": "a09ddfda",
   "metadata": {},
   "outputs": [],
   "source": [
    "import pandas as pd \n",
    "from datetime import datetime \n",
    "import seaborn as sns \n",
    "import matplotlib.pyplot as plt"
   ]
  },
  {
   "cell_type": "markdown",
   "id": "31833dfe",
   "metadata": {},
   "source": [
    "The next step involves opening the datasets and examining the first five rows of the dataset to gain initial understanding of its structure."
   ]
  },
  {
   "cell_type": "code",
   "execution_count": 59,
   "id": "b3254753",
   "metadata": {},
   "outputs": [
    {
     "data": {
      "text/html": [
       "<div>\n",
       "<style scoped>\n",
       "    .dataframe tbody tr th:only-of-type {\n",
       "        vertical-align: middle;\n",
       "    }\n",
       "\n",
       "    .dataframe tbody tr th {\n",
       "        vertical-align: top;\n",
       "    }\n",
       "\n",
       "    .dataframe thead th {\n",
       "        text-align: right;\n",
       "    }\n",
       "</style>\n",
       "<table border=\"1\" class=\"dataframe\">\n",
       "  <thead>\n",
       "    <tr style=\"text-align: right;\">\n",
       "      <th></th>\n",
       "      <th>movieId</th>\n",
       "      <th>title</th>\n",
       "      <th>genres</th>\n",
       "    </tr>\n",
       "  </thead>\n",
       "  <tbody>\n",
       "    <tr>\n",
       "      <th>0</th>\n",
       "      <td>1</td>\n",
       "      <td>Toy Story (1995)</td>\n",
       "      <td>Adventure|Animation|Children|Comedy|Fantasy</td>\n",
       "    </tr>\n",
       "    <tr>\n",
       "      <th>1</th>\n",
       "      <td>2</td>\n",
       "      <td>Jumanji (1995)</td>\n",
       "      <td>Adventure|Children|Fantasy</td>\n",
       "    </tr>\n",
       "    <tr>\n",
       "      <th>2</th>\n",
       "      <td>3</td>\n",
       "      <td>Grumpier Old Men (1995)</td>\n",
       "      <td>Comedy|Romance</td>\n",
       "    </tr>\n",
       "    <tr>\n",
       "      <th>3</th>\n",
       "      <td>4</td>\n",
       "      <td>Waiting to Exhale (1995)</td>\n",
       "      <td>Comedy|Drama|Romance</td>\n",
       "    </tr>\n",
       "    <tr>\n",
       "      <th>4</th>\n",
       "      <td>5</td>\n",
       "      <td>Father of the Bride Part II (1995)</td>\n",
       "      <td>Comedy</td>\n",
       "    </tr>\n",
       "  </tbody>\n",
       "</table>\n",
       "</div>"
      ],
      "text/plain": [
       "   movieId                               title  \\\n",
       "0        1                    Toy Story (1995)   \n",
       "1        2                      Jumanji (1995)   \n",
       "2        3             Grumpier Old Men (1995)   \n",
       "3        4            Waiting to Exhale (1995)   \n",
       "4        5  Father of the Bride Part II (1995)   \n",
       "\n",
       "                                        genres  \n",
       "0  Adventure|Animation|Children|Comedy|Fantasy  \n",
       "1                   Adventure|Children|Fantasy  \n",
       "2                               Comedy|Romance  \n",
       "3                         Comedy|Drama|Romance  \n",
       "4                                       Comedy  "
      ]
     },
     "execution_count": 59,
     "metadata": {},
     "output_type": "execute_result"
    }
   ],
   "source": [
    "# Reading the movies dataset \n",
    "df_movies = pd.read_csv('movies.csv')\n",
    "df_movies.head()"
   ]
  },
  {
   "cell_type": "code",
   "execution_count": 60,
   "id": "380e631f",
   "metadata": {},
   "outputs": [
    {
     "data": {
      "text/html": [
       "<div>\n",
       "<style scoped>\n",
       "    .dataframe tbody tr th:only-of-type {\n",
       "        vertical-align: middle;\n",
       "    }\n",
       "\n",
       "    .dataframe tbody tr th {\n",
       "        vertical-align: top;\n",
       "    }\n",
       "\n",
       "    .dataframe thead th {\n",
       "        text-align: right;\n",
       "    }\n",
       "</style>\n",
       "<table border=\"1\" class=\"dataframe\">\n",
       "  <thead>\n",
       "    <tr style=\"text-align: right;\">\n",
       "      <th></th>\n",
       "      <th>userId</th>\n",
       "      <th>movieId</th>\n",
       "      <th>rating</th>\n",
       "      <th>timestamp</th>\n",
       "    </tr>\n",
       "  </thead>\n",
       "  <tbody>\n",
       "    <tr>\n",
       "      <th>0</th>\n",
       "      <td>1</td>\n",
       "      <td>1</td>\n",
       "      <td>4.0</td>\n",
       "      <td>964982703</td>\n",
       "    </tr>\n",
       "    <tr>\n",
       "      <th>1</th>\n",
       "      <td>1</td>\n",
       "      <td>3</td>\n",
       "      <td>4.0</td>\n",
       "      <td>964981247</td>\n",
       "    </tr>\n",
       "    <tr>\n",
       "      <th>2</th>\n",
       "      <td>1</td>\n",
       "      <td>6</td>\n",
       "      <td>4.0</td>\n",
       "      <td>964982224</td>\n",
       "    </tr>\n",
       "    <tr>\n",
       "      <th>3</th>\n",
       "      <td>1</td>\n",
       "      <td>47</td>\n",
       "      <td>5.0</td>\n",
       "      <td>964983815</td>\n",
       "    </tr>\n",
       "    <tr>\n",
       "      <th>4</th>\n",
       "      <td>1</td>\n",
       "      <td>50</td>\n",
       "      <td>5.0</td>\n",
       "      <td>964982931</td>\n",
       "    </tr>\n",
       "  </tbody>\n",
       "</table>\n",
       "</div>"
      ],
      "text/plain": [
       "   userId  movieId  rating  timestamp\n",
       "0       1        1     4.0  964982703\n",
       "1       1        3     4.0  964981247\n",
       "2       1        6     4.0  964982224\n",
       "3       1       47     5.0  964983815\n",
       "4       1       50     5.0  964982931"
      ]
     },
     "execution_count": 60,
     "metadata": {},
     "output_type": "execute_result"
    }
   ],
   "source": [
    "# Reading the ratings dataset \n",
    "df_ratings = pd.read_csv('ratings.csv')\n",
    "df_ratings.head()"
   ]
  },
  {
   "cell_type": "code",
   "execution_count": 61,
   "id": "06ef48e3",
   "metadata": {},
   "outputs": [],
   "source": [
    "df_merged = df_movies.merge(df_ratings, how=\"left\", on='movieId')"
   ]
  },
  {
   "cell_type": "code",
   "execution_count": 62,
   "id": "0e9587b5",
   "metadata": {
    "scrolled": true
   },
   "outputs": [
    {
     "data": {
      "text/html": [
       "<div>\n",
       "<style scoped>\n",
       "    .dataframe tbody tr th:only-of-type {\n",
       "        vertical-align: middle;\n",
       "    }\n",
       "\n",
       "    .dataframe tbody tr th {\n",
       "        vertical-align: top;\n",
       "    }\n",
       "\n",
       "    .dataframe thead th {\n",
       "        text-align: right;\n",
       "    }\n",
       "</style>\n",
       "<table border=\"1\" class=\"dataframe\">\n",
       "  <thead>\n",
       "    <tr style=\"text-align: right;\">\n",
       "      <th></th>\n",
       "      <th>movieId</th>\n",
       "      <th>title</th>\n",
       "      <th>genres</th>\n",
       "      <th>userId</th>\n",
       "      <th>rating</th>\n",
       "      <th>timestamp</th>\n",
       "    </tr>\n",
       "  </thead>\n",
       "  <tbody>\n",
       "    <tr>\n",
       "      <th>0</th>\n",
       "      <td>1</td>\n",
       "      <td>Toy Story (1995)</td>\n",
       "      <td>Adventure|Animation|Children|Comedy|Fantasy</td>\n",
       "      <td>1.0</td>\n",
       "      <td>4.0</td>\n",
       "      <td>9.649827e+08</td>\n",
       "    </tr>\n",
       "    <tr>\n",
       "      <th>1</th>\n",
       "      <td>1</td>\n",
       "      <td>Toy Story (1995)</td>\n",
       "      <td>Adventure|Animation|Children|Comedy|Fantasy</td>\n",
       "      <td>5.0</td>\n",
       "      <td>4.0</td>\n",
       "      <td>8.474350e+08</td>\n",
       "    </tr>\n",
       "    <tr>\n",
       "      <th>2</th>\n",
       "      <td>1</td>\n",
       "      <td>Toy Story (1995)</td>\n",
       "      <td>Adventure|Animation|Children|Comedy|Fantasy</td>\n",
       "      <td>7.0</td>\n",
       "      <td>4.5</td>\n",
       "      <td>1.106636e+09</td>\n",
       "    </tr>\n",
       "    <tr>\n",
       "      <th>3</th>\n",
       "      <td>1</td>\n",
       "      <td>Toy Story (1995)</td>\n",
       "      <td>Adventure|Animation|Children|Comedy|Fantasy</td>\n",
       "      <td>15.0</td>\n",
       "      <td>2.5</td>\n",
       "      <td>1.510578e+09</td>\n",
       "    </tr>\n",
       "    <tr>\n",
       "      <th>4</th>\n",
       "      <td>1</td>\n",
       "      <td>Toy Story (1995)</td>\n",
       "      <td>Adventure|Animation|Children|Comedy|Fantasy</td>\n",
       "      <td>17.0</td>\n",
       "      <td>4.5</td>\n",
       "      <td>1.305696e+09</td>\n",
       "    </tr>\n",
       "  </tbody>\n",
       "</table>\n",
       "</div>"
      ],
      "text/plain": [
       "   movieId             title                                       genres  \\\n",
       "0        1  Toy Story (1995)  Adventure|Animation|Children|Comedy|Fantasy   \n",
       "1        1  Toy Story (1995)  Adventure|Animation|Children|Comedy|Fantasy   \n",
       "2        1  Toy Story (1995)  Adventure|Animation|Children|Comedy|Fantasy   \n",
       "3        1  Toy Story (1995)  Adventure|Animation|Children|Comedy|Fantasy   \n",
       "4        1  Toy Story (1995)  Adventure|Animation|Children|Comedy|Fantasy   \n",
       "\n",
       "   userId  rating     timestamp  \n",
       "0     1.0     4.0  9.649827e+08  \n",
       "1     5.0     4.0  8.474350e+08  \n",
       "2     7.0     4.5  1.106636e+09  \n",
       "3    15.0     2.5  1.510578e+09  \n",
       "4    17.0     4.5  1.305696e+09  "
      ]
     },
     "execution_count": 62,
     "metadata": {},
     "output_type": "execute_result"
    }
   ],
   "source": [
    "df_merged.head()"
   ]
  },
  {
   "cell_type": "markdown",
   "id": "74d3227f",
   "metadata": {},
   "source": [
    "Step 3: Calculate item popularity\n",
    "Calculate the popularity of each item by computing the average rating. You can group the data by \"movie_id\" and calculate the mean rating for each movie.\n",
    "\n",
    "python"
   ]
  },
  {
   "cell_type": "code",
   "execution_count": 63,
   "id": "3a951c3d",
   "metadata": {},
   "outputs": [],
   "source": [
    "# item_popularity = df_merged.groupby('movieId')['rating'].mean().reset_index()\n"
   ]
  },
  {
   "cell_type": "code",
   "execution_count": 64,
   "id": "337e91ec",
   "metadata": {},
   "outputs": [],
   "source": [
    "# item_popularity.head()\n"
   ]
  },
  {
   "cell_type": "code",
   "execution_count": 65,
   "id": "24a2d058",
   "metadata": {},
   "outputs": [],
   "source": [
    "# item_popularity.tail()"
   ]
  },
  {
   "cell_type": "markdown",
   "id": "802198d8",
   "metadata": {},
   "source": [
    "Sort the items in descending order based on their average rating to find the most popular items."
   ]
  },
  {
   "cell_type": "code",
   "execution_count": 66,
   "id": "43794bf7",
   "metadata": {},
   "outputs": [],
   "source": [
    "# top_items = item_popularity.sort_values(by='rating', ascending=False)\n"
   ]
  },
  {
   "cell_type": "code",
   "execution_count": 67,
   "id": "59b8198e",
   "metadata": {},
   "outputs": [],
   "source": [
    "# top_items.tail()"
   ]
  },
  {
   "cell_type": "markdown",
   "id": "28bdd2be",
   "metadata": {},
   "source": [
    "You can recommend the top-rated items to all users by selecting a fixed number of items from the top of the sorted list. For example, let's recommend the top 10 items:"
   ]
  },
  {
   "cell_type": "code",
   "execution_count": 47,
   "id": "27b77b14",
   "metadata": {},
   "outputs": [],
   "source": [
    "# top_10_recommendations = top_items.head(10)\n"
   ]
  },
  {
   "cell_type": "code",
   "execution_count": 48,
   "id": "d28c01e9",
   "metadata": {
    "scrolled": false
   },
   "outputs": [
    {
     "data": {
      "text/html": [
       "<div>\n",
       "<style scoped>\n",
       "    .dataframe tbody tr th:only-of-type {\n",
       "        vertical-align: middle;\n",
       "    }\n",
       "\n",
       "    .dataframe tbody tr th {\n",
       "        vertical-align: top;\n",
       "    }\n",
       "\n",
       "    .dataframe thead th {\n",
       "        text-align: right;\n",
       "    }\n",
       "</style>\n",
       "<table border=\"1\" class=\"dataframe\">\n",
       "  <thead>\n",
       "    <tr style=\"text-align: right;\">\n",
       "      <th></th>\n",
       "      <th>movieId</th>\n",
       "      <th>rating</th>\n",
       "    </tr>\n",
       "  </thead>\n",
       "  <tbody>\n",
       "    <tr>\n",
       "      <th>7656</th>\n",
       "      <td>88448</td>\n",
       "      <td>5.0</td>\n",
       "    </tr>\n",
       "    <tr>\n",
       "      <th>8107</th>\n",
       "      <td>100556</td>\n",
       "      <td>5.0</td>\n",
       "    </tr>\n",
       "    <tr>\n",
       "      <th>9083</th>\n",
       "      <td>143031</td>\n",
       "      <td>5.0</td>\n",
       "    </tr>\n",
       "    <tr>\n",
       "      <th>9094</th>\n",
       "      <td>143511</td>\n",
       "      <td>5.0</td>\n",
       "    </tr>\n",
       "    <tr>\n",
       "      <th>9096</th>\n",
       "      <td>143559</td>\n",
       "      <td>5.0</td>\n",
       "    </tr>\n",
       "    <tr>\n",
       "      <th>4251</th>\n",
       "      <td>6201</td>\n",
       "      <td>5.0</td>\n",
       "    </tr>\n",
       "    <tr>\n",
       "      <th>8154</th>\n",
       "      <td>102217</td>\n",
       "      <td>5.0</td>\n",
       "    </tr>\n",
       "    <tr>\n",
       "      <th>8148</th>\n",
       "      <td>102084</td>\n",
       "      <td>5.0</td>\n",
       "    </tr>\n",
       "    <tr>\n",
       "      <th>4246</th>\n",
       "      <td>6192</td>\n",
       "      <td>5.0</td>\n",
       "    </tr>\n",
       "    <tr>\n",
       "      <th>9122</th>\n",
       "      <td>145994</td>\n",
       "      <td>5.0</td>\n",
       "    </tr>\n",
       "  </tbody>\n",
       "</table>\n",
       "</div>"
      ],
      "text/plain": [
       "      movieId  rating\n",
       "7656    88448     5.0\n",
       "8107   100556     5.0\n",
       "9083   143031     5.0\n",
       "9094   143511     5.0\n",
       "9096   143559     5.0\n",
       "4251     6201     5.0\n",
       "8154   102217     5.0\n",
       "8148   102084     5.0\n",
       "4246     6192     5.0\n",
       "9122   145994     5.0"
      ]
     },
     "execution_count": 48,
     "metadata": {},
     "output_type": "execute_result"
    }
   ],
   "source": [
    "# top_10_recommendations"
   ]
  },
  {
   "cell_type": "markdown",
   "id": "9942f676",
   "metadata": {},
   "source": [
    "# Part Two of modeling with movie_name"
   ]
  },
  {
   "cell_type": "code",
   "execution_count": 49,
   "id": "cf1cde7a",
   "metadata": {},
   "outputs": [
    {
     "data": {
      "text/html": [
       "<div>\n",
       "<style scoped>\n",
       "    .dataframe tbody tr th:only-of-type {\n",
       "        vertical-align: middle;\n",
       "    }\n",
       "\n",
       "    .dataframe tbody tr th {\n",
       "        vertical-align: top;\n",
       "    }\n",
       "\n",
       "    .dataframe thead th {\n",
       "        text-align: right;\n",
       "    }\n",
       "</style>\n",
       "<table border=\"1\" class=\"dataframe\">\n",
       "  <thead>\n",
       "    <tr style=\"text-align: right;\">\n",
       "      <th></th>\n",
       "      <th>movieId</th>\n",
       "      <th>title</th>\n",
       "      <th>genres</th>\n",
       "    </tr>\n",
       "  </thead>\n",
       "  <tbody>\n",
       "    <tr>\n",
       "      <th>0</th>\n",
       "      <td>1</td>\n",
       "      <td>Toy Story (1995)</td>\n",
       "      <td>Adventure|Animation|Children|Comedy|Fantasy</td>\n",
       "    </tr>\n",
       "    <tr>\n",
       "      <th>1</th>\n",
       "      <td>2</td>\n",
       "      <td>Jumanji (1995)</td>\n",
       "      <td>Adventure|Children|Fantasy</td>\n",
       "    </tr>\n",
       "    <tr>\n",
       "      <th>2</th>\n",
       "      <td>3</td>\n",
       "      <td>Grumpier Old Men (1995)</td>\n",
       "      <td>Comedy|Romance</td>\n",
       "    </tr>\n",
       "    <tr>\n",
       "      <th>3</th>\n",
       "      <td>4</td>\n",
       "      <td>Waiting to Exhale (1995)</td>\n",
       "      <td>Comedy|Drama|Romance</td>\n",
       "    </tr>\n",
       "    <tr>\n",
       "      <th>4</th>\n",
       "      <td>5</td>\n",
       "      <td>Father of the Bride Part II (1995)</td>\n",
       "      <td>Comedy</td>\n",
       "    </tr>\n",
       "  </tbody>\n",
       "</table>\n",
       "</div>"
      ],
      "text/plain": [
       "   movieId                               title  \\\n",
       "0        1                    Toy Story (1995)   \n",
       "1        2                      Jumanji (1995)   \n",
       "2        3             Grumpier Old Men (1995)   \n",
       "3        4            Waiting to Exhale (1995)   \n",
       "4        5  Father of the Bride Part II (1995)   \n",
       "\n",
       "                                        genres  \n",
       "0  Adventure|Animation|Children|Comedy|Fantasy  \n",
       "1                   Adventure|Children|Fantasy  \n",
       "2                               Comedy|Romance  \n",
       "3                         Comedy|Drama|Romance  \n",
       "4                                       Comedy  "
      ]
     },
     "execution_count": 49,
     "metadata": {},
     "output_type": "execute_result"
    }
   ],
   "source": [
    "# Part Two of modeling with movie_name\n",
    "\n",
    "df_movies.head()"
   ]
  },
  {
   "cell_type": "code",
   "execution_count": 50,
   "id": "607be327",
   "metadata": {},
   "outputs": [
    {
     "data": {
      "text/html": [
       "<div>\n",
       "<style scoped>\n",
       "    .dataframe tbody tr th:only-of-type {\n",
       "        vertical-align: middle;\n",
       "    }\n",
       "\n",
       "    .dataframe tbody tr th {\n",
       "        vertical-align: top;\n",
       "    }\n",
       "\n",
       "    .dataframe thead th {\n",
       "        text-align: right;\n",
       "    }\n",
       "</style>\n",
       "<table border=\"1\" class=\"dataframe\">\n",
       "  <thead>\n",
       "    <tr style=\"text-align: right;\">\n",
       "      <th></th>\n",
       "      <th>userId</th>\n",
       "      <th>movieId</th>\n",
       "      <th>rating</th>\n",
       "      <th>timestamp</th>\n",
       "    </tr>\n",
       "  </thead>\n",
       "  <tbody>\n",
       "    <tr>\n",
       "      <th>0</th>\n",
       "      <td>1</td>\n",
       "      <td>1</td>\n",
       "      <td>4.0</td>\n",
       "      <td>964982703</td>\n",
       "    </tr>\n",
       "    <tr>\n",
       "      <th>1</th>\n",
       "      <td>1</td>\n",
       "      <td>3</td>\n",
       "      <td>4.0</td>\n",
       "      <td>964981247</td>\n",
       "    </tr>\n",
       "    <tr>\n",
       "      <th>2</th>\n",
       "      <td>1</td>\n",
       "      <td>6</td>\n",
       "      <td>4.0</td>\n",
       "      <td>964982224</td>\n",
       "    </tr>\n",
       "    <tr>\n",
       "      <th>3</th>\n",
       "      <td>1</td>\n",
       "      <td>47</td>\n",
       "      <td>5.0</td>\n",
       "      <td>964983815</td>\n",
       "    </tr>\n",
       "    <tr>\n",
       "      <th>4</th>\n",
       "      <td>1</td>\n",
       "      <td>50</td>\n",
       "      <td>5.0</td>\n",
       "      <td>964982931</td>\n",
       "    </tr>\n",
       "  </tbody>\n",
       "</table>\n",
       "</div>"
      ],
      "text/plain": [
       "   userId  movieId  rating  timestamp\n",
       "0       1        1     4.0  964982703\n",
       "1       1        3     4.0  964981247\n",
       "2       1        6     4.0  964982224\n",
       "3       1       47     5.0  964983815\n",
       "4       1       50     5.0  964982931"
      ]
     },
     "execution_count": 50,
     "metadata": {},
     "output_type": "execute_result"
    }
   ],
   "source": [
    "df_ratings.head()"
   ]
  },
  {
   "cell_type": "code",
   "execution_count": 51,
   "id": "b1ef3457",
   "metadata": {},
   "outputs": [
    {
     "data": {
      "text/html": [
       "<div>\n",
       "<style scoped>\n",
       "    .dataframe tbody tr th:only-of-type {\n",
       "        vertical-align: middle;\n",
       "    }\n",
       "\n",
       "    .dataframe tbody tr th {\n",
       "        vertical-align: top;\n",
       "    }\n",
       "\n",
       "    .dataframe thead th {\n",
       "        text-align: right;\n",
       "    }\n",
       "</style>\n",
       "<table border=\"1\" class=\"dataframe\">\n",
       "  <thead>\n",
       "    <tr style=\"text-align: right;\">\n",
       "      <th></th>\n",
       "      <th>movieId</th>\n",
       "      <th>title</th>\n",
       "      <th>genres</th>\n",
       "      <th>userId</th>\n",
       "      <th>rating</th>\n",
       "      <th>timestamp</th>\n",
       "    </tr>\n",
       "  </thead>\n",
       "  <tbody>\n",
       "    <tr>\n",
       "      <th>0</th>\n",
       "      <td>1</td>\n",
       "      <td>Toy Story (1995)</td>\n",
       "      <td>Adventure|Animation|Children|Comedy|Fantasy</td>\n",
       "      <td>1.0</td>\n",
       "      <td>4.0</td>\n",
       "      <td>9.649827e+08</td>\n",
       "    </tr>\n",
       "    <tr>\n",
       "      <th>1</th>\n",
       "      <td>1</td>\n",
       "      <td>Toy Story (1995)</td>\n",
       "      <td>Adventure|Animation|Children|Comedy|Fantasy</td>\n",
       "      <td>5.0</td>\n",
       "      <td>4.0</td>\n",
       "      <td>8.474350e+08</td>\n",
       "    </tr>\n",
       "    <tr>\n",
       "      <th>2</th>\n",
       "      <td>1</td>\n",
       "      <td>Toy Story (1995)</td>\n",
       "      <td>Adventure|Animation|Children|Comedy|Fantasy</td>\n",
       "      <td>7.0</td>\n",
       "      <td>4.5</td>\n",
       "      <td>1.106636e+09</td>\n",
       "    </tr>\n",
       "    <tr>\n",
       "      <th>3</th>\n",
       "      <td>1</td>\n",
       "      <td>Toy Story (1995)</td>\n",
       "      <td>Adventure|Animation|Children|Comedy|Fantasy</td>\n",
       "      <td>15.0</td>\n",
       "      <td>2.5</td>\n",
       "      <td>1.510578e+09</td>\n",
       "    </tr>\n",
       "    <tr>\n",
       "      <th>4</th>\n",
       "      <td>1</td>\n",
       "      <td>Toy Story (1995)</td>\n",
       "      <td>Adventure|Animation|Children|Comedy|Fantasy</td>\n",
       "      <td>17.0</td>\n",
       "      <td>4.5</td>\n",
       "      <td>1.305696e+09</td>\n",
       "    </tr>\n",
       "  </tbody>\n",
       "</table>\n",
       "</div>"
      ],
      "text/plain": [
       "   movieId             title                                       genres  \\\n",
       "0        1  Toy Story (1995)  Adventure|Animation|Children|Comedy|Fantasy   \n",
       "1        1  Toy Story (1995)  Adventure|Animation|Children|Comedy|Fantasy   \n",
       "2        1  Toy Story (1995)  Adventure|Animation|Children|Comedy|Fantasy   \n",
       "3        1  Toy Story (1995)  Adventure|Animation|Children|Comedy|Fantasy   \n",
       "4        1  Toy Story (1995)  Adventure|Animation|Children|Comedy|Fantasy   \n",
       "\n",
       "   userId  rating     timestamp  \n",
       "0     1.0     4.0  9.649827e+08  \n",
       "1     5.0     4.0  8.474350e+08  \n",
       "2     7.0     4.5  1.106636e+09  \n",
       "3    15.0     2.5  1.510578e+09  \n",
       "4    17.0     4.5  1.305696e+09  "
      ]
     },
     "execution_count": 51,
     "metadata": {},
     "output_type": "execute_result"
    }
   ],
   "source": [
    "# df_merged.head()"
   ]
  },
  {
   "cell_type": "code",
   "execution_count": null,
   "id": "1126eea6",
   "metadata": {},
   "outputs": [],
   "source": []
  },
  {
   "cell_type": "markdown",
   "id": "54dc809c",
   "metadata": {},
   "source": [
    "# trial 3 "
   ]
  },
  {
   "cell_type": "code",
   "execution_count": 68,
   "id": "b181d18c",
   "metadata": {},
   "outputs": [
    {
     "name": "stdout",
     "output_type": "stream",
     "text": [
      "Top 5 Popular Movies:\n",
      "                                    title  rating\n",
      "3360            Gena the Crocodile (1969)     5.0\n",
      "8968                  True Stories (1986)     5.0\n",
      "1991        Cosmic Scrat-tastrophe (2015)     5.0\n",
      "5278              Love and Pigeons (1985)     5.0\n",
      "7046  Red Sorghum (Hong gao liang) (1987)     5.0\n"
     ]
    }
   ],
   "source": [
    "# Baseline Model: Popularity-Based\n",
    "# Calculate the average rating for each movie\n",
    "movie_ratings = df_merged.groupby('title')['rating'].mean().reset_index()\n",
    "\n",
    "# Sort movies by average rating in descending order\n",
    "top_popular_movies = movie_ratings.sort_values(by='rating', ascending=False)\n",
    "\n",
    "# Recommend the top 5 popular movies\n",
    "top_5_popular_movies = top_popular_movies.head(5)\n",
    "print(\"Top 5 Popular Movies:\")\n",
    "print(top_5_popular_movies)\n"
   ]
  },
  {
   "cell_type": "code",
   "execution_count": 11,
   "id": "4615d075",
   "metadata": {},
   "outputs": [
    {
     "name": "stdout",
     "output_type": "stream",
     "text": [
      "Requirement already satisfied: scikit-surprise in c:\\users\\pc\\anaconda3\\envs\\learn-env\\lib\\site-packages (1.1.3)\n",
      "Requirement already satisfied: numpy>=1.17.3 in c:\\users\\pc\\anaconda3\\envs\\learn-env\\lib\\site-packages (from scikit-surprise) (1.24.3)\n",
      "Requirement already satisfied: joblib>=1.0.0 in c:\\users\\pc\\anaconda3\\envs\\learn-env\\lib\\site-packages (from scikit-surprise) (1.3.0)\n",
      "Requirement already satisfied: scipy>=1.3.2 in c:\\users\\pc\\anaconda3\\envs\\learn-env\\lib\\site-packages (from scikit-surprise) (1.10.1)\n"
     ]
    }
   ],
   "source": [
    "!pip install scikit-surprise\n"
   ]
  },
  {
   "cell_type": "code",
   "execution_count": 72,
   "id": "b6cae875",
   "metadata": {},
   "outputs": [
    {
     "name": "stdout",
     "output_type": "stream",
     "text": [
      "Computing the cosine similarity matrix...\n",
      "Done computing similarity matrix.\n",
      "RMSE: 0.9659\n",
      "RMSE: 0.9659\n",
      "Top 5 Movie Recommendations for User 567:\n",
      "Come and See (Idi i smotri) (1985) (Estimated Rating: 5.00)\n",
      "The Lego Batman Movie (2017) (Estimated Rating: 4.67)\n",
      "Man Bites Dog (C'est arrivé près de chez vous) (1992) (Estimated Rating: 4.63)\n",
      "Funny Games U.S. (2007) (Estimated Rating: 4.50)\n",
      "Good Will Hunting (1997) (Estimated Rating: 4.30)\n"
     ]
    }
   ],
   "source": [
    "# Importing Surprise libraries\n",
    "from surprise import Dataset, Reader\n",
    "from surprise.model_selection import train_test_split\n",
    "from surprise import KNNBasic\n",
    "from surprise import accuracy\n",
    "\n",
    "# Create a Reader object\n",
    "reader = Reader(rating_scale=(1, 5))\n",
    "\n",
    "# Load the dataset using Surprise's Dataset class\n",
    "data = Dataset.load_from_df(df_merged[['userId', 'movieId', 'rating']], reader)\n",
    "\n",
    "# Split the dataset into a train and test set\n",
    "trainset, testset = train_test_split(data, test_size=0.2, random_state=42)\n",
    "\n",
    "# Build a collaborative filtering model\n",
    "sim_options = {\n",
    "    'name': 'cosine',  # Use cosine similarity\n",
    "    'user_based': True  # User-based collaborative filtering\n",
    "}\n",
    "\n",
    "model = KNNBasic(sim_options=sim_options)\n",
    "\n",
    "# Train the model on the training set\n",
    "model.fit(trainset)\n",
    "\n",
    "# Make predictions on the test set\n",
    "predictions = model.test(testset)\n",
    "\n",
    "# Evaluate the model (you can use RMSE or other metrics)\n",
    "rmse = accuracy.rmse(predictions)\n",
    "print(f'RMSE: {rmse:.4f}')\n",
    "\n",
    "# Function to get top N movie recommendations for a user\n",
    "def get_top_n_recommendations(predictions, n=5):\n",
    "    top_n = {}\n",
    "    for uid, iid, true_r, est, _ in predictions:\n",
    "        if uid not in top_n:\n",
    "            top_n[uid] = []\n",
    "        top_n[uid].append((iid, est))\n",
    "    \n",
    "    # Sort the recommendations for each user and get the top N\n",
    "    for uid, user_ratings in top_n.items():\n",
    "        user_ratings.sort(key=lambda x: x[1], reverse=True)\n",
    "        top_n[uid] = user_ratings[:n]\n",
    "    \n",
    "    return top_n\n",
    "\n",
    "# Replace 'user_id_to_recommend_for' with the target user's ID\n",
    "user_id_to_recommend_for = 567\n",
    "\n",
    "# Get top 5 movie recommendations for the user\n",
    "top_n_recommendations = get_top_n_recommendations(predictions, n=5)\n",
    "user_top_5_recommendations = top_n_recommendations.get(user_id_to_recommend_for, [])\n",
    "print(f\"Top 5 Movie Recommendations for User {user_id_to_recommend_for}:\")\n",
    "for movie_id, estimated_rating in user_top_5_recommendations:\n",
    "    movie_title = df_movies[df_movies['movieId'] == movie_id]['title'].values[0]\n",
    "    print(f\"{movie_title} (Estimated Rating: {estimated_rating:.2f})\")\n"
   ]
  },
  {
   "cell_type": "code",
   "execution_count": 70,
   "id": "0e43b8e5",
   "metadata": {},
   "outputs": [
    {
     "name": "stdout",
     "output_type": "stream",
     "text": [
      "Columns with Missing Values:\n",
      "userId       18\n",
      "rating       18\n",
      "timestamp    18\n",
      "dtype: int64\n"
     ]
    }
   ],
   "source": [
    "import pandas as pd\n",
    "\n",
    "# Check for missing values in the df_merged DataFrame\n",
    "missing_values = df_merged.isna().sum()\n",
    "\n",
    "# Display columns with missing values (if any)\n",
    "columns_with_missing_values = missing_values[missing_values > 0]\n",
    "if not columns_with_missing_values.empty:\n",
    "    print(\"Columns with Missing Values:\")\n",
    "    print(columns_with_missing_values)\n",
    "else:\n",
    "    print(\"No Missing Values Found in the Dataset\")\n"
   ]
  },
  {
   "cell_type": "code",
   "execution_count": 15,
   "id": "579dc59e",
   "metadata": {},
   "outputs": [
    {
     "name": "stdout",
     "output_type": "stream",
     "text": [
      "<class 'pandas.core.frame.DataFrame'>\n",
      "RangeIndex: 100854 entries, 0 to 100853\n",
      "Data columns (total 6 columns):\n",
      " #   Column     Non-Null Count   Dtype  \n",
      "---  ------     --------------   -----  \n",
      " 0   movieId    100854 non-null  int64  \n",
      " 1   title      100854 non-null  object \n",
      " 2   genres     100854 non-null  object \n",
      " 3   userId     100836 non-null  float64\n",
      " 4   rating     100836 non-null  float64\n",
      " 5   timestamp  100836 non-null  float64\n",
      "dtypes: float64(3), int64(1), object(2)\n",
      "memory usage: 4.6+ MB\n"
     ]
    }
   ],
   "source": [
    "df_merged.info()"
   ]
  },
  {
   "cell_type": "code",
   "execution_count": 71,
   "id": "ae5b4d34",
   "metadata": {},
   "outputs": [],
   "source": [
    "df_merged.dropna(inplace=True)\n"
   ]
  },
  {
   "cell_type": "code",
   "execution_count": 33,
   "id": "6e70b5ac",
   "metadata": {},
   "outputs": [
    {
     "data": {
      "text/html": [
       "<div>\n",
       "<style scoped>\n",
       "    .dataframe tbody tr th:only-of-type {\n",
       "        vertical-align: middle;\n",
       "    }\n",
       "\n",
       "    .dataframe tbody tr th {\n",
       "        vertical-align: top;\n",
       "    }\n",
       "\n",
       "    .dataframe thead th {\n",
       "        text-align: right;\n",
       "    }\n",
       "</style>\n",
       "<table border=\"1\" class=\"dataframe\">\n",
       "  <thead>\n",
       "    <tr style=\"text-align: right;\">\n",
       "      <th></th>\n",
       "      <th>movieId</th>\n",
       "      <th>title</th>\n",
       "      <th>genres</th>\n",
       "      <th>userId</th>\n",
       "      <th>rating</th>\n",
       "      <th>timestamp</th>\n",
       "    </tr>\n",
       "  </thead>\n",
       "  <tbody>\n",
       "    <tr>\n",
       "      <th>0</th>\n",
       "      <td>1</td>\n",
       "      <td>Toy Story (1995)</td>\n",
       "      <td>Adventure|Animation|Children|Comedy|Fantasy</td>\n",
       "      <td>1.0</td>\n",
       "      <td>4.0</td>\n",
       "      <td>9.649827e+08</td>\n",
       "    </tr>\n",
       "    <tr>\n",
       "      <th>1</th>\n",
       "      <td>1</td>\n",
       "      <td>Toy Story (1995)</td>\n",
       "      <td>Adventure|Animation|Children|Comedy|Fantasy</td>\n",
       "      <td>5.0</td>\n",
       "      <td>4.0</td>\n",
       "      <td>8.474350e+08</td>\n",
       "    </tr>\n",
       "    <tr>\n",
       "      <th>2</th>\n",
       "      <td>1</td>\n",
       "      <td>Toy Story (1995)</td>\n",
       "      <td>Adventure|Animation|Children|Comedy|Fantasy</td>\n",
       "      <td>7.0</td>\n",
       "      <td>4.5</td>\n",
       "      <td>1.106636e+09</td>\n",
       "    </tr>\n",
       "    <tr>\n",
       "      <th>3</th>\n",
       "      <td>1</td>\n",
       "      <td>Toy Story (1995)</td>\n",
       "      <td>Adventure|Animation|Children|Comedy|Fantasy</td>\n",
       "      <td>15.0</td>\n",
       "      <td>2.5</td>\n",
       "      <td>1.510578e+09</td>\n",
       "    </tr>\n",
       "    <tr>\n",
       "      <th>4</th>\n",
       "      <td>1</td>\n",
       "      <td>Toy Story (1995)</td>\n",
       "      <td>Adventure|Animation|Children|Comedy|Fantasy</td>\n",
       "      <td>17.0</td>\n",
       "      <td>4.5</td>\n",
       "      <td>1.305696e+09</td>\n",
       "    </tr>\n",
       "  </tbody>\n",
       "</table>\n",
       "</div>"
      ],
      "text/plain": [
       "   movieId             title                                       genres  \\\n",
       "0        1  Toy Story (1995)  Adventure|Animation|Children|Comedy|Fantasy   \n",
       "1        1  Toy Story (1995)  Adventure|Animation|Children|Comedy|Fantasy   \n",
       "2        1  Toy Story (1995)  Adventure|Animation|Children|Comedy|Fantasy   \n",
       "3        1  Toy Story (1995)  Adventure|Animation|Children|Comedy|Fantasy   \n",
       "4        1  Toy Story (1995)  Adventure|Animation|Children|Comedy|Fantasy   \n",
       "\n",
       "   userId  rating     timestamp  \n",
       "0     1.0     4.0  9.649827e+08  \n",
       "1     5.0     4.0  8.474350e+08  \n",
       "2     7.0     4.5  1.106636e+09  \n",
       "3    15.0     2.5  1.510578e+09  \n",
       "4    17.0     4.5  1.305696e+09  "
      ]
     },
     "execution_count": 33,
     "metadata": {},
     "output_type": "execute_result"
    }
   ],
   "source": [
    "df_merged.head()"
   ]
  },
  {
   "cell_type": "markdown",
   "id": "52bd4db9",
   "metadata": {},
   "source": [
    "## Trial 4"
   ]
  },
  {
   "cell_type": "markdown",
   "id": "37574028",
   "metadata": {},
   "source": [
    "Here I use Average Rating-Based Reccomender "
   ]
  },
  {
   "cell_type": "code",
   "execution_count": 34,
   "id": "950d280f",
   "metadata": {},
   "outputs": [],
   "source": [
    "import numpy as np"
   ]
  },
  {
   "cell_type": "code",
   "execution_count": 35,
   "id": "530f642b",
   "metadata": {
    "scrolled": true
   },
   "outputs": [],
   "source": [
    "# from sklearn.model_selection import train_test_split\n",
    "\n",
    "# # Split the dataset into a train and test set\n",
    "# train_data, test_data = train_test_split(df_merged, test_size=0.2, random_state=42)\n",
    "\n",
    "# # Calculate the average rating for each movie using the train_data\n",
    "# movie_ratings = train_data.groupby('movieId')['rating'].mean().reset_index()\n",
    "\n",
    "# # Merge the average ratings with the test_data to get the actual ratings for the test set movies\n",
    "# testset_actual_ratings = pd.merge(test_data, movie_ratings, on='movieId', how='left')\n",
    "\n",
    "# # Calculate the RMSE for the average rating-based baseline model\n",
    "# baseline_rmse = np.sqrt(np.mean((testset_actual_ratings['rating'] - testset_actual_ratings['rating_x'])**2))\n",
    "# print(f'Average Rating-Based Baseline Model RMSE: {baseline_rmse:.4f}')\n"
   ]
  },
  {
   "cell_type": "code",
   "execution_count": 36,
   "id": "0e247ce2",
   "metadata": {},
   "outputs": [
    {
     "name": "stdout",
     "output_type": "stream",
     "text": [
      "Average Rating-Based Baseline Model RMSE: 0.9686\n"
     ]
    }
   ],
   "source": [
    "import numpy as np\n",
    "from sklearn.model_selection import train_test_split\n",
    "\n",
    "# Split the dataset into a train and test set\n",
    "train_data, test_data = train_test_split(df_merged, test_size=0.2, random_state=42)\n",
    "\n",
    "# Calculate the average rating for each movie using the train_data\n",
    "movie_ratings = train_data.groupby('movieId')['rating'].mean().reset_index()\n",
    "\n",
    "# Merge the average ratings with the test_data to get the actual ratings for the test set movies\n",
    "testset_actual_ratings = pd.merge(test_data, movie_ratings, on='movieId', how='left', suffixes=('_test', '_avg_rating'))\n",
    "\n",
    "# Calculate the RMSE for the average rating-based baseline model\n",
    "baseline_rmse = np.sqrt(np.mean((testset_actual_ratings['rating_test'] - testset_actual_ratings['rating_avg_rating'])**2))\n",
    "print(f'Average Rating-Based Baseline Model RMSE: {baseline_rmse:.4f}')\n"
   ]
  },
  {
   "cell_type": "code",
   "execution_count": 37,
   "id": "edbc1ee4",
   "metadata": {},
   "outputs": [
    {
     "name": "stdout",
     "output_type": "stream",
     "text": [
      "Top 5 Recommended Movies (Average Rating-Based):\n",
      "Particle Fever (2013) (Average Rating: 5.00)\n",
      "Trinity and Sartana Are Coming (1972) (Average Rating: 5.00)\n",
      "Winnie Pooh (1969) (Average Rating: 5.00)\n",
      "Winnie the Pooh Goes Visiting (1971) (Average Rating: 5.00)\n",
      "Winnie the Pooh and the Day of Concern (1972) (Average Rating: 5.00)\n"
     ]
    }
   ],
   "source": [
    "# Sort the movie_ratings DataFrame by average rating in descending order\n",
    "top_rated_movies = movie_ratings.sort_values(by='rating', ascending=False)\n",
    "\n",
    "# Get the top 5 movies with the highest average ratings\n",
    "top_5_movies = top_rated_movies.head(5)\n",
    "\n",
    "# Display the top 5 recommended movies\n",
    "print(\"Top 5 Recommended Movies (Average Rating-Based):\")\n",
    "for index, row in top_5_movies.iterrows():\n",
    "    movie_id = row['movieId']\n",
    "    movie_title = df_movies[df_movies['movieId'] == movie_id]['title'].values[0]\n",
    "    avg_rating = row['rating']\n",
    "    print(f\"{movie_title} (Average Rating: {avg_rating:.2f})\")\n"
   ]
  },
  {
   "cell_type": "code",
   "execution_count": 28,
   "id": "1604f4c2",
   "metadata": {},
   "outputs": [
    {
     "name": "stdout",
     "output_type": "stream",
     "text": [
      "Top 5 Recommended Movies for User 456 (Average Rating-Based):\n",
      "Gena the Crocodile (1969) (Average Rating: 5.00)\n",
      "Winter in Prostokvashino (1984) (Average Rating: 5.00)\n",
      "Bill Hicks: Revelations (1993) (Average Rating: 5.00)\n",
      "Crossing Delancey (1988) (Average Rating: 5.00)\n",
      "American Friend, The (Amerikanische Freund, Der) (1977) (Average Rating: 5.00)\n"
     ]
    }
   ],
   "source": [
    "# Specify the user ID for whom you want to make recommendations\n",
    "specific_user_id = 456\n",
    "\n",
    "# Calculate the average rating for each movie using the train_data\n",
    "movie_ratings = train_data.groupby('movieId')['rating'].mean().reset_index()\n",
    "\n",
    "# Filter movies that the specific user has not rated\n",
    "movies_not_rated_by_user = df_movies[~df_movies['movieId'].isin(train_data[train_data['userId'] == specific_user_id]['movieId'])]\n",
    "\n",
    "# Merge the average ratings with the movies_not_rated_by_user DataFrame\n",
    "movie_ratings = pd.merge(movies_not_rated_by_user, movie_ratings, on='movieId', how='left')\n",
    "\n",
    "# Sort the movies by average rating in descending order\n",
    "movie_ratings_sorted = movie_ratings.sort_values(by='rating', ascending=False)\n",
    "\n",
    "# Recommend the top 5 movies to the specific user\n",
    "top_5_recommendations = movie_ratings_sorted.head(5)\n",
    "\n",
    "# Display the top 5 recommended movies\n",
    "print(f\"Top 5 Recommended Movies for User {specific_user_id} (Average Rating-Based):\")\n",
    "for index, row in top_5_recommendations.iterrows():\n",
    "    movie_title = row['title']\n",
    "    avg_rating = row['rating']\n",
    "    print(f\"{movie_title} (Average Rating: {avg_rating:.2f})\")\n"
   ]
  },
  {
   "cell_type": "code",
   "execution_count": null,
   "id": "09c9933f",
   "metadata": {},
   "outputs": [],
   "source": []
  }
 ],
 "metadata": {
  "kernelspec": {
   "display_name": "Python(spark-env)",
   "language": "python",
   "name": "spark-env"
  },
  "language_info": {
   "codemirror_mode": {
    "name": "ipython",
    "version": 3
   },
   "file_extension": ".py",
   "mimetype": "text/x-python",
   "name": "python",
   "nbconvert_exporter": "python",
   "pygments_lexer": "ipython3",
   "version": "3.10.12"
  }
 },
 "nbformat": 4,
 "nbformat_minor": 5
}
