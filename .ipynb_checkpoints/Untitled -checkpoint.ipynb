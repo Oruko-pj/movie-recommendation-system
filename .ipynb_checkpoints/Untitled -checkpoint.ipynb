{
 "cells": [
  {
   "cell_type": "markdown",
   "id": "1daf99e1",
   "metadata": {},
   "source": [
    "# 1.0 Introduction "
   ]
  },
  {
   "cell_type": "markdown",
   "id": "98d83c9a",
   "metadata": {},
   "source": [
    "In today's digital age, the abundance of movies and TV shows available for streaming has led to an overwhelming choice for viewers.\n",
    "Finding the perfect movie that aligns with one's preferences and tastes can be a daunting task. \n",
    "This is where recommendation systems come into play, offering personalized suggestions to users based on their viewing history and preferences\n",
    "\n",
    "At their core, recommendation systems are like virtual curators, sifting through the vast ocean of content to help us discover hidden gems and favorites we might have missed otherwise.\n",
    "Whether you're a fan of heartwarming rom-coms, thrilling action flicks, or mind-bending sci-fi adventures, these systems are designed to understand your unique viewing history and preferences\n",
    "\n",
    "Imagine having a knowledgeable friend who knows your taste in movies inside and out. \n",
    "They can suggest films you're likely to love, even before you know they exist. \n",
    "That's the essence of what recommendation systems aim to achieve. By analyzing your past viewing choices, they provide you with tailored movie recommendations, saving you time and enhancing your entertainment experience.\n"
   ]
  },
  {
   "cell_type": "markdown",
   "id": "da5277a2",
   "metadata": {},
   "source": [
    "# 2.0 Business Understanding "
   ]
  },
  {
   "cell_type": "markdown",
   "id": "65c6794f",
   "metadata": {},
   "source": [
    "## 2.1 Problem Statement "
   ]
  },
  {
   "cell_type": "markdown",
   "id": "ce89df9b",
   "metadata": {},
   "source": [
    "Our goal is to craft a movie recommendation system that takes your streaming experience to the next level. \n",
    "Imagine this system as your personal movie guru, understanding your likes and dislikes by looking at the ratings you've given to movies you've watched before.\n",
    " With this knowledge, it can handpick the top 5 movie recommendations that are just right for you.\n",
    " \n",
    "Think of it as having a movie-loving friend who always knows the best films to suggest, even ones you didn't know existed. \n",
    "This system does exactly that, and it's all about making your movie nights more enjoyable."
   ]
  },
  {
   "cell_type": "markdown",
   "id": "2e435fbb",
   "metadata": {},
   "source": [
    "## 2.2 Main Objective "
   ]
  },
  {
   "cell_type": "markdown",
   "id": "8c21d8d8",
   "metadata": {},
   "source": [
    "- To build an effective movie recommendation system that enhances user satisfaction and engagement."
   ]
  },
  {
   "cell_type": "markdown",
   "id": "bd076101",
   "metadata": {},
   "source": [
    "## 2.3 Specific Objective "
   ]
  },
  {
   "cell_type": "markdown",
   "id": "9531d841",
   "metadata": {},
   "source": [
    "> Personalization: \n",
    "Develop recommendation algorithms that provide highly personalized movie suggestions based on individual user preferences and their specific viewing history.\n",
    "\n",
    "> Popularity-Based Recommendations: Implement a baseline popularity-based recommender as a complementary feature to promote globally popular movies when personalized data is limited."
   ]
  },
  {
   "cell_type": "markdown",
   "id": "cd635cbd",
   "metadata": {},
   "source": [
    "## 2.4 Research Questions"
   ]
  },
  {
   "cell_type": "markdown",
   "id": "4e0e86c7",
   "metadata": {},
   "source": [
    "#### Effectiveness of Personalized Recommendations:\n",
    "\n",
    "How does the level of personalization in movie recommendations impact user satisfaction and movie consumption rates?\n",
    "\n",
    "\n",
    "#### Comparison of Recommendation Algorithms:\n",
    "\n",
    "What are the performance differences between collaborative filtering algorithms like SVD and baseline models in predicting user movie preferences accurately?"
   ]
  },
  {
   "cell_type": "markdown",
   "id": "50f90b70",
   "metadata": {},
   "source": [
    "# 2.5 Summary"
   ]
  },
  {
   "cell_type": "markdown",
   "id": "04de52b6",
   "metadata": {},
   "source": [
    "- Business and Data Understanding:\n",
    "\n",
    "Data Used: The project involves movie recommendation, utilizing a dataset containing user ratings for various movies. This data is well-suited for the business problem of providing personalized movie recommendations.\n",
    "Descriptive Statistics: Descriptive statistics were used to gain insights into the dataset's characteristics, such as average ratings, user activity, and popular movies.\n",
    "\n",
    "- Data Preparation:\n",
    "\n",
    "Data Preprocessing: Data preparation involved handling missing values, ensuring data consistency, and encoding categorical variables.\n",
    "Packages Used: Pandas was used for data manipulation and analysis, and Scikit-learn for data preprocessing. The choice of these packages was based on their effectiveness in handling structured data.\n",
    "\n",
    "- Modeling:\n",
    "\n",
    "Recommendation Models: Two main models were employed. First, a baseline popularity-based model recommended movies based on global statistics like mean ratings. Second, a collaborative filtering model (SVD) was used to provide personalized recommendations by analyzing user-movie interactions.\n",
    "Hyperparameter Tuning: Hyperparameter tuning was conducted, optimizing parameters like the number of latent factors and regularization to enhance model performance.\n",
    "Packages Used: Surprise library was employed for collaborative filtering, and Scikit-learn for hyperparameter tuning. These choices were made for their suitability in building recommendation systems.\n",
    "\n",
    "- Evaluation:\n",
    "\n",
    "Model Performance: The collaborative filtering model (SVD) outperformed the baseline popularity-based model with a lower RMSE, indicating better predictive accuracy.\n",
    "Validation Approach: The evaluation was performed using Root Mean Squared Error (RMSE) as a relevant metric to assess the accuracy of movie rating predictions. A train-test split was used to validate model performance on unseen data"
   ]
  },
  {
   "cell_type": "markdown",
   "id": "2c93b56d",
   "metadata": {},
   "source": [
    "# 3.0 Data Understanding "
   ]
  },
  {
   "cell_type": "markdown",
   "id": "aa3156b1",
   "metadata": {},
   "source": [
    "For this project, we are utilizizng a dataset from Movielens dataset from Grouplens research lab at University of Minnesota. The dataset (ml-latest-small) describes 5-star rating and free-text tagging activity. It contains 4 files: movies.csv, ratings.csv, links.csv, tags.csv.\n",
    "\n",
    "The various file have different columns within them:\n",
    "\n",
    "- Moives.csv has the following columns:\n",
    "    - movieid : is an identifier for movies.\n",
    "    - tile : Represents the title of the movies.\n",
    "    - genre : Represents the type of movie.\n",
    "    \n",
    "- Ratings.csv has the following columns:\n",
    "    - userid : is an identifier for users.  \n",
    "    - movieid : is an identifier for movies.\n",
    "    - rating : are made on a 5-star scale, with half-star increments (0.5 stars - 5.0 stars).\n",
    "    - timestamp : represent seconds since midnight Coordinated Universal Time (UTC) of January 1,                       1970.\n",
    "    \n",
    "- Links.csv has the following columns:\n",
    "    - movieid : is an identifier for movies.\n",
    "    - imdbid : is an identifier for movies used by <http://www.imdb.com>.\n",
    "    - tmdbid : is an identifier for movies used by <https://www.themoviedb.org>.\n",
    "    \n",
    "- Tags.csv has the following columns: \n",
    "    - userid : is an identifier for users.\n",
    "    - movieid : is an identifier for movies.\n",
    "    - tag : are user-generated metadata about movies. Each tag is typically a single word or short                 phrase\n",
    "    - timestamp : represent seconds since midnight Coordinated Universal Time (UTC) of January 1,                       1970.\n",
    "    \n",
    "    \n",
    "To start the analysis first we need to import the necessary libraries that will be essential for functions like data manipulation, visualization, and statistical analysis."
   ]
  },
  {
   "cell_type": "code",
   "execution_count": 3,
   "id": "faae3dea",
   "metadata": {},
   "outputs": [],
   "source": [
    "import pandas as pd \n",
    "from datetime import datetime \n",
    "import seaborn as sns \n",
    "import matplotlib.pyplot as plt"
   ]
  },
  {
   "cell_type": "markdown",
   "id": "07815fbb",
   "metadata": {},
   "source": [
    "The next step involves opening the datasets and examining the first five rows of the dataset to gain initial understanding of its structure."
   ]
  },
  {
   "cell_type": "code",
   "execution_count": 4,
   "id": "09a4654d",
   "metadata": {
    "scrolled": true
   },
   "outputs": [
    {
     "data": {
      "text/html": [
       "<div>\n",
       "<style scoped>\n",
       "    .dataframe tbody tr th:only-of-type {\n",
       "        vertical-align: middle;\n",
       "    }\n",
       "\n",
       "    .dataframe tbody tr th {\n",
       "        vertical-align: top;\n",
       "    }\n",
       "\n",
       "    .dataframe thead th {\n",
       "        text-align: right;\n",
       "    }\n",
       "</style>\n",
       "<table border=\"1\" class=\"dataframe\">\n",
       "  <thead>\n",
       "    <tr style=\"text-align: right;\">\n",
       "      <th></th>\n",
       "      <th>movieId</th>\n",
       "      <th>title</th>\n",
       "      <th>genres</th>\n",
       "    </tr>\n",
       "  </thead>\n",
       "  <tbody>\n",
       "    <tr>\n",
       "      <th>0</th>\n",
       "      <td>1</td>\n",
       "      <td>Toy Story (1995)</td>\n",
       "      <td>Adventure|Animation|Children|Comedy|Fantasy</td>\n",
       "    </tr>\n",
       "    <tr>\n",
       "      <th>1</th>\n",
       "      <td>2</td>\n",
       "      <td>Jumanji (1995)</td>\n",
       "      <td>Adventure|Children|Fantasy</td>\n",
       "    </tr>\n",
       "    <tr>\n",
       "      <th>2</th>\n",
       "      <td>3</td>\n",
       "      <td>Grumpier Old Men (1995)</td>\n",
       "      <td>Comedy|Romance</td>\n",
       "    </tr>\n",
       "    <tr>\n",
       "      <th>3</th>\n",
       "      <td>4</td>\n",
       "      <td>Waiting to Exhale (1995)</td>\n",
       "      <td>Comedy|Drama|Romance</td>\n",
       "    </tr>\n",
       "    <tr>\n",
       "      <th>4</th>\n",
       "      <td>5</td>\n",
       "      <td>Father of the Bride Part II (1995)</td>\n",
       "      <td>Comedy</td>\n",
       "    </tr>\n",
       "  </tbody>\n",
       "</table>\n",
       "</div>"
      ],
      "text/plain": [
       "   movieId                               title   \n",
       "0        1                    Toy Story (1995)  \\\n",
       "1        2                      Jumanji (1995)   \n",
       "2        3             Grumpier Old Men (1995)   \n",
       "3        4            Waiting to Exhale (1995)   \n",
       "4        5  Father of the Bride Part II (1995)   \n",
       "\n",
       "                                        genres  \n",
       "0  Adventure|Animation|Children|Comedy|Fantasy  \n",
       "1                   Adventure|Children|Fantasy  \n",
       "2                               Comedy|Romance  \n",
       "3                         Comedy|Drama|Romance  \n",
       "4                                       Comedy  "
      ]
     },
     "execution_count": 4,
     "metadata": {},
     "output_type": "execute_result"
    }
   ],
   "source": [
    "# Reading the movies dataset \n",
    "df_movies = pd.read_csv('ml-latest-small/ml-latest-small/movies.csv')\n",
    "df_movies.head()"
   ]
  },
  {
   "cell_type": "code",
   "execution_count": 5,
   "id": "c2fbccd8",
   "metadata": {},
   "outputs": [
    {
     "data": {
      "text/html": [
       "<div>\n",
       "<style scoped>\n",
       "    .dataframe tbody tr th:only-of-type {\n",
       "        vertical-align: middle;\n",
       "    }\n",
       "\n",
       "    .dataframe tbody tr th {\n",
       "        vertical-align: top;\n",
       "    }\n",
       "\n",
       "    .dataframe thead th {\n",
       "        text-align: right;\n",
       "    }\n",
       "</style>\n",
       "<table border=\"1\" class=\"dataframe\">\n",
       "  <thead>\n",
       "    <tr style=\"text-align: right;\">\n",
       "      <th></th>\n",
       "      <th>userId</th>\n",
       "      <th>movieId</th>\n",
       "      <th>rating</th>\n",
       "      <th>timestamp</th>\n",
       "    </tr>\n",
       "  </thead>\n",
       "  <tbody>\n",
       "    <tr>\n",
       "      <th>0</th>\n",
       "      <td>1</td>\n",
       "      <td>1</td>\n",
       "      <td>4.0</td>\n",
       "      <td>964982703</td>\n",
       "    </tr>\n",
       "    <tr>\n",
       "      <th>1</th>\n",
       "      <td>1</td>\n",
       "      <td>3</td>\n",
       "      <td>4.0</td>\n",
       "      <td>964981247</td>\n",
       "    </tr>\n",
       "    <tr>\n",
       "      <th>2</th>\n",
       "      <td>1</td>\n",
       "      <td>6</td>\n",
       "      <td>4.0</td>\n",
       "      <td>964982224</td>\n",
       "    </tr>\n",
       "    <tr>\n",
       "      <th>3</th>\n",
       "      <td>1</td>\n",
       "      <td>47</td>\n",
       "      <td>5.0</td>\n",
       "      <td>964983815</td>\n",
       "    </tr>\n",
       "    <tr>\n",
       "      <th>4</th>\n",
       "      <td>1</td>\n",
       "      <td>50</td>\n",
       "      <td>5.0</td>\n",
       "      <td>964982931</td>\n",
       "    </tr>\n",
       "  </tbody>\n",
       "</table>\n",
       "</div>"
      ],
      "text/plain": [
       "   userId  movieId  rating  timestamp\n",
       "0       1        1     4.0  964982703\n",
       "1       1        3     4.0  964981247\n",
       "2       1        6     4.0  964982224\n",
       "3       1       47     5.0  964983815\n",
       "4       1       50     5.0  964982931"
      ]
     },
     "execution_count": 5,
     "metadata": {},
     "output_type": "execute_result"
    }
   ],
   "source": [
    "# Reading the ratings dataset \n",
    "df_ratings = pd.read_csv('ml-latest-small/ml-latest-small/ratings.csv')\n",
    "df_ratings.head()"
   ]
  },
  {
   "cell_type": "code",
   "execution_count": 6,
   "id": "774a9445",
   "metadata": {},
   "outputs": [
    {
     "data": {
      "text/html": [
       "<div>\n",
       "<style scoped>\n",
       "    .dataframe tbody tr th:only-of-type {\n",
       "        vertical-align: middle;\n",
       "    }\n",
       "\n",
       "    .dataframe tbody tr th {\n",
       "        vertical-align: top;\n",
       "    }\n",
       "\n",
       "    .dataframe thead th {\n",
       "        text-align: right;\n",
       "    }\n",
       "</style>\n",
       "<table border=\"1\" class=\"dataframe\">\n",
       "  <thead>\n",
       "    <tr style=\"text-align: right;\">\n",
       "      <th></th>\n",
       "      <th>movieId</th>\n",
       "      <th>imdbId</th>\n",
       "      <th>tmdbId</th>\n",
       "    </tr>\n",
       "  </thead>\n",
       "  <tbody>\n",
       "    <tr>\n",
       "      <th>0</th>\n",
       "      <td>1</td>\n",
       "      <td>114709</td>\n",
       "      <td>862.0</td>\n",
       "    </tr>\n",
       "    <tr>\n",
       "      <th>1</th>\n",
       "      <td>2</td>\n",
       "      <td>113497</td>\n",
       "      <td>8844.0</td>\n",
       "    </tr>\n",
       "    <tr>\n",
       "      <th>2</th>\n",
       "      <td>3</td>\n",
       "      <td>113228</td>\n",
       "      <td>15602.0</td>\n",
       "    </tr>\n",
       "    <tr>\n",
       "      <th>3</th>\n",
       "      <td>4</td>\n",
       "      <td>114885</td>\n",
       "      <td>31357.0</td>\n",
       "    </tr>\n",
       "    <tr>\n",
       "      <th>4</th>\n",
       "      <td>5</td>\n",
       "      <td>113041</td>\n",
       "      <td>11862.0</td>\n",
       "    </tr>\n",
       "  </tbody>\n",
       "</table>\n",
       "</div>"
      ],
      "text/plain": [
       "   movieId  imdbId   tmdbId\n",
       "0        1  114709    862.0\n",
       "1        2  113497   8844.0\n",
       "2        3  113228  15602.0\n",
       "3        4  114885  31357.0\n",
       "4        5  113041  11862.0"
      ]
     },
     "execution_count": 6,
     "metadata": {},
     "output_type": "execute_result"
    }
   ],
   "source": [
    "# Reading the links dataset \n",
    "df_links = pd.read_csv('ml-latest-small/ml-latest-small/links.csv')\n",
    "df_links.head()"
   ]
  },
  {
   "cell_type": "code",
   "execution_count": 7,
   "id": "14b62e61",
   "metadata": {
    "scrolled": true
   },
   "outputs": [
    {
     "data": {
      "text/html": [
       "<div>\n",
       "<style scoped>\n",
       "    .dataframe tbody tr th:only-of-type {\n",
       "        vertical-align: middle;\n",
       "    }\n",
       "\n",
       "    .dataframe tbody tr th {\n",
       "        vertical-align: top;\n",
       "    }\n",
       "\n",
       "    .dataframe thead th {\n",
       "        text-align: right;\n",
       "    }\n",
       "</style>\n",
       "<table border=\"1\" class=\"dataframe\">\n",
       "  <thead>\n",
       "    <tr style=\"text-align: right;\">\n",
       "      <th></th>\n",
       "      <th>userId</th>\n",
       "      <th>movieId</th>\n",
       "      <th>tag</th>\n",
       "      <th>timestamp</th>\n",
       "    </tr>\n",
       "  </thead>\n",
       "  <tbody>\n",
       "    <tr>\n",
       "      <th>0</th>\n",
       "      <td>2</td>\n",
       "      <td>60756</td>\n",
       "      <td>funny</td>\n",
       "      <td>1445714994</td>\n",
       "    </tr>\n",
       "    <tr>\n",
       "      <th>1</th>\n",
       "      <td>2</td>\n",
       "      <td>60756</td>\n",
       "      <td>Highly quotable</td>\n",
       "      <td>1445714996</td>\n",
       "    </tr>\n",
       "    <tr>\n",
       "      <th>2</th>\n",
       "      <td>2</td>\n",
       "      <td>60756</td>\n",
       "      <td>will ferrell</td>\n",
       "      <td>1445714992</td>\n",
       "    </tr>\n",
       "    <tr>\n",
       "      <th>3</th>\n",
       "      <td>2</td>\n",
       "      <td>89774</td>\n",
       "      <td>Boxing story</td>\n",
       "      <td>1445715207</td>\n",
       "    </tr>\n",
       "    <tr>\n",
       "      <th>4</th>\n",
       "      <td>2</td>\n",
       "      <td>89774</td>\n",
       "      <td>MMA</td>\n",
       "      <td>1445715200</td>\n",
       "    </tr>\n",
       "  </tbody>\n",
       "</table>\n",
       "</div>"
      ],
      "text/plain": [
       "   userId  movieId              tag   timestamp\n",
       "0       2    60756            funny  1445714994\n",
       "1       2    60756  Highly quotable  1445714996\n",
       "2       2    60756     will ferrell  1445714992\n",
       "3       2    89774     Boxing story  1445715207\n",
       "4       2    89774              MMA  1445715200"
      ]
     },
     "execution_count": 7,
     "metadata": {},
     "output_type": "execute_result"
    }
   ],
   "source": [
    "# Reading the tags dataset \n",
    "df_tags = pd.read_csv('ml-latest-small/ml-latest-small/tags.csv')\n",
    "df_tags.head()"
   ]
  },
  {
   "cell_type": "markdown",
   "id": "12a126ff",
   "metadata": {},
   "source": [
    "Here I decide only yo use two datasets the movies.csv and ratings.csv"
   ]
  },
  {
   "cell_type": "markdown",
   "id": "4bd8345b",
   "metadata": {},
   "source": [
    "To delve deeper into the data, we've created several functions:\n",
    "\n",
    "- data_shape(data): This function tells us how big the dataset is. It provides the number of rows and columns in the dataset.\n",
    "\n",
    "- data_info(data): This function gives us a snapshot of the data. It shows us the names of the columns, what kind of data they hold, and how many non-empty values there are in each column.\n",
    "\n",
    "- data_missing(data): This function checks if there are any gaps in our data, meaning missing values in any columns. If everything is complete, it lets us know that no data is missing.\n",
    "\n",
    "- identify_duplicates(data): This function helps us spot any identical rows in the dataset. It tells us how many duplicate rows there are and what percentage of the dataset they make up. If there are no duplicates, it tells us that.\n",
    "\n",
    "- unique_column_duplicates(data, column): This function specifically looks for duplicates in a particular column. It counts them and calculates what percentage of the data they represent. If the column has no duplicates, it mentions that.\n",
    "\n",
    "- data_describe(data): This function summarizes the numerical aspects of our data. It gives us statistics like the average, standard deviation, minimum, quartiles, and maximum values for numerical columns.\n",
    "\n",
    "These functions are like tools to help us better understand our data's structure, find missing information, identify repeated entries, and get an overview of the numbers in our dataset.\n",
    "\n",
    "We can use these functions together under a single function called \"explore_data()\" to perform a thorough exploration of our dataset."
   ]
  },
  {
   "cell_type": "code",
   "execution_count": 8,
   "id": "307802ec",
   "metadata": {},
   "outputs": [],
   "source": [
    "# Shape of the data \n",
    "def df_shape(dataframe_name, df):\n",
    "    num_rows, num_columns = df.shape\n",
    "    print(f\"{dataframe_name} has {num_rows} rows and {num_columns} columns.\")\n",
    "\n"
   ]
  },
  {
   "cell_type": "code",
   "execution_count": 9,
   "id": "fe208ea2",
   "metadata": {},
   "outputs": [],
   "source": [
    "# function to find the info for the dataset \n",
    "def df_info(dataframe_name, df):\n",
    "    print(\"\\n\")\n",
    "    print(f\"Info for {dataframe_name}:\\n\")\n",
    "    print(df.info())\n",
    "    print(\"\\n\")\n",
    "    "
   ]
  },
  {
   "cell_type": "code",
   "execution_count": 10,
   "id": "8885c21b",
   "metadata": {},
   "outputs": [],
   "source": [
    "# Function to find the missing values in the dataset \n",
    "def df_missing(dataframe_name, df):\n",
    "    missing_values = df.isnull().sum()\n",
    "    print(f\"Missing Values in {dataframe_name}:\")\n",
    "    \n",
    "    if missing_values.sum() == 0:\n",
    "        print(\"No missing values.\\n\")\n",
    "        \n",
    "    else:\n",
    "        print(missing_values[missing_values > 0])\n",
    "        \n",
    "        \n",
    "\n",
    "# df_missing(\"Movies DataFrame\", df_movies)\n",
    "# df_missing(\"Ratings DataFrame\", df_ratings)"
   ]
  },
  {
   "cell_type": "code",
   "execution_count": 11,
   "id": "b0e03b59",
   "metadata": {},
   "outputs": [],
   "source": [
    "# Function to find duplicated values of the rows in the dataset \n",
    "def df_duplicated(dataframe_name, df):\n",
    "    duplicated_rows = df[df.duplicated()]\n",
    "    print(f\"Duplicated rows in {dataframe_name}:\")\n",
    "    \n",
    "    if duplicated_rows.shape[0] == 0:\n",
    "        print(\"No duplicate rows.\\n\")\n",
    "        \n",
    "    else: \n",
    "        print(f\"Number of duplicate rows: {duplicate_rows.shape[0]}\")\n",
    "        print(\"\\nSample of duplicate rows:\")\n",
    "        print(duplicate_rows.head())\n",
    "        \n",
    "# df_duplicates(\"Movies DataFrame\", df_movies)\n",
    "# df_duplicates(\"Ratings DataFrame\", df_ratings)\n"
   ]
  },
  {
   "cell_type": "code",
   "execution_count": 12,
   "id": "8a00b896",
   "metadata": {},
   "outputs": [],
   "source": [
    "# Function to find duplicated values of the columns in the dataset \n",
    "def column_duplicates(dataframe_name, df):\n",
    "    duplicate_columns = df.columns[df.columns.duplicated()]\n",
    "    print(f\"Duplicated columns in {dataframe_name}:\")\n",
    "    \n",
    "    if len(duplicate_columns) == 0:\n",
    "        print(\"No duplicate columns found.\\n\")\n",
    "        \n",
    "    else:\n",
    "        print(f\"Duplicate columns: {', '.join(duplicate_columns)}\")\n",
    "          \n",
    "# column_duplicates(\"Movies DataFrame\", df_movies)\n",
    "# column_duplicates(\"Ratings DataFrame\", df_ratings)\n"
   ]
  },
  {
   "cell_type": "code",
   "execution_count": 13,
   "id": "9aef17a8",
   "metadata": {},
   "outputs": [],
   "source": [
    "# Function to print out descriptive stats \n",
    "def df_describe(dataframe_name, df):\n",
    "    print(f\"Descriptive Statistics for {dataframe_name}:\")\n",
    "    print(df.describe(),\"\\n\")\n",
    "    \n",
    "# df_describe(\"Movies DataFrame\", df_movies)\n",
    "# df_describe(\"Ratings DataFrame\", df_ratings) "
   ]
  },
  {
   "cell_type": "code",
   "execution_count": 14,
   "id": "759440b1",
   "metadata": {},
   "outputs": [
    {
     "name": "stdout",
     "output_type": "stream",
     "text": [
      "Movies DataFrame has 9742 rows and 3 columns.\n",
      "Ratings DataFrame has 100836 rows and 4 columns.\n",
      "\n",
      "\n",
      "Info for Movies DataFrame:\n",
      "\n",
      "<class 'pandas.core.frame.DataFrame'>\n",
      "RangeIndex: 9742 entries, 0 to 9741\n",
      "Data columns (total 3 columns):\n",
      " #   Column   Non-Null Count  Dtype \n",
      "---  ------   --------------  ----- \n",
      " 0   movieId  9742 non-null   int64 \n",
      " 1   title    9742 non-null   object\n",
      " 2   genres   9742 non-null   object\n",
      "dtypes: int64(1), object(2)\n",
      "memory usage: 228.5+ KB\n",
      "None\n",
      "\n",
      "\n",
      "\n",
      "\n",
      "Info for Ratings DataFrame:\n",
      "\n",
      "<class 'pandas.core.frame.DataFrame'>\n",
      "RangeIndex: 100836 entries, 0 to 100835\n",
      "Data columns (total 4 columns):\n",
      " #   Column     Non-Null Count   Dtype  \n",
      "---  ------     --------------   -----  \n",
      " 0   userId     100836 non-null  int64  \n",
      " 1   movieId    100836 non-null  int64  \n",
      " 2   rating     100836 non-null  float64\n",
      " 3   timestamp  100836 non-null  int64  \n",
      "dtypes: float64(1), int64(3)\n",
      "memory usage: 3.1 MB\n",
      "None\n",
      "\n",
      "\n",
      "Missing Values in Movies DataFrame:\n",
      "No missing values.\n",
      "\n",
      "Missing Values in Ratings DataFrame:\n",
      "No missing values.\n",
      "\n",
      "Duplicated rows in Movies DataFrame:\n",
      "No duplicate rows.\n",
      "\n",
      "Duplicated rows in Ratings DataFrame:\n",
      "No duplicate rows.\n",
      "\n",
      "Duplicated columns in Movies DataFrame:\n",
      "No duplicate columns found.\n",
      "\n",
      "Duplicated columns in Ratings DataFrame:\n",
      "No duplicate columns found.\n",
      "\n",
      "Descriptive Statistics for Movies DataFrame:\n",
      "             movieId\n",
      "count    9742.000000\n",
      "mean    42200.353623\n",
      "std     52160.494854\n",
      "min         1.000000\n",
      "25%      3248.250000\n",
      "50%      7300.000000\n",
      "75%     76232.000000\n",
      "max    193609.000000 \n",
      "\n",
      "Descriptive Statistics for Ratings DataFrame:\n",
      "              userId        movieId         rating     timestamp\n",
      "count  100836.000000  100836.000000  100836.000000  1.008360e+05\n",
      "mean      326.127564   19435.295718       3.501557  1.205946e+09\n",
      "std       182.618491   35530.987199       1.042529  2.162610e+08\n",
      "min         1.000000       1.000000       0.500000  8.281246e+08\n",
      "25%       177.000000    1199.000000       3.000000  1.019124e+09\n",
      "50%       325.000000    2991.000000       3.500000  1.186087e+09\n",
      "75%       477.000000    8122.000000       4.000000  1.435994e+09\n",
      "max       610.000000  193609.000000       5.000000  1.537799e+09 \n",
      "\n"
     ]
    }
   ],
   "source": [
    "# Function to explore the data \n",
    "def explore_df(dataframe_name, df):\n",
    "    df_shape(\"Movies DataFrame\", df_movies), df_shape(\"Ratings DataFrame\", df_ratings)\n",
    "\n",
    "    df_info(\"Movies DataFrame\", df_movies), df_info(\"Ratings DataFrame\", df_ratings)\n",
    "    \n",
    "    df_missing(\"Movies DataFrame\", df_movies), df_missing(\"Ratings DataFrame\", df_ratings)\n",
    "    \n",
    "    df_duplicated(\"Movies DataFrame\", df_movies), df_duplicated(\"Ratings DataFrame\", df_ratings)\n",
    "    \n",
    "    column_duplicates(\"Movies DataFrame\", df_movies), column_duplicates(\"Ratings DataFrame\", df_ratings)\n",
    "    \n",
    "    df_describe(\"Movies DataFrame\", df_movies), df_describe(\"Ratings DataFrame\", df_ratings)\n",
    "    \n",
    "# call the function explore_data\n",
    "# explore_data(dataframe_name, df)\n",
    "\n",
    "explore_df(\"Movies DataFrame\", df_movies)\n",
    "# explore_df(\"Ratings DataFrame\", df_ratings)\n",
    "\n"
   ]
  },
  {
   "cell_type": "markdown",
   "id": "802acd57",
   "metadata": {},
   "source": [
    "# Data preparation "
   ]
  },
  {
   "cell_type": "markdown",
   "id": "1338df91",
   "metadata": {},
   "source": [
    "The movie dataset contains 3 columns with 1 numeric variable and 2 object variable. The ratings dataset contains 4 columns with 3 numeric variables and 1 object columns.\n",
    "\n",
    "Here we will convert the timestamp to human redable format:"
   ]
  },
  {
   "cell_type": "code",
   "execution_count": 15,
   "id": "ed647f64",
   "metadata": {},
   "outputs": [
    {
     "name": "stdout",
     "output_type": "stream",
     "text": [
      "   userId  movieId  rating  timestamp   timestamp_readable\n",
      "0       1        1     4.0  964982703  2000-07-30 18:45:03\n",
      "1       1        3     4.0  964981247  2000-07-30 18:20:47\n",
      "2       1        6     4.0  964982224  2000-07-30 18:37:04\n",
      "3       1       47     5.0  964983815  2000-07-30 19:03:35\n",
      "4       1       50     5.0  964982931  2000-07-30 18:48:51\n"
     ]
    }
   ],
   "source": [
    "\n",
    "# Function to convert ratings timestamps to human-readable format\n",
    "def convert_timestamp(timestamp):\n",
    "    return datetime.utcfromtimestamp(timestamp).strftime('%Y-%m-%d %H:%M:%S')\n",
    "\n",
    "# Apply the function to the timestamp column\n",
    "df_ratings['timestamp_readable'] = df_ratings['timestamp'].apply(convert_timestamp)\n",
    "\n",
    "# Print the DataFrame with the readable timestamp\n",
    "print(df_ratings[['userId', 'movieId', 'rating', 'timestamp', 'timestamp_readable']].head())\n"
   ]
  },
  {
   "cell_type": "markdown",
   "id": "3e028cd6",
   "metadata": {},
   "source": [
    "To check for outliers here is not  important since the context of the datasets provided. There are no numerical columns with continuous values that are typically checked for outliers. Instead, the primary numerical columns are \"movieId\", \"userId\", \"rating\", and \"timestamp\", but they are identifiers or timestamos and are not sutable for outliers detection."
   ]
  },
  {
   "cell_type": "markdown",
   "id": "c91a33c5",
   "metadata": {},
   "source": [
    "### Feature Engineering "
   ]
  },
  {
   "cell_type": "markdown",
   "id": "7e13d8cd",
   "metadata": {},
   "source": [
    "Feature engineering is the process of creating new features or modifying existing features in a dataset to improve the perfomance of machine learnig models."
   ]
  },
  {
   "cell_type": "markdown",
   "id": "469a9c38",
   "metadata": {},
   "source": [
    "### feature engineering in movies.csv file "
   ]
  },
  {
   "cell_type": "code",
   "execution_count": 16,
   "id": "d354e142",
   "metadata": {},
   "outputs": [],
   "source": [
    "# Feature engineering for df_movies DataFrame\n",
    "# Example: Extracting the release year\n",
    "df_movies['release_year'] = df_movies['title'].str.extract(r'\\((\\d{4})\\)$').astype(float)\n",
    "\n",
    "# # Example: Encoding genres\n",
    "# genres = df_movies['genres'].str.get_dummies('|')\n",
    "# df_movies = pd.concat([df_movies, genres], axis=1)\n",
    "\n",
    "# # Feature engineering for df_ratings DataFrame\n",
    "# # Example: Extracting year and month from the timestamp\n",
    "# df_ratings['year'] = df_ratings['timestamp'].apply(lambda x: datetime.utcfromtimestamp(x).year)\n",
    "# df_ratings['month'] = df_ratings['timestamp'].apply(lambda x: datetime.utcfromtimestamp(x).month)\n",
    "\n",
    "# # Example: Calculating average rating per movie\n",
    "# average_rating_per_movie = df_ratings.groupby('movieId')['rating'].mean()\n",
    "# df_movies['average_rating'] = df_movies['movieId'].map(average_rating_per_movie)\n",
    "\n",
    "# # Example: Calculating rating count per movie\n",
    "# rating_count_per_movie = df_ratings.groupby('movieId')['rating'].count()\n",
    "# df_movies['rating_count'] = df_movies['movieId'].map(rating_count_per_movie)\n"
   ]
  },
  {
   "cell_type": "code",
   "execution_count": 17,
   "id": "62bbfa2e",
   "metadata": {
    "scrolled": true
   },
   "outputs": [
    {
     "data": {
      "text/html": [
       "<div>\n",
       "<style scoped>\n",
       "    .dataframe tbody tr th:only-of-type {\n",
       "        vertical-align: middle;\n",
       "    }\n",
       "\n",
       "    .dataframe tbody tr th {\n",
       "        vertical-align: top;\n",
       "    }\n",
       "\n",
       "    .dataframe thead th {\n",
       "        text-align: right;\n",
       "    }\n",
       "</style>\n",
       "<table border=\"1\" class=\"dataframe\">\n",
       "  <thead>\n",
       "    <tr style=\"text-align: right;\">\n",
       "      <th></th>\n",
       "      <th>movieId</th>\n",
       "      <th>title</th>\n",
       "      <th>genres</th>\n",
       "      <th>release_year</th>\n",
       "    </tr>\n",
       "  </thead>\n",
       "  <tbody>\n",
       "    <tr>\n",
       "      <th>0</th>\n",
       "      <td>1</td>\n",
       "      <td>Toy Story (1995)</td>\n",
       "      <td>Adventure|Animation|Children|Comedy|Fantasy</td>\n",
       "      <td>1995.0</td>\n",
       "    </tr>\n",
       "    <tr>\n",
       "      <th>1</th>\n",
       "      <td>2</td>\n",
       "      <td>Jumanji (1995)</td>\n",
       "      <td>Adventure|Children|Fantasy</td>\n",
       "      <td>1995.0</td>\n",
       "    </tr>\n",
       "    <tr>\n",
       "      <th>2</th>\n",
       "      <td>3</td>\n",
       "      <td>Grumpier Old Men (1995)</td>\n",
       "      <td>Comedy|Romance</td>\n",
       "      <td>1995.0</td>\n",
       "    </tr>\n",
       "    <tr>\n",
       "      <th>3</th>\n",
       "      <td>4</td>\n",
       "      <td>Waiting to Exhale (1995)</td>\n",
       "      <td>Comedy|Drama|Romance</td>\n",
       "      <td>1995.0</td>\n",
       "    </tr>\n",
       "    <tr>\n",
       "      <th>4</th>\n",
       "      <td>5</td>\n",
       "      <td>Father of the Bride Part II (1995)</td>\n",
       "      <td>Comedy</td>\n",
       "      <td>1995.0</td>\n",
       "    </tr>\n",
       "  </tbody>\n",
       "</table>\n",
       "</div>"
      ],
      "text/plain": [
       "   movieId                               title   \n",
       "0        1                    Toy Story (1995)  \\\n",
       "1        2                      Jumanji (1995)   \n",
       "2        3             Grumpier Old Men (1995)   \n",
       "3        4            Waiting to Exhale (1995)   \n",
       "4        5  Father of the Bride Part II (1995)   \n",
       "\n",
       "                                        genres  release_year  \n",
       "0  Adventure|Animation|Children|Comedy|Fantasy        1995.0  \n",
       "1                   Adventure|Children|Fantasy        1995.0  \n",
       "2                               Comedy|Romance        1995.0  \n",
       "3                         Comedy|Drama|Romance        1995.0  \n",
       "4                                       Comedy        1995.0  "
      ]
     },
     "execution_count": 17,
     "metadata": {},
     "output_type": "execute_result"
    }
   ],
   "source": [
    "df_movies.head()"
   ]
  },
  {
   "cell_type": "code",
   "execution_count": 18,
   "id": "f585b92e",
   "metadata": {},
   "outputs": [
    {
     "data": {
      "text/plain": [
       "0    Adventure|Animation|Children|Comedy|Fantasy\n",
       "1                     Adventure|Children|Fantasy\n",
       "2                                 Comedy|Romance\n",
       "3                           Comedy|Drama|Romance\n",
       "4                                         Comedy\n",
       "Name: genres, dtype: object"
      ]
     },
     "execution_count": 18,
     "metadata": {},
     "output_type": "execute_result"
    }
   ],
   "source": [
    "df_movies['genres'].head()"
   ]
  },
  {
   "cell_type": "code",
   "execution_count": 19,
   "id": "dee761c1",
   "metadata": {},
   "outputs": [
    {
     "data": {
      "text/html": [
       "<div>\n",
       "<style scoped>\n",
       "    .dataframe tbody tr th:only-of-type {\n",
       "        vertical-align: middle;\n",
       "    }\n",
       "\n",
       "    .dataframe tbody tr th {\n",
       "        vertical-align: top;\n",
       "    }\n",
       "\n",
       "    .dataframe thead th {\n",
       "        text-align: right;\n",
       "    }\n",
       "</style>\n",
       "<table border=\"1\" class=\"dataframe\">\n",
       "  <thead>\n",
       "    <tr style=\"text-align: right;\">\n",
       "      <th></th>\n",
       "      <th>movieId</th>\n",
       "      <th>title</th>\n",
       "      <th>genres</th>\n",
       "      <th>release_year</th>\n",
       "    </tr>\n",
       "  </thead>\n",
       "  <tbody>\n",
       "    <tr>\n",
       "      <th>0</th>\n",
       "      <td>1</td>\n",
       "      <td>Toy Story (1995)</td>\n",
       "      <td>Adventure|Animation|Children|Comedy|Fantasy</td>\n",
       "      <td>1995.0</td>\n",
       "    </tr>\n",
       "    <tr>\n",
       "      <th>1</th>\n",
       "      <td>2</td>\n",
       "      <td>Jumanji (1995)</td>\n",
       "      <td>Adventure|Children|Fantasy</td>\n",
       "      <td>1995.0</td>\n",
       "    </tr>\n",
       "    <tr>\n",
       "      <th>2</th>\n",
       "      <td>3</td>\n",
       "      <td>Grumpier Old Men (1995)</td>\n",
       "      <td>Comedy|Romance</td>\n",
       "      <td>1995.0</td>\n",
       "    </tr>\n",
       "    <tr>\n",
       "      <th>3</th>\n",
       "      <td>4</td>\n",
       "      <td>Waiting to Exhale (1995)</td>\n",
       "      <td>Comedy|Drama|Romance</td>\n",
       "      <td>1995.0</td>\n",
       "    </tr>\n",
       "    <tr>\n",
       "      <th>4</th>\n",
       "      <td>5</td>\n",
       "      <td>Father of the Bride Part II (1995)</td>\n",
       "      <td>Comedy</td>\n",
       "      <td>1995.0</td>\n",
       "    </tr>\n",
       "  </tbody>\n",
       "</table>\n",
       "</div>"
      ],
      "text/plain": [
       "   movieId                               title   \n",
       "0        1                    Toy Story (1995)  \\\n",
       "1        2                      Jumanji (1995)   \n",
       "2        3             Grumpier Old Men (1995)   \n",
       "3        4            Waiting to Exhale (1995)   \n",
       "4        5  Father of the Bride Part II (1995)   \n",
       "\n",
       "                                        genres  release_year  \n",
       "0  Adventure|Animation|Children|Comedy|Fantasy        1995.0  \n",
       "1                   Adventure|Children|Fantasy        1995.0  \n",
       "2                               Comedy|Romance        1995.0  \n",
       "3                         Comedy|Drama|Romance        1995.0  \n",
       "4                                       Comedy        1995.0  "
      ]
     },
     "execution_count": 19,
     "metadata": {},
     "output_type": "execute_result"
    }
   ],
   "source": [
    "# Extracting the release year and creating a new column 'release_year'\n",
    "df_movies['release_year'] = df_movies['title'].str.extract(r'\\((\\d{4})\\)$').astype(float)\n",
    "\n",
    "# Removing the year from the 'title' column\n",
    "df_movies['title'] = df_movies['title'].str.replace(r'\\(\\d{4}\\)', '').str.strip()\n",
    "df_movies.head()"
   ]
  },
  {
   "cell_type": "code",
   "execution_count": 20,
   "id": "8be42ff3",
   "metadata": {
    "scrolled": true
   },
   "outputs": [
    {
     "data": {
      "text/html": [
       "<div>\n",
       "<style scoped>\n",
       "    .dataframe tbody tr th:only-of-type {\n",
       "        vertical-align: middle;\n",
       "    }\n",
       "\n",
       "    .dataframe tbody tr th {\n",
       "        vertical-align: top;\n",
       "    }\n",
       "\n",
       "    .dataframe thead th {\n",
       "        text-align: right;\n",
       "    }\n",
       "</style>\n",
       "<table border=\"1\" class=\"dataframe\">\n",
       "  <thead>\n",
       "    <tr style=\"text-align: right;\">\n",
       "      <th></th>\n",
       "      <th>movieId</th>\n",
       "      <th>title</th>\n",
       "      <th>genres</th>\n",
       "      <th>release_year</th>\n",
       "      <th>average_rating</th>\n",
       "    </tr>\n",
       "  </thead>\n",
       "  <tbody>\n",
       "    <tr>\n",
       "      <th>0</th>\n",
       "      <td>1</td>\n",
       "      <td>Toy Story (1995)</td>\n",
       "      <td>Adventure|Animation|Children|Comedy|Fantasy</td>\n",
       "      <td>1995.0</td>\n",
       "      <td>3.920930</td>\n",
       "    </tr>\n",
       "    <tr>\n",
       "      <th>1</th>\n",
       "      <td>2</td>\n",
       "      <td>Jumanji (1995)</td>\n",
       "      <td>Adventure|Children|Fantasy</td>\n",
       "      <td>1995.0</td>\n",
       "      <td>3.431818</td>\n",
       "    </tr>\n",
       "    <tr>\n",
       "      <th>2</th>\n",
       "      <td>3</td>\n",
       "      <td>Grumpier Old Men (1995)</td>\n",
       "      <td>Comedy|Romance</td>\n",
       "      <td>1995.0</td>\n",
       "      <td>3.259615</td>\n",
       "    </tr>\n",
       "    <tr>\n",
       "      <th>3</th>\n",
       "      <td>4</td>\n",
       "      <td>Waiting to Exhale (1995)</td>\n",
       "      <td>Comedy|Drama|Romance</td>\n",
       "      <td>1995.0</td>\n",
       "      <td>2.357143</td>\n",
       "    </tr>\n",
       "    <tr>\n",
       "      <th>4</th>\n",
       "      <td>5</td>\n",
       "      <td>Father of the Bride Part II (1995)</td>\n",
       "      <td>Comedy</td>\n",
       "      <td>1995.0</td>\n",
       "      <td>3.071429</td>\n",
       "    </tr>\n",
       "  </tbody>\n",
       "</table>\n",
       "</div>"
      ],
      "text/plain": [
       "   movieId                               title   \n",
       "0        1                    Toy Story (1995)  \\\n",
       "1        2                      Jumanji (1995)   \n",
       "2        3             Grumpier Old Men (1995)   \n",
       "3        4            Waiting to Exhale (1995)   \n",
       "4        5  Father of the Bride Part II (1995)   \n",
       "\n",
       "                                        genres  release_year  average_rating  \n",
       "0  Adventure|Animation|Children|Comedy|Fantasy        1995.0        3.920930  \n",
       "1                   Adventure|Children|Fantasy        1995.0        3.431818  \n",
       "2                               Comedy|Romance        1995.0        3.259615  \n",
       "3                         Comedy|Drama|Romance        1995.0        2.357143  \n",
       "4                                       Comedy        1995.0        3.071429  "
      ]
     },
     "execution_count": 20,
     "metadata": {},
     "output_type": "execute_result"
    }
   ],
   "source": [
    "# Remember to interpret the code !!\n",
    "\n",
    "# Example: Calculating average rating per movie\n",
    "average_rating_per_movie = df_ratings.groupby('movieId')['rating'].mean()\n",
    "df_movies['average_rating'] = df_movies['movieId'].map(average_rating_per_movie)\n",
    "df_movies.head()"
   ]
  },
  {
   "cell_type": "markdown",
   "id": "091b2654",
   "metadata": {},
   "source": [
    "The code above calculates the average rating per movie and adds this information as a new feature ('average_rating') to the 'df_movies' DataFrame."
   ]
  },
  {
   "cell_type": "code",
   "execution_count": 21,
   "id": "7457a0c7",
   "metadata": {},
   "outputs": [
    {
     "data": {
      "text/html": [
       "<div>\n",
       "<style scoped>\n",
       "    .dataframe tbody tr th:only-of-type {\n",
       "        vertical-align: middle;\n",
       "    }\n",
       "\n",
       "    .dataframe tbody tr th {\n",
       "        vertical-align: top;\n",
       "    }\n",
       "\n",
       "    .dataframe thead th {\n",
       "        text-align: right;\n",
       "    }\n",
       "</style>\n",
       "<table border=\"1\" class=\"dataframe\">\n",
       "  <thead>\n",
       "    <tr style=\"text-align: right;\">\n",
       "      <th></th>\n",
       "      <th>movieId</th>\n",
       "      <th>title</th>\n",
       "      <th>genres</th>\n",
       "      <th>release_year</th>\n",
       "      <th>average_rating</th>\n",
       "      <th>rating_count</th>\n",
       "    </tr>\n",
       "  </thead>\n",
       "  <tbody>\n",
       "    <tr>\n",
       "      <th>0</th>\n",
       "      <td>1</td>\n",
       "      <td>Toy Story (1995)</td>\n",
       "      <td>Adventure|Animation|Children|Comedy|Fantasy</td>\n",
       "      <td>1995.0</td>\n",
       "      <td>3.920930</td>\n",
       "      <td>215.0</td>\n",
       "    </tr>\n",
       "    <tr>\n",
       "      <th>1</th>\n",
       "      <td>2</td>\n",
       "      <td>Jumanji (1995)</td>\n",
       "      <td>Adventure|Children|Fantasy</td>\n",
       "      <td>1995.0</td>\n",
       "      <td>3.431818</td>\n",
       "      <td>110.0</td>\n",
       "    </tr>\n",
       "    <tr>\n",
       "      <th>2</th>\n",
       "      <td>3</td>\n",
       "      <td>Grumpier Old Men (1995)</td>\n",
       "      <td>Comedy|Romance</td>\n",
       "      <td>1995.0</td>\n",
       "      <td>3.259615</td>\n",
       "      <td>52.0</td>\n",
       "    </tr>\n",
       "    <tr>\n",
       "      <th>3</th>\n",
       "      <td>4</td>\n",
       "      <td>Waiting to Exhale (1995)</td>\n",
       "      <td>Comedy|Drama|Romance</td>\n",
       "      <td>1995.0</td>\n",
       "      <td>2.357143</td>\n",
       "      <td>7.0</td>\n",
       "    </tr>\n",
       "    <tr>\n",
       "      <th>4</th>\n",
       "      <td>5</td>\n",
       "      <td>Father of the Bride Part II (1995)</td>\n",
       "      <td>Comedy</td>\n",
       "      <td>1995.0</td>\n",
       "      <td>3.071429</td>\n",
       "      <td>49.0</td>\n",
       "    </tr>\n",
       "  </tbody>\n",
       "</table>\n",
       "</div>"
      ],
      "text/plain": [
       "   movieId                               title   \n",
       "0        1                    Toy Story (1995)  \\\n",
       "1        2                      Jumanji (1995)   \n",
       "2        3             Grumpier Old Men (1995)   \n",
       "3        4            Waiting to Exhale (1995)   \n",
       "4        5  Father of the Bride Part II (1995)   \n",
       "\n",
       "                                        genres  release_year  average_rating   \n",
       "0  Adventure|Animation|Children|Comedy|Fantasy        1995.0        3.920930  \\\n",
       "1                   Adventure|Children|Fantasy        1995.0        3.431818   \n",
       "2                               Comedy|Romance        1995.0        3.259615   \n",
       "3                         Comedy|Drama|Romance        1995.0        2.357143   \n",
       "4                                       Comedy        1995.0        3.071429   \n",
       "\n",
       "   rating_count  \n",
       "0         215.0  \n",
       "1         110.0  \n",
       "2          52.0  \n",
       "3           7.0  \n",
       "4          49.0  "
      ]
     },
     "execution_count": 21,
     "metadata": {},
     "output_type": "execute_result"
    }
   ],
   "source": [
    "\n",
    "# Remember to interpret \n",
    "\n",
    "# # Example: Calculating rating count per movie\n",
    "rating_count_per_movie = df_ratings.groupby('movieId')['rating'].count()\n",
    "df_movies['rating_count'] = df_movies['movieId'].map(rating_count_per_movie)\n",
    "df_movies.head()"
   ]
  },
  {
   "cell_type": "markdown",
   "id": "e717e4cc",
   "metadata": {},
   "source": [
    "The code provided above calcuates the rating count per movie and adds this information as a new feature ('rating_count') to the 'df_movies' DataFrame."
   ]
  },
  {
   "cell_type": "markdown",
   "id": "6ec18719",
   "metadata": {},
   "source": [
    "## Multivariante Analysis \n",
    "\n",
    "Multivariante analysis involves examining the relationship between multiplevariables in dataset. IN the context of my 'df_movies' and 'df_ratings' DataFrames, you can perform multivariate analysis to explore how different movies attributes(e.g., genre, release_year) a nd the user behavior(ratings) interact with each other."
   ]
  },
  {
   "cell_type": "markdown",
   "id": "5e24012d",
   "metadata": {},
   "source": [
    "## Multivariate Analysis on 'df_movies' (Movie Attributes)\n",
    "\n",
    "### Correlation analysis \n",
    "Used to calculate and visualize the correlation between numerical variables in the 'df_movies' DataFrame. In the context of this dataset I can use a correlation matrix and a heatmap to see how attributes like 'release_year' and 'average_rating' are related."
   ]
  },
  {
   "cell_type": "code",
   "execution_count": 22,
   "id": "bf1c47a1",
   "metadata": {},
   "outputs": [
    {
     "data": {
      "image/png": "[encoded data removed]",
      "text/plain": [
       "<Figure size 640x480 with 2 Axes>"
      ]
     },
     "metadata": {},
     "output_type": "display_data"
    }
   ],
   "source": [
    "# Calculate the correlation matrix\n",
    "correlation_matrix = df_movies[['release_year', 'average_rating']].corr()\n",
    "\n",
    "# Create a heatmap of the correlation matrix\n",
    "sns.heatmap(correlation_matrix, annot=True, cmap='coolwarm')\n",
    "plt.title('Correlation Heatmap for Movie Attributes')\n",
    "plt.show()\n"
   ]
  },
  {
   "cell_type": "markdown",
   "id": "2de18809",
   "metadata": {},
   "source": [
    "The correlation matrix you've calculated and visualized provides insights into the linear relationships (correlations) between the 'release_year' and 'average_rating' attributes in the df_movies DataFrame. Here's how to interpret the correlation matrix:\n",
    "\n",
    "Correlation Values: Each cell in the matrix represents the correlation coefficient between two variables. The correlation coefficient ranges from -1 to 1, where:\n",
    "\n",
    "A value of 1 indicates a perfect positive linear relationship. When one variable increases, the other also increases by a constant factor.\n",
    "A value of -1 indicates a perfect negative linear relationship. When one variable increases, the other decreases by a constant factor.\n",
    "A value close to 0 indicates a weak or no linear relationship. There is little to no linear association between the variables.\n",
    "Color Mapping: In the heatmap, the colors represent the correlation values. A color scale is typically used, where warmer colors (e.g., red or orange) indicate positive correlations, and cooler colors (e.g., blue) indicate negative correlations.\n",
    "\n",
    "Now, let's interpret the specific elements of your correlation matrix:\n",
    "\n",
    "Correlation between 'release_year' and 'average_rating': The correlation coefficient measures how 'release_year' and 'average_rating' are related.\n",
    "\n",
    "If the correlation coefficient is close to 1: It suggests a strong positive linear relationship. In your case, it would mean that as 'release_year' increases, 'average_rating' tends to increase as well, indicating that newer movies tend to have higher average ratings.\n",
    "\n",
    "If the correlation coefficient is close to -1: It suggests a strong negative linear relationship. In your case, it would mean that as 'release_year' increases, 'average_rating' tends to decrease, indicating that older movies tend to have higher average ratings.\n",
    "\n",
    "If the correlation coefficient is close to 0: It suggests little to no linear relationship between the two variables. In your case, it would mean that there is no strong linear relationship between 'release_year' and 'average_rating,' indicating that the release year may not be a significant predictor of average ratings.\n",
    "\n",
    "\n",
    "To summarize, the correlation heatmap helps you visually identify whether there is a linear relationship between 'release_year' and 'average_rating' and the strength and direction of that relationship. In your case, it appears that there may be a slight negative correlation between the two variables, suggesting that older movies tend to have slightly higher average ratings. However, the correlation is not very strong, so other factors may also influence movie ratings."
   ]
  },
  {
   "cell_type": "markdown",
   "id": "64080105",
   "metadata": {},
   "source": [
    "### Genre Analysis: \n",
    "Explore the relationships between movie genres and user ratings. You can calculate the average rating for each genre and visualize which genres tend to receive higher or lower ratings."
   ]
  },
  {
   "cell_type": "code",
   "execution_count": 23,
   "id": "4afdbdac",
   "metadata": {},
   "outputs": [
    {
     "data": {
      "image/png": "[encoded data removed]",
      "text/plain": [
       "<Figure size 1200x600 with 1 Axes>"
      ]
     },
     "metadata": {},
     "output_type": "display_data"
    }
   ],
   "source": [
    "# Calculate average ratings per genre\n",
    "genre_ratings = df_movies.groupby('genres')['average_rating'].mean()\n",
    "\n",
    "# Sort genres by average rating in descending order\n",
    "sorted_genre_ratings = genre_ratings.sort_values(ascending=False)\n",
    "\n",
    "# Select the top 5 genres\n",
    "top_5_genres = sorted_genre_ratings.head(5)\n",
    "\n",
    "# Select the bottom 5 genres\n",
    "bottom_5_genres = sorted_genre_ratings.tail(5)\n",
    "\n",
    "# Concatenate the top 5 and bottom 5 genres\n",
    "top_and_bottom_genres = pd.concat([top_5_genres, bottom_5_genres])\n",
    "\n",
    "# Visualize the top and bottom genres by average rating\n",
    "plt.figure(figsize=(12, 6))\n",
    "top_and_bottom_genres.plot(kind='bar')\n",
    "plt.title('Top and Bottom Genres by Average Rating')\n",
    "plt.xlabel('Genre')\n",
    "plt.ylabel('Average Rating')\n",
    "plt.xticks(rotation=90)  # Adjust the rotation of x-axis labels for better readability\n",
    "plt.show()\n"
   ]
  },
  {
   "cell_type": "markdown",
   "id": "c79594ef",
   "metadata": {},
   "source": [
    "### Time Series Analysis: \n",
    "If you have a time-based attribute like 'release_year,' you can perform time series analysis to understand how movie release years have evolved over time"
   ]
  },
  {
   "cell_type": "code",
   "execution_count": 24,
   "id": "91008476",
   "metadata": {},
   "outputs": [
    {
     "data": {
      "image/png": "[encoded data removed]",
      "text/plain": [
       "<Figure size 640x480 with 1 Axes>"
      ]
     },
     "metadata": {},
     "output_type": "display_data"
    }
   ],
   "source": [
    "# Plot a line chart to show the count of movies released each year\n",
    "df_movies['release_year'].value_counts().sort_index().plot(kind='line')\n",
    "plt.title('Movie Release Years Over Time')\n",
    "plt.xlabel('Release Year')\n",
    "plt.ylabel('Count')\n",
    "plt.show()\n"
   ]
  },
  {
   "cell_type": "markdown",
   "id": "719dc004",
   "metadata": {},
   "source": [
    "Interpretation:\n",
    "\n",
    "Upward and Downward Trends: You can observe whether there are upward or downward trends in movie releases. An upward trend would indicate an increase in the number of movies released each year, while a downward trend would suggest a decrease.\n",
    "\n",
    "Peaks and Valleys: Peaks in the line indicate years with a high number of movie releases, while valleys represent years with fewer releases.\n",
    "\n",
    "Cyclic Patterns: Look for any cyclic patterns or periodic fluctuations in the chart. For example, there might be a pattern where movie releases increase for a few years and then decrease before increasing again.\n",
    "\n",
    "\n",
    "Overall Movie Release Trends: Based on the chart, you can draw conclusions about the overall trends in movie production over time. For example, you might observe that movie production has been steadily increasing over the years or that there are certain decades with particularly high movie production.\n",
    "\n",
    "This type of time series analysis can provide valuable insights into how movie release patterns have changed over time and can be useful for historical or industry trend analysis in the film industry."
   ]
  },
  {
   "cell_type": "markdown",
   "id": "df61568a",
   "metadata": {},
   "source": [
    "## Multivariate Analysis on df_ratings (User Behavior):\n",
    "\n",
    "User Behavior by Genre : Explore how users' ratings vary by movie genre. You can calculate average ratings for each genre and see if there are genre preferences among users."
   ]
  },
  {
   "cell_type": "markdown",
   "id": "23a54571",
   "metadata": {},
   "source": [
    "Here is where I merge the two datasets `df_movies` and `df_ratings` into `df_merged`."
   ]
  },
  {
   "cell_type": "markdown",
   "id": "fb747ddd",
   "metadata": {},
   "source": [
    "#### Time Series Analysis: \n",
    "Analyze how user ratings have evolved over time. You can plot the average ratings or the count of ratings per year to identify trends."
   ]
  },
  {
   "cell_type": "code",
   "execution_count": 25,
   "id": "3e9dadb7",
   "metadata": {
    "scrolled": true
   },
   "outputs": [
    {
     "data": {
      "image/png": "[encoded data removed]",
      "text/plain": [
       "<Figure size 1200x600 with 1 Axes>"
      ]
     },
     "metadata": {},
     "output_type": "display_data"
    }
   ],
   "source": [
    "# Convert 'timestamp' to a datetime object\n",
    "df_ratings['timestamp'] = pd.to_datetime(df_ratings['timestamp'], unit='s')\n",
    "\n",
    "# Extract the year from the timestamp\n",
    "df_ratings['year'] = df_ratings['timestamp'].dt.year\n",
    "\n",
    "# Calculate average ratings per year\n",
    "average_ratings_by_year = df_ratings.groupby('year')['rating'].mean()\n",
    "\n",
    "# Visualize average ratings over time\n",
    "plt.figure(figsize=(12, 6))\n",
    "average_ratings_by_year.plot(kind='line')\n",
    "plt.title('Average Ratings Over Time')\n",
    "plt.xlabel('Year')\n",
    "plt.ylabel('Average Rating')\n",
    "plt.show()\n"
   ]
  },
  {
   "cell_type": "code",
   "execution_count": 26,
   "id": "bcdf1403",
   "metadata": {},
   "outputs": [
    {
     "data": {
      "image/png": "[encoded data removed]",
      "text/plain": [
       "<Figure size 1200x600 with 1 Axes>"
      ]
     },
     "metadata": {},
     "output_type": "display_data"
    }
   ],
   "source": [
    "# Convert 'timestamp' to a datetime object\n",
    "df_ratings['timestamp'] = pd.to_datetime(df_ratings['timestamp'], unit='s')\n",
    "\n",
    "# Extract the year from the timestamp\n",
    "df_ratings['year'] = df_ratings['timestamp'].dt.year\n",
    "\n",
    "# Calculate the count of ratings per year\n",
    "ratings_count_by_year = df_ratings.groupby('year')['rating'].count()\n",
    "\n",
    "# Visualize ratings count over time\n",
    "plt.figure(figsize=(12, 6))\n",
    "ratings_count_by_year.plot(kind='line')\n",
    "plt.title('Ratings Count Over Time')\n",
    "plt.xlabel('Year')\n",
    "plt.ylabel('Count of Ratings')\n",
    "plt.show()\n"
   ]
  },
  {
   "cell_type": "markdown",
   "id": "1f62b220",
   "metadata": {},
   "source": [
    "#### Feature selection part "
   ]
  },
  {
   "cell_type": "code",
   "execution_count": 27,
   "id": "ec1b82cb",
   "metadata": {},
   "outputs": [
    {
     "data": {
      "text/html": [
       "<div>\n",
       "<style scoped>\n",
       "    .dataframe tbody tr th:only-of-type {\n",
       "        vertical-align: middle;\n",
       "    }\n",
       "\n",
       "    .dataframe tbody tr th {\n",
       "        vertical-align: top;\n",
       "    }\n",
       "\n",
       "    .dataframe thead th {\n",
       "        text-align: right;\n",
       "    }\n",
       "</style>\n",
       "<table border=\"1\" class=\"dataframe\">\n",
       "  <thead>\n",
       "    <tr style=\"text-align: right;\">\n",
       "      <th></th>\n",
       "      <th>movieId</th>\n",
       "      <th>title</th>\n",
       "      <th>genres</th>\n",
       "      <th>release_year</th>\n",
       "      <th>average_rating</th>\n",
       "      <th>rating_count</th>\n",
       "    </tr>\n",
       "  </thead>\n",
       "  <tbody>\n",
       "    <tr>\n",
       "      <th>0</th>\n",
       "      <td>1</td>\n",
       "      <td>Toy Story (1995)</td>\n",
       "      <td>Adventure|Animation|Children|Comedy|Fantasy</td>\n",
       "      <td>1995.0</td>\n",
       "      <td>3.920930</td>\n",
       "      <td>215.0</td>\n",
       "    </tr>\n",
       "    <tr>\n",
       "      <th>1</th>\n",
       "      <td>2</td>\n",
       "      <td>Jumanji (1995)</td>\n",
       "      <td>Adventure|Children|Fantasy</td>\n",
       "      <td>1995.0</td>\n",
       "      <td>3.431818</td>\n",
       "      <td>110.0</td>\n",
       "    </tr>\n",
       "    <tr>\n",
       "      <th>2</th>\n",
       "      <td>3</td>\n",
       "      <td>Grumpier Old Men (1995)</td>\n",
       "      <td>Comedy|Romance</td>\n",
       "      <td>1995.0</td>\n",
       "      <td>3.259615</td>\n",
       "      <td>52.0</td>\n",
       "    </tr>\n",
       "    <tr>\n",
       "      <th>3</th>\n",
       "      <td>4</td>\n",
       "      <td>Waiting to Exhale (1995)</td>\n",
       "      <td>Comedy|Drama|Romance</td>\n",
       "      <td>1995.0</td>\n",
       "      <td>2.357143</td>\n",
       "      <td>7.0</td>\n",
       "    </tr>\n",
       "    <tr>\n",
       "      <th>4</th>\n",
       "      <td>5</td>\n",
       "      <td>Father of the Bride Part II (1995)</td>\n",
       "      <td>Comedy</td>\n",
       "      <td>1995.0</td>\n",
       "      <td>3.071429</td>\n",
       "      <td>49.0</td>\n",
       "    </tr>\n",
       "  </tbody>\n",
       "</table>\n",
       "</div>"
      ],
      "text/plain": [
       "   movieId                               title   \n",
       "0        1                    Toy Story (1995)  \\\n",
       "1        2                      Jumanji (1995)   \n",
       "2        3             Grumpier Old Men (1995)   \n",
       "3        4            Waiting to Exhale (1995)   \n",
       "4        5  Father of the Bride Part II (1995)   \n",
       "\n",
       "                                        genres  release_year  average_rating   \n",
       "0  Adventure|Animation|Children|Comedy|Fantasy        1995.0        3.920930  \\\n",
       "1                   Adventure|Children|Fantasy        1995.0        3.431818   \n",
       "2                               Comedy|Romance        1995.0        3.259615   \n",
       "3                         Comedy|Drama|Romance        1995.0        2.357143   \n",
       "4                                       Comedy        1995.0        3.071429   \n",
       "\n",
       "   rating_count  \n",
       "0         215.0  \n",
       "1         110.0  \n",
       "2          52.0  \n",
       "3           7.0  \n",
       "4          49.0  "
      ]
     },
     "execution_count": 27,
     "metadata": {},
     "output_type": "execute_result"
    }
   ],
   "source": [
    "df_movies.head()"
   ]
  },
  {
   "cell_type": "code",
   "execution_count": 28,
   "id": "610af9f6",
   "metadata": {
    "scrolled": true
   },
   "outputs": [
    {
     "data": {
      "text/html": [
       "<div>\n",
       "<style scoped>\n",
       "    .dataframe tbody tr th:only-of-type {\n",
       "        vertical-align: middle;\n",
       "    }\n",
       "\n",
       "    .dataframe tbody tr th {\n",
       "        vertical-align: top;\n",
       "    }\n",
       "\n",
       "    .dataframe thead th {\n",
       "        text-align: right;\n",
       "    }\n",
       "</style>\n",
       "<table border=\"1\" class=\"dataframe\">\n",
       "  <thead>\n",
       "    <tr style=\"text-align: right;\">\n",
       "      <th></th>\n",
       "      <th>userId</th>\n",
       "      <th>movieId</th>\n",
       "      <th>rating</th>\n",
       "      <th>timestamp</th>\n",
       "      <th>timestamp_readable</th>\n",
       "      <th>year</th>\n",
       "    </tr>\n",
       "  </thead>\n",
       "  <tbody>\n",
       "    <tr>\n",
       "      <th>0</th>\n",
       "      <td>1</td>\n",
       "      <td>1</td>\n",
       "      <td>4.0</td>\n",
       "      <td>2000-07-30 18:45:03</td>\n",
       "      <td>2000-07-30 18:45:03</td>\n",
       "      <td>2000</td>\n",
       "    </tr>\n",
       "    <tr>\n",
       "      <th>1</th>\n",
       "      <td>1</td>\n",
       "      <td>3</td>\n",
       "      <td>4.0</td>\n",
       "      <td>2000-07-30 18:20:47</td>\n",
       "      <td>2000-07-30 18:20:47</td>\n",
       "      <td>2000</td>\n",
       "    </tr>\n",
       "    <tr>\n",
       "      <th>2</th>\n",
       "      <td>1</td>\n",
       "      <td>6</td>\n",
       "      <td>4.0</td>\n",
       "      <td>2000-07-30 18:37:04</td>\n",
       "      <td>2000-07-30 18:37:04</td>\n",
       "      <td>2000</td>\n",
       "    </tr>\n",
       "    <tr>\n",
       "      <th>3</th>\n",
       "      <td>1</td>\n",
       "      <td>47</td>\n",
       "      <td>5.0</td>\n",
       "      <td>2000-07-30 19:03:35</td>\n",
       "      <td>2000-07-30 19:03:35</td>\n",
       "      <td>2000</td>\n",
       "    </tr>\n",
       "    <tr>\n",
       "      <th>4</th>\n",
       "      <td>1</td>\n",
       "      <td>50</td>\n",
       "      <td>5.0</td>\n",
       "      <td>2000-07-30 18:48:51</td>\n",
       "      <td>2000-07-30 18:48:51</td>\n",
       "      <td>2000</td>\n",
       "    </tr>\n",
       "  </tbody>\n",
       "</table>\n",
       "</div>"
      ],
      "text/plain": [
       "   userId  movieId  rating           timestamp   timestamp_readable  year\n",
       "0       1        1     4.0 2000-07-30 18:45:03  2000-07-30 18:45:03  2000\n",
       "1       1        3     4.0 2000-07-30 18:20:47  2000-07-30 18:20:47  2000\n",
       "2       1        6     4.0 2000-07-30 18:37:04  2000-07-30 18:37:04  2000\n",
       "3       1       47     5.0 2000-07-30 19:03:35  2000-07-30 19:03:35  2000\n",
       "4       1       50     5.0 2000-07-30 18:48:51  2000-07-30 18:48:51  2000"
      ]
     },
     "execution_count": 28,
     "metadata": {},
     "output_type": "execute_result"
    }
   ],
   "source": [
    "df_ratings.head()"
   ]
  },
  {
   "cell_type": "code",
   "execution_count": 29,
   "id": "ae925cf6",
   "metadata": {},
   "outputs": [],
   "source": [
    "df_merged = df_movies.merge(df_ratings, how=\"left\", on='movieId')"
   ]
  },
  {
   "cell_type": "code",
   "execution_count": 31,
   "id": "3b7f13ab",
   "metadata": {},
   "outputs": [
    {
     "data": {
      "text/html": [
       "<div>\n",
       "<style scoped>\n",
       "    .dataframe tbody tr th:only-of-type {\n",
       "        vertical-align: middle;\n",
       "    }\n",
       "\n",
       "    .dataframe tbody tr th {\n",
       "        vertical-align: top;\n",
       "    }\n",
       "\n",
       "    .dataframe thead th {\n",
       "        text-align: right;\n",
       "    }\n",
       "</style>\n",
       "<table border=\"1\" class=\"dataframe\">\n",
       "  <thead>\n",
       "    <tr style=\"text-align: right;\">\n",
       "      <th></th>\n",
       "      <th>movieId</th>\n",
       "      <th>title</th>\n",
       "      <th>genres</th>\n",
       "      <th>release_year</th>\n",
       "      <th>average_rating</th>\n",
       "      <th>rating_count</th>\n",
       "      <th>userId</th>\n",
       "      <th>rating</th>\n",
       "      <th>timestamp</th>\n",
       "      <th>timestamp_readable</th>\n",
       "      <th>year</th>\n",
       "    </tr>\n",
       "  </thead>\n",
       "  <tbody>\n",
       "    <tr>\n",
       "      <th>0</th>\n",
       "      <td>1</td>\n",
       "      <td>Toy Story (1995)</td>\n",
       "      <td>Adventure|Animation|Children|Comedy|Fantasy</td>\n",
       "      <td>1995.0</td>\n",
       "      <td>3.92093</td>\n",
       "      <td>215.0</td>\n",
       "      <td>1.0</td>\n",
       "      <td>4.0</td>\n",
       "      <td>2000-07-30 18:45:03</td>\n",
       "      <td>2000-07-30 18:45:03</td>\n",
       "      <td>2000.0</td>\n",
       "    </tr>\n",
       "    <tr>\n",
       "      <th>1</th>\n",
       "      <td>1</td>\n",
       "      <td>Toy Story (1995)</td>\n",
       "      <td>Adventure|Animation|Children|Comedy|Fantasy</td>\n",
       "      <td>1995.0</td>\n",
       "      <td>3.92093</td>\n",
       "      <td>215.0</td>\n",
       "      <td>5.0</td>\n",
       "      <td>4.0</td>\n",
       "      <td>1996-11-08 06:36:02</td>\n",
       "      <td>1996-11-08 06:36:02</td>\n",
       "      <td>1996.0</td>\n",
       "    </tr>\n",
       "    <tr>\n",
       "      <th>2</th>\n",
       "      <td>1</td>\n",
       "      <td>Toy Story (1995)</td>\n",
       "      <td>Adventure|Animation|Children|Comedy|Fantasy</td>\n",
       "      <td>1995.0</td>\n",
       "      <td>3.92093</td>\n",
       "      <td>215.0</td>\n",
       "      <td>7.0</td>\n",
       "      <td>4.5</td>\n",
       "      <td>2005-01-25 06:52:26</td>\n",
       "      <td>2005-01-25 06:52:26</td>\n",
       "      <td>2005.0</td>\n",
       "    </tr>\n",
       "    <tr>\n",
       "      <th>3</th>\n",
       "      <td>1</td>\n",
       "      <td>Toy Story (1995)</td>\n",
       "      <td>Adventure|Animation|Children|Comedy|Fantasy</td>\n",
       "      <td>1995.0</td>\n",
       "      <td>3.92093</td>\n",
       "      <td>215.0</td>\n",
       "      <td>15.0</td>\n",
       "      <td>2.5</td>\n",
       "      <td>2017-11-13 12:59:30</td>\n",
       "      <td>2017-11-13 12:59:30</td>\n",
       "      <td>2017.0</td>\n",
       "    </tr>\n",
       "    <tr>\n",
       "      <th>4</th>\n",
       "      <td>1</td>\n",
       "      <td>Toy Story (1995)</td>\n",
       "      <td>Adventure|Animation|Children|Comedy|Fantasy</td>\n",
       "      <td>1995.0</td>\n",
       "      <td>3.92093</td>\n",
       "      <td>215.0</td>\n",
       "      <td>17.0</td>\n",
       "      <td>4.5</td>\n",
       "      <td>2011-05-18 05:28:03</td>\n",
       "      <td>2011-05-18 05:28:03</td>\n",
       "      <td>2011.0</td>\n",
       "    </tr>\n",
       "  </tbody>\n",
       "</table>\n",
       "</div>"
      ],
      "text/plain": [
       "   movieId             title                                       genres   \n",
       "0        1  Toy Story (1995)  Adventure|Animation|Children|Comedy|Fantasy  \\\n",
       "1        1  Toy Story (1995)  Adventure|Animation|Children|Comedy|Fantasy   \n",
       "2        1  Toy Story (1995)  Adventure|Animation|Children|Comedy|Fantasy   \n",
       "3        1  Toy Story (1995)  Adventure|Animation|Children|Comedy|Fantasy   \n",
       "4        1  Toy Story (1995)  Adventure|Animation|Children|Comedy|Fantasy   \n",
       "\n",
       "   release_year  average_rating  rating_count  userId  rating   \n",
       "0        1995.0         3.92093         215.0     1.0     4.0  \\\n",
       "1        1995.0         3.92093         215.0     5.0     4.0   \n",
       "2        1995.0         3.92093         215.0     7.0     4.5   \n",
       "3        1995.0         3.92093         215.0    15.0     2.5   \n",
       "4        1995.0         3.92093         215.0    17.0     4.5   \n",
       "\n",
       "            timestamp   timestamp_readable    year  \n",
       "0 2000-07-30 18:45:03  2000-07-30 18:45:03  2000.0  \n",
       "1 1996-11-08 06:36:02  1996-11-08 06:36:02  1996.0  \n",
       "2 2005-01-25 06:52:26  2005-01-25 06:52:26  2005.0  \n",
       "3 2017-11-13 12:59:30  2017-11-13 12:59:30  2017.0  \n",
       "4 2011-05-18 05:28:03  2011-05-18 05:28:03  2011.0  "
      ]
     },
     "execution_count": 31,
     "metadata": {},
     "output_type": "execute_result"
    }
   ],
   "source": [
    "df_merged.head()"
   ]
  },
  {
   "cell_type": "code",
   "execution_count": 32,
   "id": "b531dcb3",
   "metadata": {
    "scrolled": true
   },
   "outputs": [
    {
     "name": "stdout",
     "output_type": "stream",
     "text": [
      "<class 'pandas.core.frame.DataFrame'>\n",
      "RangeIndex: 100854 entries, 0 to 100853\n",
      "Data columns (total 11 columns):\n",
      " #   Column              Non-Null Count   Dtype         \n",
      "---  ------              --------------   -----         \n",
      " 0   movieId             100854 non-null  int64         \n",
      " 1   title               100854 non-null  object        \n",
      " 2   genres              100854 non-null  object        \n",
      " 3   release_year        100823 non-null  float64       \n",
      " 4   average_rating      100836 non-null  float64       \n",
      " 5   rating_count        100836 non-null  float64       \n",
      " 6   userId              100836 non-null  float64       \n",
      " 7   rating              100836 non-null  float64       \n",
      " 8   timestamp           100836 non-null  datetime64[ns]\n",
      " 9   timestamp_readable  100836 non-null  object        \n",
      " 10  year                100836 non-null  float64       \n",
      "dtypes: datetime64[ns](1), float64(6), int64(1), object(3)\n",
      "memory usage: 8.5+ MB\n"
     ]
    }
   ],
   "source": [
    "df_merged.info()"
   ]
  },
  {
   "cell_type": "code",
   "execution_count": 33,
   "id": "acaf12d1",
   "metadata": {},
   "outputs": [],
   "source": [
    "df_merged.dropna(inplace=True)"
   ]
  },
  {
   "cell_type": "code",
   "execution_count": 34,
   "id": "2d90bc71",
   "metadata": {
    "scrolled": false
   },
   "outputs": [
    {
     "name": "stdout",
     "output_type": "stream",
     "text": [
      "No Missing Values Found in the Dataset\n"
     ]
    }
   ],
   "source": [
    "# Check for missing values in the df_merged DataFrame\n",
    "missing_values = df_merged.isna().sum()\n",
    "\n",
    "# Display columns with missing values (if any)\n",
    "columns_with_missing_values = missing_values[missing_values > 0]\n",
    "if not columns_with_missing_values.empty:\n",
    "    print(\"Columns with Missing Values:\")\n",
    "    print(columns_with_missing_values)\n",
    "else:\n",
    "    print(\"No Missing Values Found in the Dataset\")"
   ]
  },
  {
   "cell_type": "code",
   "execution_count": 35,
   "id": "30c3ee23",
   "metadata": {},
   "outputs": [
    {
     "data": {
      "text/html": [
       "<div>\n",
       "<style scoped>\n",
       "    .dataframe tbody tr th:only-of-type {\n",
       "        vertical-align: middle;\n",
       "    }\n",
       "\n",
       "    .dataframe tbody tr th {\n",
       "        vertical-align: top;\n",
       "    }\n",
       "\n",
       "    .dataframe thead th {\n",
       "        text-align: right;\n",
       "    }\n",
       "</style>\n",
       "<table border=\"1\" class=\"dataframe\">\n",
       "  <thead>\n",
       "    <tr style=\"text-align: right;\">\n",
       "      <th></th>\n",
       "      <th>userId</th>\n",
       "      <th>movieId</th>\n",
       "      <th>rating</th>\n",
       "      <th>timestamp</th>\n",
       "      <th>timestamp_readable</th>\n",
       "      <th>year</th>\n",
       "    </tr>\n",
       "  </thead>\n",
       "  <tbody>\n",
       "    <tr>\n",
       "      <th>0</th>\n",
       "      <td>1</td>\n",
       "      <td>1</td>\n",
       "      <td>4.0</td>\n",
       "      <td>2000-07-30 18:45:03</td>\n",
       "      <td>2000-07-30 18:45:03</td>\n",
       "      <td>2000</td>\n",
       "    </tr>\n",
       "    <tr>\n",
       "      <th>1</th>\n",
       "      <td>1</td>\n",
       "      <td>3</td>\n",
       "      <td>4.0</td>\n",
       "      <td>2000-07-30 18:20:47</td>\n",
       "      <td>2000-07-30 18:20:47</td>\n",
       "      <td>2000</td>\n",
       "    </tr>\n",
       "    <tr>\n",
       "      <th>2</th>\n",
       "      <td>1</td>\n",
       "      <td>6</td>\n",
       "      <td>4.0</td>\n",
       "      <td>2000-07-30 18:37:04</td>\n",
       "      <td>2000-07-30 18:37:04</td>\n",
       "      <td>2000</td>\n",
       "    </tr>\n",
       "    <tr>\n",
       "      <th>3</th>\n",
       "      <td>1</td>\n",
       "      <td>47</td>\n",
       "      <td>5.0</td>\n",
       "      <td>2000-07-30 19:03:35</td>\n",
       "      <td>2000-07-30 19:03:35</td>\n",
       "      <td>2000</td>\n",
       "    </tr>\n",
       "    <tr>\n",
       "      <th>4</th>\n",
       "      <td>1</td>\n",
       "      <td>50</td>\n",
       "      <td>5.0</td>\n",
       "      <td>2000-07-30 18:48:51</td>\n",
       "      <td>2000-07-30 18:48:51</td>\n",
       "      <td>2000</td>\n",
       "    </tr>\n",
       "  </tbody>\n",
       "</table>\n",
       "</div>"
      ],
      "text/plain": [
       "   userId  movieId  rating           timestamp   timestamp_readable  year\n",
       "0       1        1     4.0 2000-07-30 18:45:03  2000-07-30 18:45:03  2000\n",
       "1       1        3     4.0 2000-07-30 18:20:47  2000-07-30 18:20:47  2000\n",
       "2       1        6     4.0 2000-07-30 18:37:04  2000-07-30 18:37:04  2000\n",
       "3       1       47     5.0 2000-07-30 19:03:35  2000-07-30 19:03:35  2000\n",
       "4       1       50     5.0 2000-07-30 18:48:51  2000-07-30 18:48:51  2000"
      ]
     },
     "execution_count": 35,
     "metadata": {},
     "output_type": "execute_result"
    }
   ],
   "source": [
    "df_ratings.head()"
   ]
  },
  {
   "cell_type": "code",
   "execution_count": 36,
   "id": "a00cd096",
   "metadata": {},
   "outputs": [
    {
     "name": "stdout",
     "output_type": "stream",
     "text": [
      "No Missing Values Found in the Dataset\n"
     ]
    }
   ],
   "source": [
    "import pandas as pd\n",
    "\n",
    "# Check for missing values in the df_merged DataFrame\n",
    "missing_values = df_ratings.isna().sum()\n",
    "\n",
    "# Display columns with missing values (if any)\n",
    "columns_with_missing_values = missing_values[missing_values > 0]\n",
    "if not columns_with_missing_values.empty:\n",
    "    print(\"Columns with Missing Values:\")\n",
    "    print(columns_with_missing_values)\n",
    "else:\n",
    "    print(\"No Missing Values Found in the Dataset\")\n"
   ]
  },
  {
   "cell_type": "code",
   "execution_count": 37,
   "id": "f7f80bd6",
   "metadata": {},
   "outputs": [
    {
     "data": {
      "text/html": [
       "<div>\n",
       "<style scoped>\n",
       "    .dataframe tbody tr th:only-of-type {\n",
       "        vertical-align: middle;\n",
       "    }\n",
       "\n",
       "    .dataframe tbody tr th {\n",
       "        vertical-align: top;\n",
       "    }\n",
       "\n",
       "    .dataframe thead th {\n",
       "        text-align: right;\n",
       "    }\n",
       "</style>\n",
       "<table border=\"1\" class=\"dataframe\">\n",
       "  <thead>\n",
       "    <tr style=\"text-align: right;\">\n",
       "      <th></th>\n",
       "      <th>movieId</th>\n",
       "      <th>title</th>\n",
       "      <th>genres</th>\n",
       "      <th>release_year</th>\n",
       "      <th>average_rating</th>\n",
       "      <th>rating_count</th>\n",
       "      <th>userId</th>\n",
       "      <th>rating</th>\n",
       "      <th>timestamp</th>\n",
       "      <th>timestamp_readable</th>\n",
       "      <th>year</th>\n",
       "    </tr>\n",
       "  </thead>\n",
       "  <tbody>\n",
       "    <tr>\n",
       "      <th>0</th>\n",
       "      <td>1</td>\n",
       "      <td>Toy Story (1995)</td>\n",
       "      <td>Adventure|Animation|Children|Comedy|Fantasy</td>\n",
       "      <td>1995.0</td>\n",
       "      <td>3.92093</td>\n",
       "      <td>215.0</td>\n",
       "      <td>1.0</td>\n",
       "      <td>4.0</td>\n",
       "      <td>2000-07-30 18:45:03</td>\n",
       "      <td>2000-07-30 18:45:03</td>\n",
       "      <td>2000.0</td>\n",
       "    </tr>\n",
       "    <tr>\n",
       "      <th>1</th>\n",
       "      <td>1</td>\n",
       "      <td>Toy Story (1995)</td>\n",
       "      <td>Adventure|Animation|Children|Comedy|Fantasy</td>\n",
       "      <td>1995.0</td>\n",
       "      <td>3.92093</td>\n",
       "      <td>215.0</td>\n",
       "      <td>5.0</td>\n",
       "      <td>4.0</td>\n",
       "      <td>1996-11-08 06:36:02</td>\n",
       "      <td>1996-11-08 06:36:02</td>\n",
       "      <td>1996.0</td>\n",
       "    </tr>\n",
       "    <tr>\n",
       "      <th>2</th>\n",
       "      <td>1</td>\n",
       "      <td>Toy Story (1995)</td>\n",
       "      <td>Adventure|Animation|Children|Comedy|Fantasy</td>\n",
       "      <td>1995.0</td>\n",
       "      <td>3.92093</td>\n",
       "      <td>215.0</td>\n",
       "      <td>7.0</td>\n",
       "      <td>4.5</td>\n",
       "      <td>2005-01-25 06:52:26</td>\n",
       "      <td>2005-01-25 06:52:26</td>\n",
       "      <td>2005.0</td>\n",
       "    </tr>\n",
       "    <tr>\n",
       "      <th>3</th>\n",
       "      <td>1</td>\n",
       "      <td>Toy Story (1995)</td>\n",
       "      <td>Adventure|Animation|Children|Comedy|Fantasy</td>\n",
       "      <td>1995.0</td>\n",
       "      <td>3.92093</td>\n",
       "      <td>215.0</td>\n",
       "      <td>15.0</td>\n",
       "      <td>2.5</td>\n",
       "      <td>2017-11-13 12:59:30</td>\n",
       "      <td>2017-11-13 12:59:30</td>\n",
       "      <td>2017.0</td>\n",
       "    </tr>\n",
       "    <tr>\n",
       "      <th>4</th>\n",
       "      <td>1</td>\n",
       "      <td>Toy Story (1995)</td>\n",
       "      <td>Adventure|Animation|Children|Comedy|Fantasy</td>\n",
       "      <td>1995.0</td>\n",
       "      <td>3.92093</td>\n",
       "      <td>215.0</td>\n",
       "      <td>17.0</td>\n",
       "      <td>4.5</td>\n",
       "      <td>2011-05-18 05:28:03</td>\n",
       "      <td>2011-05-18 05:28:03</td>\n",
       "      <td>2011.0</td>\n",
       "    </tr>\n",
       "  </tbody>\n",
       "</table>\n",
       "</div>"
      ],
      "text/plain": [
       "   movieId             title                                       genres   \n",
       "0        1  Toy Story (1995)  Adventure|Animation|Children|Comedy|Fantasy  \\\n",
       "1        1  Toy Story (1995)  Adventure|Animation|Children|Comedy|Fantasy   \n",
       "2        1  Toy Story (1995)  Adventure|Animation|Children|Comedy|Fantasy   \n",
       "3        1  Toy Story (1995)  Adventure|Animation|Children|Comedy|Fantasy   \n",
       "4        1  Toy Story (1995)  Adventure|Animation|Children|Comedy|Fantasy   \n",
       "\n",
       "   release_year  average_rating  rating_count  userId  rating   \n",
       "0        1995.0         3.92093         215.0     1.0     4.0  \\\n",
       "1        1995.0         3.92093         215.0     5.0     4.0   \n",
       "2        1995.0         3.92093         215.0     7.0     4.5   \n",
       "3        1995.0         3.92093         215.0    15.0     2.5   \n",
       "4        1995.0         3.92093         215.0    17.0     4.5   \n",
       "\n",
       "            timestamp   timestamp_readable    year  \n",
       "0 2000-07-30 18:45:03  2000-07-30 18:45:03  2000.0  \n",
       "1 1996-11-08 06:36:02  1996-11-08 06:36:02  1996.0  \n",
       "2 2005-01-25 06:52:26  2005-01-25 06:52:26  2005.0  \n",
       "3 2017-11-13 12:59:30  2017-11-13 12:59:30  2017.0  \n",
       "4 2011-05-18 05:28:03  2011-05-18 05:28:03  2011.0  "
      ]
     },
     "execution_count": 37,
     "metadata": {},
     "output_type": "execute_result"
    }
   ],
   "source": [
    "df_merged.head()"
   ]
  },
  {
   "cell_type": "markdown",
   "id": "cb15fd42",
   "metadata": {},
   "source": [
    "Creating a user-item interaction matrix from the dataset you provided involves reshaping the data into the desired format where rows represent users, columns represent items (movies in this case), and the values are ratings. Below is a simplified example of how you can create such a matrix using Python and pandas:"
   ]
  },
  {
   "cell_type": "code",
   "execution_count": 38,
   "id": "0e2b2448",
   "metadata": {
    "scrolled": true
   },
   "outputs": [
    {
     "data": {
      "text/html": [
       "<div>\n",
       "<style scoped>\n",
       "    .dataframe tbody tr th:only-of-type {\n",
       "        vertical-align: middle;\n",
       "    }\n",
       "\n",
       "    .dataframe tbody tr th {\n",
       "        vertical-align: top;\n",
       "    }\n",
       "\n",
       "    .dataframe thead th {\n",
       "        text-align: right;\n",
       "    }\n",
       "</style>\n",
       "<table border=\"1\" class=\"dataframe\">\n",
       "  <thead>\n",
       "    <tr style=\"text-align: right;\">\n",
       "      <th>movieId</th>\n",
       "      <th>1</th>\n",
       "      <th>2</th>\n",
       "      <th>3</th>\n",
       "      <th>4</th>\n",
       "      <th>5</th>\n",
       "      <th>6</th>\n",
       "      <th>7</th>\n",
       "      <th>8</th>\n",
       "      <th>9</th>\n",
       "      <th>10</th>\n",
       "      <th>...</th>\n",
       "      <th>193565</th>\n",
       "      <th>193567</th>\n",
       "      <th>193571</th>\n",
       "      <th>193573</th>\n",
       "      <th>193579</th>\n",
       "      <th>193581</th>\n",
       "      <th>193583</th>\n",
       "      <th>193585</th>\n",
       "      <th>193587</th>\n",
       "      <th>193609</th>\n",
       "    </tr>\n",
       "    <tr>\n",
       "      <th>userId</th>\n",
       "      <th></th>\n",
       "      <th></th>\n",
       "      <th></th>\n",
       "      <th></th>\n",
       "      <th></th>\n",
       "      <th></th>\n",
       "      <th></th>\n",
       "      <th></th>\n",
       "      <th></th>\n",
       "      <th></th>\n",
       "      <th></th>\n",
       "      <th></th>\n",
       "      <th></th>\n",
       "      <th></th>\n",
       "      <th></th>\n",
       "      <th></th>\n",
       "      <th></th>\n",
       "      <th></th>\n",
       "      <th></th>\n",
       "      <th></th>\n",
       "      <th></th>\n",
       "    </tr>\n",
       "  </thead>\n",
       "  <tbody>\n",
       "    <tr>\n",
       "      <th>1.0</th>\n",
       "      <td>4.0</td>\n",
       "      <td>0.0</td>\n",
       "      <td>4.0</td>\n",
       "      <td>0.0</td>\n",
       "      <td>0.0</td>\n",
       "      <td>4.0</td>\n",
       "      <td>0.0</td>\n",
       "      <td>0.0</td>\n",
       "      <td>0.0</td>\n",
       "      <td>0.0</td>\n",
       "      <td>...</td>\n",
       "      <td>0.0</td>\n",
       "      <td>0.0</td>\n",
       "      <td>0.0</td>\n",
       "      <td>0.0</td>\n",
       "      <td>0.0</td>\n",
       "      <td>0.0</td>\n",
       "      <td>0.0</td>\n",
       "      <td>0.0</td>\n",
       "      <td>0.0</td>\n",
       "      <td>0.0</td>\n",
       "    </tr>\n",
       "    <tr>\n",
       "      <th>2.0</th>\n",
       "      <td>0.0</td>\n",
       "      <td>0.0</td>\n",
       "      <td>0.0</td>\n",
       "      <td>0.0</td>\n",
       "      <td>0.0</td>\n",
       "      <td>0.0</td>\n",
       "      <td>0.0</td>\n",
       "      <td>0.0</td>\n",
       "      <td>0.0</td>\n",
       "      <td>0.0</td>\n",
       "      <td>...</td>\n",
       "      <td>0.0</td>\n",
       "      <td>0.0</td>\n",
       "      <td>0.0</td>\n",
       "      <td>0.0</td>\n",
       "      <td>0.0</td>\n",
       "      <td>0.0</td>\n",
       "      <td>0.0</td>\n",
       "      <td>0.0</td>\n",
       "      <td>0.0</td>\n",
       "      <td>0.0</td>\n",
       "    </tr>\n",
       "    <tr>\n",
       "      <th>3.0</th>\n",
       "      <td>0.0</td>\n",
       "      <td>0.0</td>\n",
       "      <td>0.0</td>\n",
       "      <td>0.0</td>\n",
       "      <td>0.0</td>\n",
       "      <td>0.0</td>\n",
       "      <td>0.0</td>\n",
       "      <td>0.0</td>\n",
       "      <td>0.0</td>\n",
       "      <td>0.0</td>\n",
       "      <td>...</td>\n",
       "      <td>0.0</td>\n",
       "      <td>0.0</td>\n",
       "      <td>0.0</td>\n",
       "      <td>0.0</td>\n",
       "      <td>0.0</td>\n",
       "      <td>0.0</td>\n",
       "      <td>0.0</td>\n",
       "      <td>0.0</td>\n",
       "      <td>0.0</td>\n",
       "      <td>0.0</td>\n",
       "    </tr>\n",
       "    <tr>\n",
       "      <th>4.0</th>\n",
       "      <td>0.0</td>\n",
       "      <td>0.0</td>\n",
       "      <td>0.0</td>\n",
       "      <td>0.0</td>\n",
       "      <td>0.0</td>\n",
       "      <td>0.0</td>\n",
       "      <td>0.0</td>\n",
       "      <td>0.0</td>\n",
       "      <td>0.0</td>\n",
       "      <td>0.0</td>\n",
       "      <td>...</td>\n",
       "      <td>0.0</td>\n",
       "      <td>0.0</td>\n",
       "      <td>0.0</td>\n",
       "      <td>0.0</td>\n",
       "      <td>0.0</td>\n",
       "      <td>0.0</td>\n",
       "      <td>0.0</td>\n",
       "      <td>0.0</td>\n",
       "      <td>0.0</td>\n",
       "      <td>0.0</td>\n",
       "    </tr>\n",
       "    <tr>\n",
       "      <th>5.0</th>\n",
       "      <td>4.0</td>\n",
       "      <td>0.0</td>\n",
       "      <td>0.0</td>\n",
       "      <td>0.0</td>\n",
       "      <td>0.0</td>\n",
       "      <td>0.0</td>\n",
       "      <td>0.0</td>\n",
       "      <td>0.0</td>\n",
       "      <td>0.0</td>\n",
       "      <td>0.0</td>\n",
       "      <td>...</td>\n",
       "      <td>0.0</td>\n",
       "      <td>0.0</td>\n",
       "      <td>0.0</td>\n",
       "      <td>0.0</td>\n",
       "      <td>0.0</td>\n",
       "      <td>0.0</td>\n",
       "      <td>0.0</td>\n",
       "      <td>0.0</td>\n",
       "      <td>0.0</td>\n",
       "      <td>0.0</td>\n",
       "    </tr>\n",
       "  </tbody>\n",
       "</table>\n",
       "<p>5 rows × 9700 columns</p>\n",
       "</div>"
      ],
      "text/plain": [
       "movieId  1       2       3       4       5       6       7       8        \n",
       "userId                                                                    \n",
       "1.0         4.0     0.0     4.0     0.0     0.0     4.0     0.0     0.0  \\\n",
       "2.0         0.0     0.0     0.0     0.0     0.0     0.0     0.0     0.0   \n",
       "3.0         0.0     0.0     0.0     0.0     0.0     0.0     0.0     0.0   \n",
       "4.0         0.0     0.0     0.0     0.0     0.0     0.0     0.0     0.0   \n",
       "5.0         4.0     0.0     0.0     0.0     0.0     0.0     0.0     0.0   \n",
       "\n",
       "movieId  9       10      ...  193565  193567  193571  193573  193579  193581   \n",
       "userId                   ...                                                   \n",
       "1.0         0.0     0.0  ...     0.0     0.0     0.0     0.0     0.0     0.0  \\\n",
       "2.0         0.0     0.0  ...     0.0     0.0     0.0     0.0     0.0     0.0   \n",
       "3.0         0.0     0.0  ...     0.0     0.0     0.0     0.0     0.0     0.0   \n",
       "4.0         0.0     0.0  ...     0.0     0.0     0.0     0.0     0.0     0.0   \n",
       "5.0         0.0     0.0  ...     0.0     0.0     0.0     0.0     0.0     0.0   \n",
       "\n",
       "movieId  193583  193585  193587  193609  \n",
       "userId                                   \n",
       "1.0         0.0     0.0     0.0     0.0  \n",
       "2.0         0.0     0.0     0.0     0.0  \n",
       "3.0         0.0     0.0     0.0     0.0  \n",
       "4.0         0.0     0.0     0.0     0.0  \n",
       "5.0         0.0     0.0     0.0     0.0  \n",
       "\n",
       "[5 rows x 9700 columns]"
      ]
     },
     "execution_count": 38,
     "metadata": {},
     "output_type": "execute_result"
    }
   ],
   "source": [
    "import pandas as pd\n",
    "\n",
    "# Assuming your dataset is stored in df_merged\n",
    "# You may need to select relevant columns for the user-item matrix\n",
    "# I'll assume 'userId', 'movieId', and 'rating' columns are present in your dataset\n",
    "\n",
    "# Pivot the DataFrame to create the user-item interaction matrix\n",
    "user_item_matrix = df_merged.pivot_table(index='userId', columns='movieId', values='rating')\n",
    "\n",
    "# Fill missing values with 0 (assuming missing values mean no interaction)\n",
    "user_item_matrix = user_item_matrix.fillna(0)\n",
    "\n",
    "# The user-item matrix is now ready for collaborative filtering\n",
    "user_item_matrix.head()\n"
   ]
  },
  {
   "cell_type": "markdown",
   "id": "17fbd232",
   "metadata": {},
   "source": [
    "Dataset Assumptions: The code assumes that you have a dataset named df_merged, which contains information about movie ratings given by users. It further assumes that this dataset contains at least three columns: 'userId', 'movieId', and 'rating'.\n",
    "\n",
    "Pivoting the DataFrame: The main operation occurs with the pivot_table function. This function reshapes the original DataFrame (df_merged) into a user-item interaction matrix. Here's how it works:\n",
    "\n",
    "index='userId': The 'userId' column is used as the index (rows) of the new matrix.\n",
    "columns='movieId': The 'movieId' column is used to create columns in the matrix, each representing a unique movie.\n",
    "values='rating': The 'rating' column provides the values to fill the matrix cells.\n",
    "Handling Missing Values: After creating the initial matrix, the code fills missing values with 0. This is a common approach in collaborative filtering, where missing values typically represent no interaction or unrated items by users. By filling missing values with 0, it indicates that a user has not rated a particular movie.\n",
    "\n",
    "Resulting User-Item Matrix: Finally, the code prints the first few rows of the user-item interaction matrix using print(user_item_matrix.head()). The matrix has users as rows and movies as columns, with each cell containing a rating (or 0 for missing ratings).\n",
    "\n",
    "Each row corresponds to a user, identified by their 'userId'.\n",
    "Each column corresponds to a movie, identified by its 'movieId'.\n",
    "The values in the matrix represent the ratings given by users to the respective movies.\n",
    "This user-item interaction matrix serves as the foundation for collaborative filtering algorithms. It enables you to calculate similarities between users or items, make recommendations, and build recommendation systems. Collaborative filtering algorithms use this matrix to identify patterns and make personalized recommendations based on user preferences and item similarities.\n",
    "\n",
    "As you further develop your skills as a data scientist, you may explore more advanced techniques to improve the quality of recommendations and address challenges such as handling sparse data or dealing with cold start problems for new users or items.\n",
    "\n",
    "\n",
    "\n",
    "\n"
   ]
  },
  {
   "cell_type": "markdown",
   "id": "99cfd890",
   "metadata": {},
   "source": [
    "## Baseline Model\n",
    "\n",
    "\n",
    "\n"
   ]
  },
  {
   "cell_type": "code",
   "execution_count": 51,
   "id": "0037e157",
   "metadata": {
    "scrolled": false
   },
   "outputs": [
    {
     "name": "stdout",
     "output_type": "stream",
     "text": [
      "Top 5 Popular Movies:\n",
      "                                                  title  rating\n",
      "5793  Moscow Does Not Believe in Tears (Moskva sleza...     5.0\n",
      "3399                            Ghost Graduation (2012)     5.0\n",
      "8899              Trinity and Sartana Are Coming (1972)     5.0\n",
      "7024                         Reform School Girls (1986)     5.0\n",
      "5317                            Madame Sousatzka (1988)     5.0\n"
     ]
    }
   ],
   "source": [
    "# Baseline Model: Popularity-Based\n",
    "# Calculate the average rating for each movie\n",
    "movie_ratings = df_merged.groupby('title')['rating'].mean().reset_index()\n",
    "\n",
    "# Sort movies by average rating in descending order\n",
    "top_popular_movies = movie_ratings.sort_values(by='rating', ascending=False)\n",
    "\n",
    "# Recommend the top 5 popular movies\n",
    "top_5_popular_movies = top_popular_movies.head(5)\n",
    "print(\"Top 5 Popular Movies:\")\n",
    "print(top_5_popular_movies)"
   ]
  },
  {
   "cell_type": "code",
   "execution_count": 57,
   "id": "640bf31f",
   "metadata": {
    "scrolled": true
   },
   "outputs": [
    {
     "data": {
      "text/html": [
       "<div>\n",
       "<style scoped>\n",
       "    .dataframe tbody tr th:only-of-type {\n",
       "        vertical-align: middle;\n",
       "    }\n",
       "\n",
       "    .dataframe tbody tr th {\n",
       "        vertical-align: top;\n",
       "    }\n",
       "\n",
       "    .dataframe thead th {\n",
       "        text-align: right;\n",
       "    }\n",
       "</style>\n",
       "<table border=\"1\" class=\"dataframe\">\n",
       "  <thead>\n",
       "    <tr style=\"text-align: right;\">\n",
       "      <th></th>\n",
       "      <th>movieId</th>\n",
       "      <th>title</th>\n",
       "      <th>genres</th>\n",
       "      <th>release_year</th>\n",
       "      <th>average_rating</th>\n",
       "      <th>rating_count</th>\n",
       "      <th>userId</th>\n",
       "      <th>rating</th>\n",
       "      <th>timestamp</th>\n",
       "      <th>timestamp_readable</th>\n",
       "      <th>year</th>\n",
       "    </tr>\n",
       "  </thead>\n",
       "  <tbody>\n",
       "    <tr>\n",
       "      <th>0</th>\n",
       "      <td>1</td>\n",
       "      <td>Toy Story (1995)</td>\n",
       "      <td>Adventure|Animation|Children|Comedy|Fantasy</td>\n",
       "      <td>1995.0</td>\n",
       "      <td>3.92093</td>\n",
       "      <td>215.0</td>\n",
       "      <td>1.0</td>\n",
       "      <td>4.0</td>\n",
       "      <td>2000-07-30 18:45:03</td>\n",
       "      <td>2000-07-30 18:45:03</td>\n",
       "      <td>2000.0</td>\n",
       "    </tr>\n",
       "    <tr>\n",
       "      <th>1</th>\n",
       "      <td>1</td>\n",
       "      <td>Toy Story (1995)</td>\n",
       "      <td>Adventure|Animation|Children|Comedy|Fantasy</td>\n",
       "      <td>1995.0</td>\n",
       "      <td>3.92093</td>\n",
       "      <td>215.0</td>\n",
       "      <td>5.0</td>\n",
       "      <td>4.0</td>\n",
       "      <td>1996-11-08 06:36:02</td>\n",
       "      <td>1996-11-08 06:36:02</td>\n",
       "      <td>1996.0</td>\n",
       "    </tr>\n",
       "    <tr>\n",
       "      <th>2</th>\n",
       "      <td>1</td>\n",
       "      <td>Toy Story (1995)</td>\n",
       "      <td>Adventure|Animation|Children|Comedy|Fantasy</td>\n",
       "      <td>1995.0</td>\n",
       "      <td>3.92093</td>\n",
       "      <td>215.0</td>\n",
       "      <td>7.0</td>\n",
       "      <td>4.5</td>\n",
       "      <td>2005-01-25 06:52:26</td>\n",
       "      <td>2005-01-25 06:52:26</td>\n",
       "      <td>2005.0</td>\n",
       "    </tr>\n",
       "    <tr>\n",
       "      <th>3</th>\n",
       "      <td>1</td>\n",
       "      <td>Toy Story (1995)</td>\n",
       "      <td>Adventure|Animation|Children|Comedy|Fantasy</td>\n",
       "      <td>1995.0</td>\n",
       "      <td>3.92093</td>\n",
       "      <td>215.0</td>\n",
       "      <td>15.0</td>\n",
       "      <td>2.5</td>\n",
       "      <td>2017-11-13 12:59:30</td>\n",
       "      <td>2017-11-13 12:59:30</td>\n",
       "      <td>2017.0</td>\n",
       "    </tr>\n",
       "    <tr>\n",
       "      <th>4</th>\n",
       "      <td>1</td>\n",
       "      <td>Toy Story (1995)</td>\n",
       "      <td>Adventure|Animation|Children|Comedy|Fantasy</td>\n",
       "      <td>1995.0</td>\n",
       "      <td>3.92093</td>\n",
       "      <td>215.0</td>\n",
       "      <td>17.0</td>\n",
       "      <td>4.5</td>\n",
       "      <td>2011-05-18 05:28:03</td>\n",
       "      <td>2011-05-18 05:28:03</td>\n",
       "      <td>2011.0</td>\n",
       "    </tr>\n",
       "    <tr>\n",
       "      <th>...</th>\n",
       "      <td>...</td>\n",
       "      <td>...</td>\n",
       "      <td>...</td>\n",
       "      <td>...</td>\n",
       "      <td>...</td>\n",
       "      <td>...</td>\n",
       "      <td>...</td>\n",
       "      <td>...</td>\n",
       "      <td>...</td>\n",
       "      <td>...</td>\n",
       "      <td>...</td>\n",
       "    </tr>\n",
       "    <tr>\n",
       "      <th>100849</th>\n",
       "      <td>193581</td>\n",
       "      <td>Black Butler: Book of the Atlantic (2017)</td>\n",
       "      <td>Action|Animation|Comedy|Fantasy</td>\n",
       "      <td>2017.0</td>\n",
       "      <td>4.00000</td>\n",
       "      <td>1.0</td>\n",
       "      <td>184.0</td>\n",
       "      <td>4.0</td>\n",
       "      <td>2018-09-16 14:44:42</td>\n",
       "      <td>2018-09-16 14:44:42</td>\n",
       "      <td>2018.0</td>\n",
       "    </tr>\n",
       "    <tr>\n",
       "      <th>100850</th>\n",
       "      <td>193583</td>\n",
       "      <td>No Game No Life: Zero (2017)</td>\n",
       "      <td>Animation|Comedy|Fantasy</td>\n",
       "      <td>2017.0</td>\n",
       "      <td>3.50000</td>\n",
       "      <td>1.0</td>\n",
       "      <td>184.0</td>\n",
       "      <td>3.5</td>\n",
       "      <td>2018-09-16 14:52:25</td>\n",
       "      <td>2018-09-16 14:52:25</td>\n",
       "      <td>2018.0</td>\n",
       "    </tr>\n",
       "    <tr>\n",
       "      <th>100851</th>\n",
       "      <td>193585</td>\n",
       "      <td>Flint (2017)</td>\n",
       "      <td>Drama</td>\n",
       "      <td>2017.0</td>\n",
       "      <td>3.50000</td>\n",
       "      <td>1.0</td>\n",
       "      <td>184.0</td>\n",
       "      <td>3.5</td>\n",
       "      <td>2018-09-16 14:56:45</td>\n",
       "      <td>2018-09-16 14:56:45</td>\n",
       "      <td>2018.0</td>\n",
       "    </tr>\n",
       "    <tr>\n",
       "      <th>100852</th>\n",
       "      <td>193587</td>\n",
       "      <td>Bungo Stray Dogs: Dead Apple (2018)</td>\n",
       "      <td>Action|Animation</td>\n",
       "      <td>2018.0</td>\n",
       "      <td>3.50000</td>\n",
       "      <td>1.0</td>\n",
       "      <td>184.0</td>\n",
       "      <td>3.5</td>\n",
       "      <td>2018-09-16 15:00:21</td>\n",
       "      <td>2018-09-16 15:00:21</td>\n",
       "      <td>2018.0</td>\n",
       "    </tr>\n",
       "    <tr>\n",
       "      <th>100853</th>\n",
       "      <td>193609</td>\n",
       "      <td>Andrew Dice Clay: Dice Rules (1991)</td>\n",
       "      <td>Comedy</td>\n",
       "      <td>1991.0</td>\n",
       "      <td>4.00000</td>\n",
       "      <td>1.0</td>\n",
       "      <td>331.0</td>\n",
       "      <td>4.0</td>\n",
       "      <td>2018-09-17 04:13:26</td>\n",
       "      <td>2018-09-17 04:13:26</td>\n",
       "      <td>2018.0</td>\n",
       "    </tr>\n",
       "  </tbody>\n",
       "</table>\n",
       "<p>100805 rows × 11 columns</p>\n",
       "</div>"
      ],
      "text/plain": [
       "        movieId                                      title   \n",
       "0             1                           Toy Story (1995)  \\\n",
       "1             1                           Toy Story (1995)   \n",
       "2             1                           Toy Story (1995)   \n",
       "3             1                           Toy Story (1995)   \n",
       "4             1                           Toy Story (1995)   \n",
       "...         ...                                        ...   \n",
       "100849   193581  Black Butler: Book of the Atlantic (2017)   \n",
       "100850   193583               No Game No Life: Zero (2017)   \n",
       "100851   193585                               Flint (2017)   \n",
       "100852   193587        Bungo Stray Dogs: Dead Apple (2018)   \n",
       "100853   193609        Andrew Dice Clay: Dice Rules (1991)   \n",
       "\n",
       "                                             genres  release_year   \n",
       "0       Adventure|Animation|Children|Comedy|Fantasy        1995.0  \\\n",
       "1       Adventure|Animation|Children|Comedy|Fantasy        1995.0   \n",
       "2       Adventure|Animation|Children|Comedy|Fantasy        1995.0   \n",
       "3       Adventure|Animation|Children|Comedy|Fantasy        1995.0   \n",
       "4       Adventure|Animation|Children|Comedy|Fantasy        1995.0   \n",
       "...                                             ...           ...   \n",
       "100849              Action|Animation|Comedy|Fantasy        2017.0   \n",
       "100850                     Animation|Comedy|Fantasy        2017.0   \n",
       "100851                                        Drama        2017.0   \n",
       "100852                             Action|Animation        2018.0   \n",
       "100853                                       Comedy        1991.0   \n",
       "\n",
       "        average_rating  rating_count  userId  rating           timestamp   \n",
       "0              3.92093         215.0     1.0     4.0 2000-07-30 18:45:03  \\\n",
       "1              3.92093         215.0     5.0     4.0 1996-11-08 06:36:02   \n",
       "2              3.92093         215.0     7.0     4.5 2005-01-25 06:52:26   \n",
       "3              3.92093         215.0    15.0     2.5 2017-11-13 12:59:30   \n",
       "4              3.92093         215.0    17.0     4.5 2011-05-18 05:28:03   \n",
       "...                ...           ...     ...     ...                 ...   \n",
       "100849         4.00000           1.0   184.0     4.0 2018-09-16 14:44:42   \n",
       "100850         3.50000           1.0   184.0     3.5 2018-09-16 14:52:25   \n",
       "100851         3.50000           1.0   184.0     3.5 2018-09-16 14:56:45   \n",
       "100852         3.50000           1.0   184.0     3.5 2018-09-16 15:00:21   \n",
       "100853         4.00000           1.0   331.0     4.0 2018-09-17 04:13:26   \n",
       "\n",
       "         timestamp_readable    year  \n",
       "0       2000-07-30 18:45:03  2000.0  \n",
       "1       1996-11-08 06:36:02  1996.0  \n",
       "2       2005-01-25 06:52:26  2005.0  \n",
       "3       2017-11-13 12:59:30  2017.0  \n",
       "4       2011-05-18 05:28:03  2011.0  \n",
       "...                     ...     ...  \n",
       "100849  2018-09-16 14:44:42  2018.0  \n",
       "100850  2018-09-16 14:52:25  2018.0  \n",
       "100851  2018-09-16 14:56:45  2018.0  \n",
       "100852  2018-09-16 15:00:21  2018.0  \n",
       "100853  2018-09-17 04:13:26  2018.0  \n",
       "\n",
       "[100805 rows x 11 columns]"
      ]
     },
     "execution_count": 57,
     "metadata": {},
     "output_type": "execute_result"
    }
   ],
   "source": [
    "df_merged"
   ]
  },
  {
   "cell_type": "code",
   "execution_count": 67,
   "id": "9581b601",
   "metadata": {
    "scrolled": false
   },
   "outputs": [
    {
     "name": "stdout",
     "output_type": "stream",
     "text": [
      "<class 'pandas.core.frame.DataFrame'>\n",
      "Index: 100805 entries, 0 to 100853\n",
      "Data columns (total 11 columns):\n",
      " #   Column              Non-Null Count   Dtype         \n",
      "---  ------              --------------   -----         \n",
      " 0   movieId             100805 non-null  int64         \n",
      " 1   title               100805 non-null  object        \n",
      " 2   genres              100805 non-null  object        \n",
      " 3   release_year        100805 non-null  float64       \n",
      " 4   average_rating      100805 non-null  float64       \n",
      " 5   rating_count        100805 non-null  float64       \n",
      " 6   userId              100805 non-null  float64       \n",
      " 7   rating              100805 non-null  float64       \n",
      " 8   timestamp           100805 non-null  datetime64[ns]\n",
      " 9   timestamp_readable  100805 non-null  object        \n",
      " 10  year                100805 non-null  float64       \n",
      "dtypes: datetime64[ns](1), float64(6), int64(1), object(3)\n",
      "memory usage: 9.2+ MB\n"
     ]
    }
   ],
   "source": [
    "df_merged.info()"
   ]
  },
  {
   "cell_type": "code",
   "execution_count": 68,
   "id": "92aa2a49",
   "metadata": {
    "scrolled": true
   },
   "outputs": [
    {
     "name": "stdout",
     "output_type": "stream",
     "text": [
      "Computing the cosine similarity matrix...\n",
      "Done computing similarity matrix.\n",
      "RMSE: 0.9650\n",
      "RMSE: 0.9650\n"
     ]
    }
   ],
   "source": [
    "from surprise import Dataset, Reader\n",
    "from surprise.model_selection import train_test_split\n",
    "from surprise import KNNBasic\n",
    "from surprise import accuracy\n",
    "\n",
    "\n",
    "\n",
    "# Create a Reader object\n",
    "reader = Reader(rating_scale=(1, 5))\n",
    "\n",
    "# Load the dataset using Surprise's Dataset class\n",
    "data = Dataset.load_from_df(df_merged[['userId', 'movieId', 'rating']], reader)\n",
    "\n",
    "# Split the dataset into a train and test set\n",
    "trainset, testset = train_test_split(data, test_size=0.2, random_state=42)\n",
    "\n",
    "# Build a collaborative filtering model (KNNBasic)\n",
    "sim_options = {\n",
    "    'name': 'cosine',  # Use cosine similarity\n",
    "    'user_based': True  # User-based collaborative filtering\n",
    "}\n",
    "\n",
    "model = KNNBasic(sim_options=sim_options)\n",
    "\n",
    "# Train the model on the training set\n",
    "model.fit(trainset)\n",
    "\n",
    "# Make predictions on the test set\n",
    "predictions = model.test(testset)\n",
    "\n",
    "# Evaluate the model (you can use RMSE or other metrics)\n",
    "rmse = accuracy.rmse(predictions)\n",
    "print(f'RMSE: {rmse:.4f}')\n"
   ]
  },
  {
   "cell_type": "markdown",
   "id": "29b32c8f",
   "metadata": {},
   "source": [
    "The RMSE value of 0.9650 auggests that, on average, the model's predicted ratings for movies in the tesr set differ from the actual ratings by about 0.9650 on a scale of 1 to 5. Lower RMSE values generally indicate better model performance, so this value suggests that the model is reasonably accurate in its movie recommendations. However, the specific interpretation of the RMSE value depends on the context and the desired level of accuracy for your recommendation system."
   ]
  },
  {
   "cell_type": "markdown",
   "id": "7e16faed",
   "metadata": {},
   "source": [
    "## Model 1 "
   ]
  },
  {
   "cell_type": "code",
   "execution_count": 70,
   "id": "2f30a33d",
   "metadata": {},
   "outputs": [],
   "source": [
    "import pandas as pd\n",
    "\n",
    "def create_user_movie_df(df_merged):\n",
    "    # Count the number of ratings for each movie\n",
    "    rating_counts = df_merged['title'].value_counts()\n",
    "\n",
    "    # Calculate the 90th percentile of rating counts\n",
    "    limit_90 = rating_counts.quantile(0.90)\n",
    "\n",
    "    # Filter out rare movies based on the 90th percentile\n",
    "    common_movies =  df_merged[df_merged.groupby('title')['title'].transform('count') > limit_90]\n",
    "\n",
    "    # Create a user-movie pivot table\n",
    "    user_movie_df = common_movies.pivot_table(index=\"userId\", columns='title', values=\"rating\")\n",
    "\n",
    "    return user_movie_df\n",
    "\n",
    "# # Call the function with your DataFrame 'df'\n",
    "# user_movie_df = create_user_movie_df(df_merged)\n",
    "\n",
    "# # Display the first few rows of the resulting user-movie DataFrame\n",
    "# user_movie_df.head()"
   ]
  },
  {
   "cell_type": "code",
   "execution_count": 71,
   "id": "022a5c76",
   "metadata": {},
   "outputs": [
    {
     "data": {
      "text/html": [
       "<div>\n",
       "<style scoped>\n",
       "    .dataframe tbody tr th:only-of-type {\n",
       "        vertical-align: middle;\n",
       "    }\n",
       "\n",
       "    .dataframe tbody tr th {\n",
       "        vertical-align: top;\n",
       "    }\n",
       "\n",
       "    .dataframe thead th {\n",
       "        text-align: right;\n",
       "    }\n",
       "</style>\n",
       "<table border=\"1\" class=\"dataframe\">\n",
       "  <thead>\n",
       "    <tr style=\"text-align: right;\">\n",
       "      <th>title</th>\n",
       "      <th>(500) Days of Summer (2009)</th>\n",
       "      <th>10 Things I Hate About You (1999)</th>\n",
       "      <th>101 Dalmatians (1996)</th>\n",
       "      <th>101 Dalmatians (One Hundred and One Dalmatians) (1961)</th>\n",
       "      <th>12 Angry Men (1957)</th>\n",
       "      <th>2001: A Space Odyssey (1968)</th>\n",
       "      <th>28 Days Later (2002)</th>\n",
       "      <th>300 (2007)</th>\n",
       "      <th>40-Year-Old Virgin, The (2005)</th>\n",
       "      <th>50 First Dates (2004)</th>\n",
       "      <th>...</th>\n",
       "      <th>X-Men: First Class (2011)</th>\n",
       "      <th>X-Men: The Last Stand (2006)</th>\n",
       "      <th>X2: X-Men United (2003)</th>\n",
       "      <th>Yes Man (2008)</th>\n",
       "      <th>You've Got Mail (1998)</th>\n",
       "      <th>Young Frankenstein (1974)</th>\n",
       "      <th>Zodiac (2007)</th>\n",
       "      <th>Zombieland (2009)</th>\n",
       "      <th>Zoolander (2001)</th>\n",
       "      <th>Zootopia (2016)</th>\n",
       "    </tr>\n",
       "    <tr>\n",
       "      <th>userId</th>\n",
       "      <th></th>\n",
       "      <th></th>\n",
       "      <th></th>\n",
       "      <th></th>\n",
       "      <th></th>\n",
       "      <th></th>\n",
       "      <th></th>\n",
       "      <th></th>\n",
       "      <th></th>\n",
       "      <th></th>\n",
       "      <th></th>\n",
       "      <th></th>\n",
       "      <th></th>\n",
       "      <th></th>\n",
       "      <th></th>\n",
       "      <th></th>\n",
       "      <th></th>\n",
       "      <th></th>\n",
       "      <th></th>\n",
       "      <th></th>\n",
       "      <th></th>\n",
       "    </tr>\n",
       "  </thead>\n",
       "  <tbody>\n",
       "    <tr>\n",
       "      <th>1.0</th>\n",
       "      <td>NaN</td>\n",
       "      <td>NaN</td>\n",
       "      <td>NaN</td>\n",
       "      <td>NaN</td>\n",
       "      <td>NaN</td>\n",
       "      <td>NaN</td>\n",
       "      <td>NaN</td>\n",
       "      <td>NaN</td>\n",
       "      <td>NaN</td>\n",
       "      <td>NaN</td>\n",
       "      <td>...</td>\n",
       "      <td>NaN</td>\n",
       "      <td>NaN</td>\n",
       "      <td>NaN</td>\n",
       "      <td>NaN</td>\n",
       "      <td>NaN</td>\n",
       "      <td>5.0</td>\n",
       "      <td>NaN</td>\n",
       "      <td>NaN</td>\n",
       "      <td>NaN</td>\n",
       "      <td>NaN</td>\n",
       "    </tr>\n",
       "    <tr>\n",
       "      <th>2.0</th>\n",
       "      <td>NaN</td>\n",
       "      <td>NaN</td>\n",
       "      <td>NaN</td>\n",
       "      <td>NaN</td>\n",
       "      <td>NaN</td>\n",
       "      <td>NaN</td>\n",
       "      <td>NaN</td>\n",
       "      <td>NaN</td>\n",
       "      <td>NaN</td>\n",
       "      <td>NaN</td>\n",
       "      <td>...</td>\n",
       "      <td>NaN</td>\n",
       "      <td>NaN</td>\n",
       "      <td>NaN</td>\n",
       "      <td>NaN</td>\n",
       "      <td>NaN</td>\n",
       "      <td>NaN</td>\n",
       "      <td>NaN</td>\n",
       "      <td>3.0</td>\n",
       "      <td>NaN</td>\n",
       "      <td>NaN</td>\n",
       "    </tr>\n",
       "    <tr>\n",
       "      <th>3.0</th>\n",
       "      <td>NaN</td>\n",
       "      <td>NaN</td>\n",
       "      <td>NaN</td>\n",
       "      <td>NaN</td>\n",
       "      <td>NaN</td>\n",
       "      <td>NaN</td>\n",
       "      <td>NaN</td>\n",
       "      <td>NaN</td>\n",
       "      <td>NaN</td>\n",
       "      <td>NaN</td>\n",
       "      <td>...</td>\n",
       "      <td>NaN</td>\n",
       "      <td>NaN</td>\n",
       "      <td>NaN</td>\n",
       "      <td>NaN</td>\n",
       "      <td>0.5</td>\n",
       "      <td>NaN</td>\n",
       "      <td>NaN</td>\n",
       "      <td>NaN</td>\n",
       "      <td>NaN</td>\n",
       "      <td>NaN</td>\n",
       "    </tr>\n",
       "    <tr>\n",
       "      <th>4.0</th>\n",
       "      <td>NaN</td>\n",
       "      <td>NaN</td>\n",
       "      <td>NaN</td>\n",
       "      <td>NaN</td>\n",
       "      <td>5.0</td>\n",
       "      <td>NaN</td>\n",
       "      <td>NaN</td>\n",
       "      <td>NaN</td>\n",
       "      <td>NaN</td>\n",
       "      <td>NaN</td>\n",
       "      <td>...</td>\n",
       "      <td>NaN</td>\n",
       "      <td>NaN</td>\n",
       "      <td>NaN</td>\n",
       "      <td>NaN</td>\n",
       "      <td>NaN</td>\n",
       "      <td>NaN</td>\n",
       "      <td>NaN</td>\n",
       "      <td>NaN</td>\n",
       "      <td>NaN</td>\n",
       "      <td>NaN</td>\n",
       "    </tr>\n",
       "    <tr>\n",
       "      <th>5.0</th>\n",
       "      <td>NaN</td>\n",
       "      <td>NaN</td>\n",
       "      <td>NaN</td>\n",
       "      <td>NaN</td>\n",
       "      <td>NaN</td>\n",
       "      <td>NaN</td>\n",
       "      <td>NaN</td>\n",
       "      <td>NaN</td>\n",
       "      <td>NaN</td>\n",
       "      <td>NaN</td>\n",
       "      <td>...</td>\n",
       "      <td>NaN</td>\n",
       "      <td>NaN</td>\n",
       "      <td>NaN</td>\n",
       "      <td>NaN</td>\n",
       "      <td>NaN</td>\n",
       "      <td>NaN</td>\n",
       "      <td>NaN</td>\n",
       "      <td>NaN</td>\n",
       "      <td>NaN</td>\n",
       "      <td>NaN</td>\n",
       "    </tr>\n",
       "  </tbody>\n",
       "</table>\n",
       "<p>5 rows × 933 columns</p>\n",
       "</div>"
      ],
      "text/plain": [
       "title   (500) Days of Summer (2009)  10 Things I Hate About You (1999)   \n",
       "userId                                                                   \n",
       "1.0                             NaN                                NaN  \\\n",
       "2.0                             NaN                                NaN   \n",
       "3.0                             NaN                                NaN   \n",
       "4.0                             NaN                                NaN   \n",
       "5.0                             NaN                                NaN   \n",
       "\n",
       "title   101 Dalmatians (1996)   \n",
       "userId                          \n",
       "1.0                       NaN  \\\n",
       "2.0                       NaN   \n",
       "3.0                       NaN   \n",
       "4.0                       NaN   \n",
       "5.0                       NaN   \n",
       "\n",
       "title   101 Dalmatians (One Hundred and One Dalmatians) (1961)   \n",
       "userId                                                           \n",
       "1.0                                                   NaN       \\\n",
       "2.0                                                   NaN        \n",
       "3.0                                                   NaN        \n",
       "4.0                                                   NaN        \n",
       "5.0                                                   NaN        \n",
       "\n",
       "title   12 Angry Men (1957)  2001: A Space Odyssey (1968)   \n",
       "userId                                                      \n",
       "1.0                     NaN                           NaN  \\\n",
       "2.0                     NaN                           NaN   \n",
       "3.0                     NaN                           NaN   \n",
       "4.0                     5.0                           NaN   \n",
       "5.0                     NaN                           NaN   \n",
       "\n",
       "title   28 Days Later (2002)  300 (2007)  40-Year-Old Virgin, The (2005)   \n",
       "userId                                                                     \n",
       "1.0                      NaN         NaN                             NaN  \\\n",
       "2.0                      NaN         NaN                             NaN   \n",
       "3.0                      NaN         NaN                             NaN   \n",
       "4.0                      NaN         NaN                             NaN   \n",
       "5.0                      NaN         NaN                             NaN   \n",
       "\n",
       "title   50 First Dates (2004)  ...  X-Men: First Class (2011)   \n",
       "userId                         ...                              \n",
       "1.0                       NaN  ...                        NaN  \\\n",
       "2.0                       NaN  ...                        NaN   \n",
       "3.0                       NaN  ...                        NaN   \n",
       "4.0                       NaN  ...                        NaN   \n",
       "5.0                       NaN  ...                        NaN   \n",
       "\n",
       "title   X-Men: The Last Stand (2006)  X2: X-Men United (2003)  Yes Man (2008)   \n",
       "userId                                                                          \n",
       "1.0                              NaN                      NaN             NaN  \\\n",
       "2.0                              NaN                      NaN             NaN   \n",
       "3.0                              NaN                      NaN             NaN   \n",
       "4.0                              NaN                      NaN             NaN   \n",
       "5.0                              NaN                      NaN             NaN   \n",
       "\n",
       "title   You've Got Mail (1998)  Young Frankenstein (1974)  Zodiac (2007)   \n",
       "userId                                                                     \n",
       "1.0                        NaN                        5.0            NaN  \\\n",
       "2.0                        NaN                        NaN            NaN   \n",
       "3.0                        0.5                        NaN            NaN   \n",
       "4.0                        NaN                        NaN            NaN   \n",
       "5.0                        NaN                        NaN            NaN   \n",
       "\n",
       "title   Zombieland (2009)  Zoolander (2001)  Zootopia (2016)  \n",
       "userId                                                        \n",
       "1.0                   NaN               NaN              NaN  \n",
       "2.0                   3.0               NaN              NaN  \n",
       "3.0                   NaN               NaN              NaN  \n",
       "4.0                   NaN               NaN              NaN  \n",
       "5.0                   NaN               NaN              NaN  \n",
       "\n",
       "[5 rows x 933 columns]"
      ]
     },
     "execution_count": 71,
     "metadata": {},
     "output_type": "execute_result"
    }
   ],
   "source": [
    "# Call the function with your DataFrame \n",
    "user_movie_df = create_user_movie_df(df_merged)\n",
    "\n",
    "# Display the first few rows of the resulting user-movie DataFrame\n",
    "user_movie_df.head() "
   ]
  },
  {
   "cell_type": "code",
   "execution_count": 72,
   "id": "bcf45830",
   "metadata": {},
   "outputs": [],
   "source": [
    "# Define a function for choosing a random user from a user-movie DataFrame \n",
    "# It takes two arguments: User_movie_df and random_state (a seed for random number generation)\n",
    "def random_user_choose(user_movie_df, random_state):\n",
    "    \n",
    "    # Generate a random user by sampling one user ID from the index of user_movie_df\n",
    "    # Random_state is used to ensure reproducibility of the random selection.\n",
    "    random_user = int(pd.Series(user_movie_df.index).sample(1, random_state=random_state).values)\n",
    "    \n",
    "    \n",
    "    return random_user"
   ]
  },
  {
   "cell_type": "code",
   "execution_count": 74,
   "id": "50f84f94",
   "metadata": {},
   "outputs": [
    {
     "data": {
      "text/plain": [
       "475"
      ]
     },
     "execution_count": 74,
     "metadata": {},
     "output_type": "execute_result"
    }
   ],
   "source": [
    "# Call the random_user_choose function to select a random user.\n",
    "random_user = random_user_choose(user_movie_df, random_state=456)\n",
    "\n",
    "random_user"
   ]
  },
  {
   "cell_type": "markdown",
   "id": "17ebf4a5",
   "metadata": {},
   "source": [
    "Function for choosing a random movie-id"
   ]
  },
  {
   "cell_type": "code",
   "execution_count": 75,
   "id": "36061c01",
   "metadata": {},
   "outputs": [
    {
     "data": {
      "text/plain": [
       "'101 Dalmatians (1996)'"
      ]
     },
     "execution_count": 75,
     "metadata": {},
     "output_type": "execute_result"
    }
   ],
   "source": [
    "# Ensure 'random_movie_id' is a valid movie ID or select a valid one\n",
    "valid_movie_ids = user_movie_df.columns  # List of valid movie IDs in your dataset\n",
    "\n",
    "# if random_movie_id not in valid_movie_ids:\n",
    "     # Select a random valid movie ID\n",
    "#     random_movie_id = random.choice(valid_movie_ids)\n",
    "valid_movie_ids[2]"
   ]
  },
  {
   "cell_type": "code",
   "execution_count": 76,
   "id": "10bdae79",
   "metadata": {},
   "outputs": [
    {
     "name": "stdout",
     "output_type": "stream",
     "text": [
      "Random User ID: 475\n",
      "Top Rated Movie ID: 260\n"
     ]
    }
   ],
   "source": [
    "def movie_id_actual(df_ratings, random_user):\n",
    "    # Filter the DataFrame to get ratings by the random user\n",
    "    user_ratings = df_ratings[df_ratings[\"userId\"] == random_user]\n",
    "    \n",
    "    if user_ratings.empty:\n",
    "        # If the user hasn't rated any movies, return None\n",
    "        return None\n",
    "    \n",
    "    # Find the movie with the highest rating among the user's rated movies\n",
    "    top_rated_movie_id = user_ratings[user_ratings[\"rating\"] == user_ratings[\"rating\"].max()][\"movieId\"].iloc[0]\n",
    "    \n",
    "    return top_rated_movie_id\n",
    "\n",
    "# Assuming you have df_ratings and random_user defined\n",
    "# Call the movie_id_actual function to select a movie ID for the random user\n",
    "random_movie_id = movie_id_actual(df_ratings, random_user)\n",
    "\n",
    "# Print the random user ID and movie ID\n",
    "print(f\"Random User ID: {random_user}\")\n",
    "print(f\"Top Rated Movie ID: {random_movie_id}\")"
   ]
  },
  {
   "cell_type": "code",
   "execution_count": 77,
   "id": "aab8b604",
   "metadata": {},
   "outputs": [
    {
     "data": {
      "text/plain": [
       "260"
      ]
     },
     "execution_count": 77,
     "metadata": {},
     "output_type": "execute_result"
    }
   ],
   "source": [
    "random_movie_id"
   ]
  },
  {
   "cell_type": "code",
   "execution_count": 79,
   "id": "2c8a9cf8",
   "metadata": {},
   "outputs": [
    {
     "data": {
      "text/plain": [
       "'Star Wars: Episode IV - A New Hope (1977)'"
      ]
     },
     "execution_count": 79,
     "metadata": {},
     "output_type": "execute_result"
    }
   ],
   "source": [
    "def movie_id_name(dataframe, random_movie_id):\n",
    "    movie_name = dataframe[dataframe[\"movieId\"] == random_movie_id][[\"title\"]].values[0].tolist()\n",
    "    return movie_name[0]\n",
    "\n",
    "movie_name = movie_id_name(df_merged, random_movie_id)\n",
    "movie_name "
   ]
  },
  {
   "cell_type": "code",
   "execution_count": 80,
   "id": "7cdd05c0",
   "metadata": {},
   "outputs": [],
   "source": [
    "import random\n",
    "\n",
    "def item_based_recommender(movie_name, user_movie_df, random_user):\n",
    "    movie_name = user_movie_df[movie_name]\n",
    "    recommend_list = user_movie_df.corrwith(movie_name).sort_values(ascending=False).head(20)\n",
    "    recommend_list = recommend_list.reset_index()\n",
    "    recommend_list = recommend_list[\"title\"].tolist()\n",
    "    recommend_list\n",
    "\n",
    "    random_user_df = user_movie_df[user_movie_df.index == random_user]\n",
    "    random_user_movies_watched = random_user_df.columns[random_user_df.notna().any()].tolist()\n",
    "    random_user_movies_watched_df = user_movie_df[random_user_movies_watched]\n",
    "    random_user_movies_watched_df = random_user_movies_watched_df.columns.tolist()\n",
    "\n",
    "    movie_to_recommend = [i for i in random_user_movies_watched_df if i not in recommend_list]\n",
    "    movie_to_recommend = random.sample(movie_to_recommend, 5)\n",
    "    return movie_to_recommend"
   ]
  },
  {
   "cell_type": "code",
   "execution_count": 81,
   "id": "5457d237",
   "metadata": {},
   "outputs": [
    {
     "data": {
      "text/plain": [
       "['Matrix Revolutions, The (2003)',\n",
       " 'Me, Myself & Irene (2000)',\n",
       " 'Incredibles, The (2004)',\n",
       " 'Back to the Future (1985)',\n",
       " 'Mad Max: Fury Road (2015)']"
      ]
     },
     "execution_count": 81,
     "metadata": {},
     "output_type": "execute_result"
    }
   ],
   "source": [
    "item_based_recommender(movie_name, user_movie_df, random_user)"
   ]
  },
  {
   "cell_type": "code",
   "execution_count": 86,
   "id": "7466884c",
   "metadata": {},
   "outputs": [
    {
     "name": "stdout",
     "output_type": "stream",
     "text": [
      "Predicted rating for movie ID 78: 3.6563992637979434\n"
     ]
    }
   ],
   "source": [
    "from surprise import Dataset, Reader\n",
    "from surprise.model_selection import train_test_split\n",
    "from surprise import SVD \n",
    "\n",
    "# Load your data into Surprise format\n",
    "reader = Reader(rating_scale=(0.5, 5.0))\n",
    "\n",
    "# Assuming you have a DataFrame named 'df_merged' with columns 'userId', 'movieId', and 'rating'\n",
    "data = Dataset.load_from_df(df_merged[['userId', 'movieId', 'rating']], reader)\n",
    "\n",
    "# Split the data into train and test sets\n",
    "trainset, testset = train_test_split(data, test_size=0.2, random_state=42)\n",
    "\n",
    "# Define and train your recommendation model\n",
    "model = SVD()  \n",
    "model.fit(trainset)\n",
    "\n",
    "# Generate recommendations for a random user\n",
    "random_user = 37  # Replace with your random user ID\n",
    "movie_id_to_predict = 78  # Replace with the movie ID you want to predict\n",
    "\n",
    "# Predict the rating for a movie\n",
    "predicted_rating = model.predict(random_user, movie_id_to_predict).est\n",
    "print(f\"Predicted rating for movie ID {movie_id_to_predict}: {predicted_rating}\")\n"
   ]
  },
  {
   "cell_type": "markdown",
   "id": "7a5682bf",
   "metadata": {},
   "source": [
    "\n",
    "\n",
    "This value represents the predicted rating that the recommendation model (SVD) has assigned to a specific movie with the ID 78 for a random user (user ID 37). In this case, the predicted rating for movie ID 78 is approximately 3.6564 on a scale from 0.5 to 5.0. This rating suggests how much the model believes this user would like the movie."
   ]
  },
  {
   "cell_type": "code",
   "execution_count": 87,
   "id": "51836ee9",
   "metadata": {},
   "outputs": [
    {
     "name": "stdout",
     "output_type": "stream",
     "text": [
      "RMSE: 1.1534\n",
      "Root Mean Squared Error (RMSE) on the train set: 1.1534102847687902\n"
     ]
    }
   ],
   "source": [
    "from surprise import accuracy\n",
    "\n",
    "# Generate predictions on the train set manually\n",
    "train_predictions = []\n",
    "for user_id, movie_id, actual_rating in trainset.all_ratings():\n",
    "    predicted_rating = model.predict(user_id, movie_id).est\n",
    "    train_predictions.append((user_id, movie_id, actual_rating, predicted_rating, None))  # Add None as a placeholder for details\n",
    "\n",
    "# Calculate RMSE (Root Mean Squared Error) on the train set\n",
    "train_rmse = accuracy.rmse(train_predictions)\n",
    "print(f\"Root Mean Squared Error (RMSE) on the train set: {train_rmse}\")\n"
   ]
  },
  {
   "cell_type": "markdown",
   "id": "b95eb6d6",
   "metadata": {},
   "source": [
    "The RMSE (Root Mean Squared Error) of 1.1534 on the training dataset measures how well the recommendation model predicts user ratings. It quantifies the typical difference between the model's predicted ratings and the actual ratings for user-movie pairs in the training set, with lower values indicating better accuracy. In this case, the RMSE value of 1.1534 suggests that, on average, the model's predictions deviate from actual ratings by approximately 1.1534 units on a rating scale from 0.5 to 5.0. This indicates that the model performs relatively well in predicting user ratings based on the training data.\n",
    "\n",
    "\n",
    "\n",
    "\n"
   ]
  },
  {
   "cell_type": "code",
   "execution_count": 88,
   "id": "ff60bb7f",
   "metadata": {},
   "outputs": [
    {
     "name": "stdout",
     "output_type": "stream",
     "text": [
      "RMSE: 0.8702\n",
      "Root Mean Squared Error (RMSE) on the test set: 0.870188004135101\n"
     ]
    }
   ],
   "source": [
    "from surprise import accuracy\n",
    "\n",
    "# Step 5: Generate predictions on the test set\n",
    "predictions = model.test(testset)\n",
    "\n",
    "# Step 6: Calculate RMSE (Root Mean Squared Error)\n",
    "rmse = accuracy.rmse(predictions)\n",
    "print(f\"Root Mean Squared Error (RMSE) on the test set: {rmse}\")"
   ]
  },
  {
   "cell_type": "markdown",
   "id": "536c3e88",
   "metadata": {},
   "source": [
    "The RMSE (Root Mean Squared Error) of 0.8702 on the test dataset provides an assessment of how well the recommendation model generalizes to unseen data. It measures the average difference between the actual ratings and the predicted ratings for user-movie pairs in the test set. A lower RMSE value indicates better predictive accuracy. In this case, the RMSE value of 0.8702 suggests that, on average, the model's predictions on the test data deviate from the actual ratings by approximately 0.8702 units on a rating scale from 0.5 to 5.0. This indicates that the model performs quite well on unseen data, demonstrating its ability to make accurate movie rating predictions for users beyond the training dataset."
   ]
  },
  {
   "cell_type": "markdown",
   "id": "0b9049f4",
   "metadata": {},
   "source": [
    "### Hyperparametr tuning using GridSearchCV"
   ]
  },
  {
   "cell_type": "markdown",
   "id": "b604341e",
   "metadata": {},
   "source": [
    "For Grid Search (exhaustively searches all combinations):"
   ]
  },
  {
   "cell_type": "code",
   "execution_count": 93,
   "id": "166e546e",
   "metadata": {},
   "outputs": [],
   "source": [
    "param_grid = {\n",
    "    'n_factors': [50, 100, 150],\n",
    "    'reg_all': [0.02, 0.1, 0.2],\n",
    "    'lr_all': [0.002, 0.01, 0.02]\n",
    "}\n"
   ]
  },
  {
   "cell_type": "code",
   "execution_count": 94,
   "id": "f746bebe",
   "metadata": {},
   "outputs": [],
   "source": [
    "from surprise.model_selection import GridSearchCV\n",
    "\n",
    "grid_search = GridSearchCV(SVD, param_grid, measures=['rmse'], cv=5, n_jobs=-1)\n",
    "grid_search.fit(data)  # 'data' is the Surprise Dataset\n"
   ]
  },
  {
   "cell_type": "code",
   "execution_count": 95,
   "id": "6892659a",
   "metadata": {
    "scrolled": true
   },
   "outputs": [
    {
     "name": "stdout",
     "output_type": "stream",
     "text": [
      "Best RMSE: 0.8523654503277325\n",
      "Best Hyperparameters: {'n_factors': 150, 'reg_all': 0.1, 'lr_all': 0.02}\n"
     ]
    }
   ],
   "source": [
    "print(f\"Best RMSE: {grid_search.best_score['rmse']}\")\n",
    "print(f\"Best Hyperparameters: {grid_search.best_params['rmse']}\")\n"
   ]
  },
  {
   "cell_type": "markdown",
   "id": "6c0f63c6",
   "metadata": {},
   "source": [
    " The RMSE (Root Mean Squared Error) value of 0.8524 obtained from the grid search indicates how well our recommendation model is likely to perform in making accurate movie predictions. A lower RMSE value is desirable because it signifies that the predicted movie ratings are very close to the actual ratings provided by users."
   ]
  },
  {
   "cell_type": "markdown",
   "id": "20c32b49",
   "metadata": {},
   "source": [
    "The RMSE of 0.8524 tells us that, on average, the model's predicted ratings for movies in the test dataset differ from the actual ratings by about 0.8524 on a scale of 0.5 to 5.0. \n",
    "This level of accuracy is a positive sign, as it means our recommendation system is reasonably proficient at suggesting movies that align with users' preferences."
   ]
  },
  {
   "cell_type": "code",
   "execution_count": 97,
   "id": "b4a462b5",
   "metadata": {},
   "outputs": [],
   "source": [
    "from surprise.model_selection import RandomizedSearchCV\n",
    "\n",
    "random_search = RandomizedSearchCV(SVD, param_grid, measures=['rmse'], cv=5, n_jobs=-1, n_iter=10)\n",
    "random_search.fit(data)  # 'data' is the Surprise Dataset\n"
   ]
  },
  {
   "cell_type": "code",
   "execution_count": 99,
   "id": "5082e8d1",
   "metadata": {},
   "outputs": [
    {
     "name": "stdout",
     "output_type": "stream",
     "text": [
      "Best RMSE: 0.852308709996881\n",
      "Best Hyperparameters: {'n_factors': 150, 'reg_all': 0.1, 'lr_all': 0.02}\n"
     ]
    }
   ],
   "source": [
    "print(f\"Best RMSE: {random_search.best_score['rmse']}\")\n",
    "print(f\"Best Hyperparameters: {random_search.best_params['rmse']}\")"
   ]
  },
  {
   "cell_type": "markdown",
   "id": "8202bac1",
   "metadata": {},
   "source": [
    "Here we can see that the the random search cv with an RMSE of 0.852308709996881 perfoms better than the grid search cv with an RMSE of  0.8523654503277325 hence better rmse and a better recommendation system."
   ]
  },
  {
   "cell_type": "markdown",
   "id": "d4b835fb",
   "metadata": {},
   "source": [
    "Here are the recommended movies :\n",
    "    "
   ]
  },
  {
   "cell_type": "code",
   "execution_count": 100,
   "id": "3e0ae1aa",
   "metadata": {
    "scrolled": true
   },
   "outputs": [
    {
     "data": {
      "text/plain": [
       "['James and the Giant Peach (1996)',\n",
       " 'Mystery Science Theater 3000: The Movie (1996)',\n",
       " 'Batman (1989)',\n",
       " 'Willy Wonka & the Chocolate Factory (1971)',\n",
       " 'Outbreak (1995)']"
      ]
     },
     "execution_count": 100,
     "metadata": {},
     "output_type": "execute_result"
    }
   ],
   "source": [
    "item_based_recommender(movie_name, user_movie_df, random_user)"
   ]
  },
  {
   "cell_type": "markdown",
   "id": "c0211b2a",
   "metadata": {},
   "source": [
    "# Model Evaluation "
   ]
  },
  {
   "cell_type": "markdown",
   "id": "6761e245",
   "metadata": {},
   "source": [
    "## Baseline Model:\n",
    "\n",
    "`RMSE Result: 0.9650`\n",
    "\n",
    "Explanation: The RMSE of 0.9650 for the baseline model suggests that, on average, the model's predicted ratings for movies in the test set differ from the actual ratings by about 0.9650 on a scale of 1 to 5.\n",
    "\n",
    "\n",
    "Interpretation: While this RMSE value indicates that the baseline model provides reasonably accurate recommendations, it's important to note that the baseline model is not personalized and relies on popular or global statistics (e.g., mean ratings) to make recommendations. \n",
    "Therefore, it provides the same recommendations to all users and does not consider individual user preferences."
   ]
  },
  {
   "cell_type": "markdown",
   "id": "c806986f",
   "metadata": {},
   "source": [
    "## SVD Model (Matrix Factorization-Based Collaborative Filtering):\n",
    "\n",
    "RMSE Result: 0.8702\n",
    "Explanation: The RMSE of 0.8702 for the SVD model indicates that, on average, the model's predicted movie ratings for users in the test set differ from their actual ratings by about 0.8702 on a scale of 0.5 to 5.0.\n",
    "Interpretation: The SVD model, which is a matrix factorization-based collaborative filtering model, provides more personalized recommendations compared to the baseline model. It analyzes user-item interactions and learns latent factors to make predictions. The lower RMSE value suggests that the SVD model performs relatively well in predicting user ratings and offers improved movie recommendations tailored to individual user preferences.\n",
    "\n",
    "\n",
    "In summary, the SVD model outperforms the baseline model in terms of RMSE, indicating that it is better at making accurate movie rating predictions and providing more personalized recommendations to users based on their historical ratings and preferences.\n",
    "\n"
   ]
  },
  {
   "cell_type": "markdown",
   "id": "42c7008e",
   "metadata": {},
   "source": [
    "# Conclusion "
   ]
  },
  {
   "cell_type": "markdown",
   "id": "c0858fd0",
   "metadata": {},
   "source": [
    "Baseline Model:\n",
    "\n",
    "This model looks at how popular movies are overall, without considering what individual users might like.\n",
    "It's like suggesting movies that everyone tends to like.\n",
    "It did okay, with a score of around 0.9650. This means it's somewhat accurate in suggesting popular movies.\n",
    "\n"
   ]
  },
  {
   "cell_type": "markdown",
   "id": "484c96fc",
   "metadata": {},
   "source": [
    "SVD Collaborative Filtering Model:\n",
    "\n",
    "This is a fancier model that looks at what each user has liked in the past and tries to guess what they might like in the future.\n",
    "It makes personalized suggestions, tailored to each user.\n",
    "\n",
    "It did even better, with a score of around 0.8702. This means it's pretty good at predicting what users will like."
   ]
  },
  {
   "cell_type": "markdown",
   "id": "7c8c0ffd",
   "metadata": {},
   "source": [
    "Comparison and Insights:\n",
    "\n",
    "The fancy SVD model was much better than the basic one.\n",
    "The SVD model is great at understanding what each user prefers, so it gives better movie suggestions.\n"
   ]
  },
  {
   "cell_type": "markdown",
   "id": "95a938f0",
   "metadata": {},
   "source": [
    "We can tweak the SVD model's settings to see if it can do even better.\n",
    "Adding more info about movies and users could make the suggestions even smarter.\n",
    "We can create a user-friendly interface to make it easier for people to use the recommendation system.\n",
    "In conclusion, this project shows that using the SVD model is a smart way to recommend movies. It's like having a friend who knows exactly what kind of movies you like. If we want to make it even smarter, there are plenty of ways to do it in the future.\n"
   ]
  },
  {
   "cell_type": "markdown",
   "id": "0bda1f1f",
   "metadata": {},
   "source": [
    "# Recommendations "
   ]
  },
  {
   "cell_type": "markdown",
   "id": "5577b66f",
   "metadata": {},
   "source": [
    "Here are the recommendations for this project:\n",
    "    "
   ]
  },
  {
   "cell_type": "markdown",
   "id": "4f3fde4c",
   "metadata": {},
   "source": [
    "- Personalized Recommendations: \n",
    "If you want to suggest movies that people will love, go for models like SVD. \n",
    "They understand what each person likes and give better suggestions.\n",
    "\n",
    "\n",
    "- Popular Picks: \n",
    "It's also a good idea to suggest popular movies that most people like. Even if we don't know much about a user, these can be safe bets.\n",
    "\n",
    "- Checking Quality:\n",
    "Make sure the movie data is fresh and accurate. More data and better data quality mean better suggestions.\n",
    "\n",
    "- Easy Interface:\n",
    "Create a simple and user-friendly website or app where people can see movie suggestions. It should be easy to use and look nice.\n",
    "\n",
    "- Mix It Up: Don't just suggest the same kind of movies. Give a variety of genres to keep things interesting.\n",
    "\n",
    "\n",
    "- Testing Ideas: Try different ways of suggesting movies and see what people like best. It's like a science experiment to find the best way to suggest movies\n",
    "\n"
   ]
  },
  {
   "cell_type": "code",
   "execution_count": null,
   "id": "7b5f40e6",
   "metadata": {},
   "outputs": [],
   "source": []
  }
 ],
 "metadata": {
  "kernelspec": {
   "display_name": "Python 3 (ipykernel)",
   "language": "python",
   "name": "python3"
  },
  "language_info": {
   "codemirror_mode": {
    "name": "ipython",
    "version": 3
   },
   "file_extension": ".py",
   "mimetype": "text/x-python",
   "name": "python",
   "nbconvert_exporter": "python",
   "pygments_lexer": "ipython3",
   "version": "3.10.11"
  }
 },
 "nbformat": 4,
 "nbformat_minor": 5
}
